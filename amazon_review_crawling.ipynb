{
 "cells": [
  {
   "cell_type": "code",
   "execution_count": 1,
   "id": "d01e13e3",
   "metadata": {},
   "outputs": [],
   "source": [
    "import os\n",
    "import re\n",
    "import requests\n",
    "import time\n",
    "import math\n",
    "import pandas as pd\n",
    "from datetime import datetime\n",
    "from bs4 import BeautifulSoup as bs\n",
    "from selenium import webdriver as wd\n",
    "from selenium.webdriver.support.ui import WebDriverWait\n",
    "from selenium.webdriver.support import expected_conditions as EC\n",
    "from selenium.webdriver.common.by import By\n",
    "from selenium.webdriver.common.keys import Keys\n",
    "from selenium.webdriver.chrome.options import Options"
   ]
  },
  {
   "cell_type": "code",
   "execution_count": 2,
   "id": "13eb0e57",
   "metadata": {},
   "outputs": [],
   "source": [
    "category_list = [\n",
    "    'bath', 'bedding', 'cleaning_supplies', \n",
    "    'furniture', 'heating_cooling_airquality', 'home_storage_organization', \n",
    "    'irons_steamers', 'kids_home_store', 'kitchen_dining', \n",
    "    'lighting_ceiling_fans', 'party_supplies', 'seasonal_decor', \n",
    "    'vacuums_floor_care', 'wall_art'\n",
    "    ]"
   ]
  },
  {
   "cell_type": "code",
   "execution_count": 5,
   "id": "fb632004",
   "metadata": {},
   "outputs": [],
   "source": [
    "category = category_list[0]"
   ]
  },
  {
   "cell_type": "code",
   "execution_count": 7,
   "id": "c9261842",
   "metadata": {},
   "outputs": [
    {
     "data": {
      "text/plain": [
       "'furniture'"
      ]
     },
     "execution_count": 7,
     "metadata": {},
     "output_type": "execute_result"
    }
   ],
   "source": [
    "category"
   ]
  },
  {
   "cell_type": "code",
   "execution_count": 1,
   "id": "e821f3a7",
   "metadata": {
    "ExecuteTime": {
     "end_time": "2022-06-17T09:35:39.095767Z",
     "start_time": "2022-06-17T09:35:39.052812Z"
    }
   },
   "outputs": [],
   "source": [
    "def get_amazon_reviews(asin):\n",
    "    global titles, stars, dates, contents, reviewer, bs_obj\n",
    "    options=Options()\n",
    "    options.add_argument(\"--headless\")\n",
    "    options.add_argument(\"--window-size=1920x1080\")\n",
    "    options.add_argument(\"disable-gpu\")\n",
    "    options.add_argument(\"--lang=en\")\n",
    "    chrome_driver_path = \"\"\n",
    "    driver=wd.Chrome(executable_path=f'{chrome_driver_path}/chromedriver.exe', options=options)\n",
    "    \n",
    "    url=f'https://www.amazon.com/product-reviews/{asin}/ref=cm_cr_arp_d_viewopt_srt?ie=UTF8&reviewerType=all_reviews&sortBy=recent&pageNumber=1'\n",
    "\n",
    "    try:    \n",
    "        driver.get(url)\n",
    "    except Exception as e:\n",
    "        print('WebDriverException')\n",
    "        driver=wd.Chrome(executable_path=f'{chrome_driver_path}/chromedriver.exe', options=options)\n",
    "        driver.get(url)\n",
    "\n",
    "    driver.implicitly_wait(10)\n",
    "    res=driver.page_source\n",
    "    obj=bs(res,'html.parser')\n",
    "\n",
    "    rev=obj.select('#filter-info-section > div')[0].get_text().strip()\n",
    "\n",
    "    if '|' in rev:\n",
    "        rev = rev.split('|')[1]\n",
    "        rev = re.sub(r'[^0-9]', '', rev)\n",
    "    elif ', ' in rev:\n",
    "        rev = rev.split(', ')[1]\n",
    "        rev = re.sub(r'[^0-9]', '', rev)\n",
    "\n",
    "    titles=[]\n",
    "    stars=[]\n",
    "    dates=[]\n",
    "    contents=[]\n",
    "    reviewer = []\n",
    "\n",
    "    while len(titles)<int(rev):\n",
    "\n",
    "        time.sleep(3)\n",
    "        source=driver.page_source\n",
    "        bs_obj=bs(source,\"html.parser\")\n",
    "\n",
    "        for i in bs_obj.find(\"div\", {'id' :'cm_cr-review_list'}).findAll([\"span\", \"a\"],{'data-hook':'review-title'}):\n",
    "            titles.append(i.get_text().strip())\n",
    "\n",
    "        for c in bs_obj.findAll('div',{'class':'a-section review aok-relative'}):\n",
    "            reviewer.append(c.find(\"span\", class_=\"a-profile-name\").text)\n",
    "\n",
    "        for d in bs_obj.findAll('span',{'data-hook':'review-date'}):\n",
    "            dd=''.join(d.get_text().split(' '))\n",
    "            try:\n",
    "                dd = dd.replace('January','01').replace('February','02').replace('March','03').replace('April','04').replace('May','05').replace('June','06').replace('July','07').replace('August','08').replace('September','09').replace('October','10').replace('November','11').replace('December','12')\n",
    "            except Exception as e:\n",
    "                print (e)\n",
    "\n",
    "            dd=re.sub(r'[^0-9]', '', dd)\n",
    "            dates.append(dd)\n",
    "\n",
    "        for a in bs_obj.findAll('span',{'data-hook':'review-body'}):\n",
    "            contents.append(a.get_text().strip())\n",
    "\n",
    "        for u in bs_obj.findAll('i',{'data-hook':'review-star-rating'}):\n",
    "            stars.append(u.get_text()[0])\n",
    "\n",
    "        for u in bs_obj.findAll('i',{'data-hook':'cmps-review-star-rating'}):\n",
    "            stars.append(int(u.get_text()[0])) \n",
    "\n",
    "        if len(titles) == 100:\n",
    "            break\n",
    "\n",
    "        try:\n",
    "            driver.find_element(by=By.CSS_SELECTOR, value='#cm_cr-pagination_bar > ul > li.a-last > a').click()\n",
    "            time.sleep(1)\n",
    "        except Exception as e:\n",
    "            print (e)\n",
    "            break\n",
    "\n",
    "    driver.close()\n",
    "    driver.quit()        \n",
    "\n",
    "    df=pd.DataFrame({'Asin':f'{asin}','ID':reviewer,'Date':dates,'Rating':stars,\"Title\":titles, \"Body\":contents})\n",
    "\n",
    "    return df\n"
   ]
  },
  {
   "cell_type": "code",
   "execution_count": 2,
   "id": "1d4182a6",
   "metadata": {
    "ExecuteTime": {
     "end_time": "2022-06-17T02:23:19.687472Z",
     "start_time": "2022-06-17T02:23:19.677480Z"
    }
   },
   "outputs": [],
   "source": [
    "meta_route = \"\"\n",
    "df = pd.read_csv(f'{meta_route}/{category}.csv')"
   ]
  },
  {
   "cell_type": "code",
   "execution_count": 5,
   "id": "38c2ec7c",
   "metadata": {},
   "outputs": [],
   "source": [
    "review_route = \"\"\n",
    "category_folder = category"
   ]
  },
  {
   "cell_type": "code",
   "execution_count": 34,
   "id": "3faa8024",
   "metadata": {
    "ExecuteTime": {
     "end_time": "2022-06-17T10:43:41.707045Z",
     "start_time": "2022-06-17T09:35:42.000345Z"
    },
    "scrolled": true
   },
   "outputs": [
    {
     "name": "stderr",
     "output_type": "stream",
     "text": [
      "C:\\Users\\LIMDON~1\\AppData\\Local\\Temp/ipykernel_15088/398317649.py:26: DeprecationWarning: executable_path has been deprecated, please pass in a Service object\n",
      "  driver=wd.Chrome(executable_path = 'C:/bootcamp_final_project/chrome_driver/chromedriver.exe',options=options)\n"
     ]
    },
    {
     "name": "stdout",
     "output_type": "stream",
     "text": [
      "list index out of range\n",
      "B09WQZGGWV 시작\n",
      "전체 리뷰  1367  개\n",
      "전체  137 페이지\n",
      "B09WQZGGWV 끝\n",
      "리뷰 수집 완료 개수 : 1\n",
      "list index out of range\n",
      "list index out of range\n",
      "list index out of range\n",
      "list index out of range\n",
      "list index out of range\n",
      "list index out of range\n",
      "list index out of range\n",
      "list index out of range\n",
      "list index out of range\n",
      "list index out of range\n",
      "list index out of range\n",
      "list index out of range\n"
     ]
    }
   ],
   "source": [
    "review_cnt = 0\n",
    "for asin in df['Asin']:\n",
    "    try:\n",
    "        review_df = get_amazon_reviews(asin)\n",
    "        review_df.to_csv(f'{review_route}/{category_folder}/{asin}.csv', encoding='utf-8-sig', index=False)\n",
    "        review_cnt += 1\n",
    "        print(f'리뷰 수집 완료 개수 : {review_cnt}')\n",
    "    except Exception as e:\n",
    "        print(e)"
   ]
  }
 ],
 "metadata": {
  "kernelspec": {
   "display_name": "Python 3.9.7 ('base')",
   "language": "python",
   "name": "python3"
  },
  "language_info": {
   "codemirror_mode": {
    "name": "ipython",
    "version": 3
   },
   "file_extension": ".py",
   "mimetype": "text/x-python",
   "name": "python",
   "nbconvert_exporter": "python",
   "pygments_lexer": "ipython3",
   "version": "3.9.7"
  },
  "toc": {
   "base_numbering": 1,
   "nav_menu": {},
   "number_sections": true,
   "sideBar": true,
   "skip_h1_title": false,
   "title_cell": "Table of Contents",
   "title_sidebar": "Contents",
   "toc_cell": false,
   "toc_position": {},
   "toc_section_display": true,
   "toc_window_display": false
  },
  "varInspector": {
   "cols": {
    "lenName": 16,
    "lenType": 16,
    "lenVar": 40
   },
   "kernels_config": {
    "python": {
     "delete_cmd_postfix": "",
     "delete_cmd_prefix": "del ",
     "library": "var_list.py",
     "varRefreshCmd": "print(var_dic_list())"
    },
    "r": {
     "delete_cmd_postfix": ") ",
     "delete_cmd_prefix": "rm(",
     "library": "var_list.r",
     "varRefreshCmd": "cat(var_dic_list()) "
    }
   },
   "types_to_exclude": [
    "module",
    "function",
    "builtin_function_or_method",
    "instance",
    "_Feature"
   ],
   "window_display": false
  },
  "vscode": {
   "interpreter": {
    "hash": "1ef078467dd63487d90c66fda3d945ae0cf08fcbb11ad780475c9b39620e3c77"
   }
  }
 },
 "nbformat": 4,
 "nbformat_minor": 5
}
