{
 "cells": [
  {
   "cell_type": "code",
   "execution_count": 1,
   "id": "7288b0d1",
   "metadata": {
    "ExecuteTime": {
     "end_time": "2022-07-01T06:47:20.222789Z",
     "start_time": "2022-07-01T06:47:18.663901Z"
    }
   },
   "outputs": [],
   "source": [
    "import pandas as pd\n",
    "import numpy as np\n",
    "import os\n",
    "import glob\n",
    "import gc\n",
    "from itertools import islice\n",
    "from scipy.sparse import csr_matrix\n",
    "from sklearn.metrics.pairwise import cosine_similarity\n",
    "from sklearn.decomposition import TruncatedSVD\n",
    "from surprise import SVD, accuracy\n",
    "from surprise import Dataset, Reader\n",
    "from surprise.model_selection import cross_validate\n",
    "from surprise.model_selection.split import train_test_split"
   ]
  },
  {
   "cell_type": "markdown",
   "id": "e8bba0ea",
   "metadata": {},
   "source": [
    "\n",
    "# 데이터 준비\n",
    "## 제품 데이터 준비"
   ]
  },
  {
   "cell_type": "code",
   "execution_count": 38,
   "id": "5a9b9563",
   "metadata": {
    "ExecuteTime": {
     "end_time": "2022-07-01T06:47:20.447199Z",
     "start_time": "2022-07-01T06:47:20.223759Z"
    }
   },
   "outputs": [
    {
     "data": {
      "text/html": [
       "<div>\n",
       "<style scoped>\n",
       "    .dataframe tbody tr th:only-of-type {\n",
       "        vertical-align: middle;\n",
       "    }\n",
       "\n",
       "    .dataframe tbody tr th {\n",
       "        vertical-align: top;\n",
       "    }\n",
       "\n",
       "    .dataframe thead th {\n",
       "        text-align: right;\n",
       "    }\n",
       "</style>\n",
       "<table border=\"1\" class=\"dataframe\">\n",
       "  <thead>\n",
       "    <tr style=\"text-align: right;\">\n",
       "      <th></th>\n",
       "      <th>Name</th>\n",
       "      <th>Asin</th>\n",
       "      <th>Price</th>\n",
       "      <th>Link</th>\n",
       "      <th>Img</th>\n",
       "      <th>Category</th>\n",
       "    </tr>\n",
       "  </thead>\n",
       "  <tbody>\n",
       "    <tr>\n",
       "      <th>0</th>\n",
       "      <td>Sealy Baby - Stain Protection Waterproof Fitte...</td>\n",
       "      <td>B001FCK32C</td>\n",
       "      <td>$15.60</td>\n",
       "      <td>https://www.amazon.com/Sealy-Protection-Waterp...</td>\n",
       "      <td>NaN</td>\n",
       "      <td>Bedding</td>\n",
       "    </tr>\n",
       "    <tr>\n",
       "      <th>1</th>\n",
       "      <td>SafeRest Mattress Protector – Queen, Premium, ...</td>\n",
       "      <td>B003PWNH4Q</td>\n",
       "      <td>$37.99</td>\n",
       "      <td>https://www.amazon.com/SafeRest-Hypoallergenic...</td>\n",
       "      <td>NaN</td>\n",
       "      <td>Bedding</td>\n",
       "    </tr>\n",
       "    <tr>\n",
       "      <th>2</th>\n",
       "      <td>SafeRest Premium Hypoallergenic Bed Bug Proof ...</td>\n",
       "      <td>B003Q0U740</td>\n",
       "      <td>$11.11</td>\n",
       "      <td>https://www.amazon.com/SafeRest-Hypoallergenic...</td>\n",
       "      <td>NaN</td>\n",
       "      <td>Bedding</td>\n",
       "    </tr>\n",
       "    <tr>\n",
       "      <th>3</th>\n",
       "      <td>SafeRest Zippered Mattress Protector - Premium...</td>\n",
       "      <td>B004BAEF7E</td>\n",
       "      <td>$37.71</td>\n",
       "      <td>https://www.amazon.com/SafeRest-Premium-Zipper...</td>\n",
       "      <td>NaN</td>\n",
       "      <td>Bedding</td>\n",
       "    </tr>\n",
       "    <tr>\n",
       "      <th>4</th>\n",
       "      <td>Bed Band Not Made in China. 100% USA Worker As...</td>\n",
       "      <td>B004I3VDWY</td>\n",
       "      <td>$12.99</td>\n",
       "      <td>https://www.amazon.com/Bed-Band-Assembled-Susp...</td>\n",
       "      <td>NaN</td>\n",
       "      <td>Bedding</td>\n",
       "    </tr>\n",
       "    <tr>\n",
       "      <th>...</th>\n",
       "      <td>...</td>\n",
       "      <td>...</td>\n",
       "      <td>...</td>\n",
       "      <td>...</td>\n",
       "      <td>...</td>\n",
       "      <td>...</td>\n",
       "    </tr>\n",
       "    <tr>\n",
       "      <th>595</th>\n",
       "      <td>Neon Light Strip, Flexible Neon Rope Light 12v...</td>\n",
       "      <td>B09YYD728H</td>\n",
       "      <td>$29.99</td>\n",
       "      <td>https://www.amazon.com/Flexible-Freedom-Contro...</td>\n",
       "      <td>NaN</td>\n",
       "      <td>Seasonal_Decor</td>\n",
       "    </tr>\n",
       "    <tr>\n",
       "      <th>596</th>\n",
       "      <td>Ostritec Solar Outdoor Watering Can Lights, Wa...</td>\n",
       "      <td>B09ZHLMTXH</td>\n",
       "      <td>$29.99</td>\n",
       "      <td>https://www.amazon.com/Ostritec-Watering-Water...</td>\n",
       "      <td>NaN</td>\n",
       "      <td>Seasonal_Decor</td>\n",
       "    </tr>\n",
       "    <tr>\n",
       "      <th>597</th>\n",
       "      <td>ZUUKOO LIGHT Outdoor String Lights, RGB 48ft P...</td>\n",
       "      <td>B0B17FTDVV</td>\n",
       "      <td>$44.98</td>\n",
       "      <td>https://www.amazon.com/ZUUKOO-LIGHT-Waterproof...</td>\n",
       "      <td>NaN</td>\n",
       "      <td>Seasonal_Decor</td>\n",
       "    </tr>\n",
       "    <tr>\n",
       "      <th>598</th>\n",
       "      <td>Happy Juneteenth Banner，Africa American Indepe...</td>\n",
       "      <td>B0B1PM4WXP</td>\n",
       "      <td>$11.98</td>\n",
       "      <td>https://www.amazon.com/Juneteenth-Banner%EF%BC...</td>\n",
       "      <td>NaN</td>\n",
       "      <td>Seasonal_Decor</td>\n",
       "    </tr>\n",
       "    <tr>\n",
       "      <th>599</th>\n",
       "      <td>santabay Inflatable Pools, Kiddie Swimming Poo...</td>\n",
       "      <td>B0B3J6XJWM</td>\n",
       "      <td>$89.99</td>\n",
       "      <td>https://www.amazon.com/santabay-Inflatable-Swi...</td>\n",
       "      <td>NaN</td>\n",
       "      <td>Seasonal_Decor</td>\n",
       "    </tr>\n",
       "  </tbody>\n",
       "</table>\n",
       "<p>1648 rows × 6 columns</p>\n",
       "</div>"
      ],
      "text/plain": [
       "                                                  Name        Asin   Price  \\\n",
       "0    Sealy Baby - Stain Protection Waterproof Fitte...  B001FCK32C  $15.60   \n",
       "1    SafeRest Mattress Protector – Queen, Premium, ...  B003PWNH4Q  $37.99   \n",
       "2    SafeRest Premium Hypoallergenic Bed Bug Proof ...  B003Q0U740  $11.11   \n",
       "3    SafeRest Zippered Mattress Protector - Premium...  B004BAEF7E  $37.71   \n",
       "4    Bed Band Not Made in China. 100% USA Worker As...  B004I3VDWY  $12.99   \n",
       "..                                                 ...         ...     ...   \n",
       "595  Neon Light Strip, Flexible Neon Rope Light 12v...  B09YYD728H  $29.99   \n",
       "596  Ostritec Solar Outdoor Watering Can Lights, Wa...  B09ZHLMTXH  $29.99   \n",
       "597  ZUUKOO LIGHT Outdoor String Lights, RGB 48ft P...  B0B17FTDVV  $44.98   \n",
       "598  Happy Juneteenth Banner，Africa American Indepe...  B0B1PM4WXP  $11.98   \n",
       "599  santabay Inflatable Pools, Kiddie Swimming Poo...  B0B3J6XJWM  $89.99   \n",
       "\n",
       "                                                  Link  Img        Category  \n",
       "0    https://www.amazon.com/Sealy-Protection-Waterp...  NaN         Bedding  \n",
       "1    https://www.amazon.com/SafeRest-Hypoallergenic...  NaN         Bedding  \n",
       "2    https://www.amazon.com/SafeRest-Hypoallergenic...  NaN         Bedding  \n",
       "3    https://www.amazon.com/SafeRest-Premium-Zipper...  NaN         Bedding  \n",
       "4    https://www.amazon.com/Bed-Band-Assembled-Susp...  NaN         Bedding  \n",
       "..                                                 ...  ...             ...  \n",
       "595  https://www.amazon.com/Flexible-Freedom-Contro...  NaN  Seasonal_Decor  \n",
       "596  https://www.amazon.com/Ostritec-Watering-Water...  NaN  Seasonal_Decor  \n",
       "597  https://www.amazon.com/ZUUKOO-LIGHT-Waterproof...  NaN  Seasonal_Decor  \n",
       "598  https://www.amazon.com/Juneteenth-Banner%EF%BC...  NaN  Seasonal_Decor  \n",
       "599  https://www.amazon.com/santabay-Inflatable-Swi...  NaN  Seasonal_Decor  \n",
       "\n",
       "[1648 rows x 6 columns]"
      ]
     },
     "metadata": {},
     "output_type": "display_data"
    }
   ],
   "source": [
    "bedding_df = pd.read_csv('./data_storage/Bedding.csv')\n",
    "bedding_df['Category'] = 'Bedding'\n",
    "\n",
    "kids_df = pd.read_csv('./data_storage/Kids_Home_Store.csv')\n",
    "kids_df['Category'] = 'Kids_Home_Store'\n",
    "\n",
    "kitchen_df = pd.read_csv('./data_storage/Kitchen_Dining.csv')\n",
    "kitchen_df['Category'] = 'Kitchen_Dining'\n",
    "\n",
    "seasonal_df = pd.read_csv('./data_storage/Seasonal_Decor.csv')\n",
    "seasonal_df['Category'] = 'Seasonal_Decor'\n",
    "\n",
    "item_df = pd.concat([bedding_df, kids_df, kitchen_df, seasonal_df])\n",
    "\n",
    "# print('Item Dataframe')\n",
    "display(item_df)"
   ]
  },
  {
   "cell_type": "code",
   "execution_count": 39,
   "id": "4fa25d93",
   "metadata": {},
   "outputs": [
    {
     "data": {
      "text/plain": [
       "Name          0\n",
       "Asin          0\n",
       "Price         0\n",
       "Link          0\n",
       "Img         905\n",
       "Category      0\n",
       "dtype: int64"
      ]
     },
     "execution_count": 39,
     "metadata": {},
     "output_type": "execute_result"
    }
   ],
   "source": [
    "item_df.isnull().sum()"
   ]
  },
  {
   "cell_type": "markdown",
   "id": "f00d86f1",
   "metadata": {},
   "source": [
    "## 리뷰 데이터 준비\n",
    "### 리뷰 데이터 합치기"
   ]
  },
  {
   "cell_type": "code",
   "execution_count": 40,
   "id": "7b1aa64a",
   "metadata": {
    "ExecuteTime": {
     "end_time": "2022-07-01T06:47:21.946381Z",
     "start_time": "2022-07-01T06:47:20.450154Z"
    }
   },
   "outputs": [],
   "source": [
    "review_category_list = ['bedding', 'kids_home_store', 'kitchen_dining', 'seasonal_decor']\n",
    "\n",
    "for category in review_category_list:\n",
    "    files_joined = os.path.join('./reviews/{}'.format(category), '*.csv')\n",
    "    list_files = glob.glob(files_joined)\n",
    "\n",
    "\n"
   ]
  },
  {
   "cell_type": "code",
   "execution_count": 41,
   "id": "61c0dfea",
   "metadata": {},
   "outputs": [
    {
     "data": {
      "text/plain": [
       "'./reviews/bedding\\\\*.csv'"
      ]
     },
     "execution_count": 41,
     "metadata": {},
     "output_type": "execute_result"
    }
   ],
   "source": [
    "files_joined"
   ]
  },
  {
   "cell_type": "code",
   "execution_count": null,
   "id": "c0121cbc",
   "metadata": {},
   "outputs": [],
   "source": [
    "print(\"** multiple csv files -> a merged dataFrame **\")\n",
    "\n",
    "# join된 모든 파일 merge\n",
    "rating_df = pd.concat(map(pd.read_csv, list_files), ignore_index=True).drop('Unnamed: 0', axis=1)\n",
    "\n",
    "display(rating_df)"
   ]
  },
  {
   "cell_type": "markdown",
   "id": "99c27343",
   "metadata": {},
   "source": [
    "# 리뷰 데이터 정제"
   ]
  },
  {
   "cell_type": "code",
   "execution_count": 85,
   "id": "b44e0a01",
   "metadata": {
    "ExecuteTime": {
     "end_time": "2022-07-01T06:47:21.976302Z",
     "start_time": "2022-07-01T06:47:21.948376Z"
    }
   },
   "outputs": [
    {
     "name": "stdout",
     "output_type": "stream",
     "text": [
      "ID: 사용자 id \n",
      "Asin: Amazon Standard Identification Number \n",
      "Rating: 사용자 별점\n"
     ]
    },
    {
     "data": {
      "text/html": [
       "<div>\n",
       "<style scoped>\n",
       "    .dataframe tbody tr th:only-of-type {\n",
       "        vertical-align: middle;\n",
       "    }\n",
       "\n",
       "    .dataframe tbody tr th {\n",
       "        vertical-align: top;\n",
       "    }\n",
       "\n",
       "    .dataframe thead th {\n",
       "        text-align: right;\n",
       "    }\n",
       "</style>\n",
       "<table border=\"1\" class=\"dataframe\">\n",
       "  <thead>\n",
       "    <tr style=\"text-align: right;\">\n",
       "      <th></th>\n",
       "      <th>ID</th>\n",
       "      <th>Asin</th>\n",
       "      <th>Rating</th>\n",
       "    </tr>\n",
       "  </thead>\n",
       "  <tbody>\n",
       "    <tr>\n",
       "      <th>0</th>\n",
       "      <td>Chelsea Edwards</td>\n",
       "      <td>B001FCK32C</td>\n",
       "      <td>5</td>\n",
       "    </tr>\n",
       "    <tr>\n",
       "      <th>1</th>\n",
       "      <td>Atalanta</td>\n",
       "      <td>B001FCK32C</td>\n",
       "      <td>3</td>\n",
       "    </tr>\n",
       "    <tr>\n",
       "      <th>2</th>\n",
       "      <td>Marcos Chavez</td>\n",
       "      <td>B001FCK32C</td>\n",
       "      <td>5</td>\n",
       "    </tr>\n",
       "    <tr>\n",
       "      <th>3</th>\n",
       "      <td>Bonnie Barnette</td>\n",
       "      <td>B001FCK32C</td>\n",
       "      <td>5</td>\n",
       "    </tr>\n",
       "    <tr>\n",
       "      <th>4</th>\n",
       "      <td>Jess Ramos</td>\n",
       "      <td>B001FCK32C</td>\n",
       "      <td>5</td>\n",
       "    </tr>\n",
       "    <tr>\n",
       "      <th>...</th>\n",
       "      <td>...</td>\n",
       "      <td>...</td>\n",
       "      <td>...</td>\n",
       "    </tr>\n",
       "    <tr>\n",
       "      <th>40063</th>\n",
       "      <td>Joyce Byrne</td>\n",
       "      <td>B0B12WVHWG</td>\n",
       "      <td>3</td>\n",
       "    </tr>\n",
       "    <tr>\n",
       "      <th>40064</th>\n",
       "      <td>Carolyn Ellis</td>\n",
       "      <td>B0B12WVHWG</td>\n",
       "      <td>2</td>\n",
       "    </tr>\n",
       "    <tr>\n",
       "      <th>40065</th>\n",
       "      <td>Kellie Dragoo</td>\n",
       "      <td>B0B12WVHWG</td>\n",
       "      <td>1</td>\n",
       "    </tr>\n",
       "    <tr>\n",
       "      <th>40066</th>\n",
       "      <td>SARA</td>\n",
       "      <td>B0B12WVHWG</td>\n",
       "      <td>5</td>\n",
       "    </tr>\n",
       "    <tr>\n",
       "      <th>40067</th>\n",
       "      <td>Kindle Customer</td>\n",
       "      <td>B0B12WVHWG</td>\n",
       "      <td>1</td>\n",
       "    </tr>\n",
       "  </tbody>\n",
       "</table>\n",
       "<p>40068 rows × 3 columns</p>\n",
       "</div>"
      ],
      "text/plain": [
       "                    ID        Asin Rating\n",
       "0      Chelsea Edwards  B001FCK32C      5\n",
       "1             Atalanta  B001FCK32C      3\n",
       "2        Marcos Chavez  B001FCK32C      5\n",
       "3      Bonnie Barnette  B001FCK32C      5\n",
       "4           Jess Ramos  B001FCK32C      5\n",
       "...                ...         ...    ...\n",
       "40063      Joyce Byrne  B0B12WVHWG      3\n",
       "40064    Carolyn Ellis  B0B12WVHWG      2\n",
       "40065    Kellie Dragoo  B0B12WVHWG      1\n",
       "40066             SARA  B0B12WVHWG      5\n",
       "40067  Kindle Customer  B0B12WVHWG      1\n",
       "\n",
       "[40068 rows x 3 columns]"
      ]
     },
     "metadata": {},
     "output_type": "display_data"
    }
   ],
   "source": [
    "# rating_df = rating_df[['ID', 'Asin', 'Rating']]\n",
    "\n",
    "# print(\"ID: 사용자 id\",\"\\nAsin: Amazon Standard Identification Number\", \"\\nRating: 사용자 별점\")\n",
    "\n",
    "# display(rating_df)"
   ]
  },
  {
   "cell_type": "code",
   "execution_count": 11,
   "id": "46e010c9",
   "metadata": {},
   "outputs": [
    {
     "data": {
      "text/plain": [
       "(40068, 6)"
      ]
     },
     "execution_count": 11,
     "metadata": {},
     "output_type": "execute_result"
    }
   ],
   "source": [
    "rating_df.shape"
   ]
  },
  {
   "cell_type": "code",
   "execution_count": 12,
   "id": "aba7f6c1",
   "metadata": {},
   "outputs": [
    {
     "data": {
      "text/plain": [
       "Asin        0\n",
       "ID          2\n",
       "Date        0\n",
       "Rating      0\n",
       "Title       8\n",
       "Body      155\n",
       "dtype: int64"
      ]
     },
     "execution_count": 12,
     "metadata": {},
     "output_type": "execute_result"
    }
   ],
   "source": [
    "rating_df.isnull().sum()"
   ]
  },
  {
   "cell_type": "code",
   "execution_count": 13,
   "id": "1fc9ab39",
   "metadata": {},
   "outputs": [
    {
     "data": {
      "text/plain": [
       "(40066, 6)"
      ]
     },
     "execution_count": 13,
     "metadata": {},
     "output_type": "execute_result"
    }
   ],
   "source": [
    "rating_df = rating_df.dropna(subset=['ID'])\n",
    "rating_df.shape"
   ]
  },
  {
   "cell_type": "markdown",
   "id": "5cf031cd",
   "metadata": {},
   "source": [
    "## 유저 ID에 고유한 number 부여"
   ]
  },
  {
   "cell_type": "code",
   "execution_count": 14,
   "id": "2af230cd",
   "metadata": {
    "ExecuteTime": {
     "end_time": "2022-07-01T06:47:22.006220Z",
     "start_time": "2022-07-01T06:47:21.979301Z"
    }
   },
   "outputs": [],
   "source": [
    "id_list = list(set(rating_df['ID']))"
   ]
  },
  {
   "cell_type": "code",
   "execution_count": 15,
   "id": "d6327b9d",
   "metadata": {},
   "outputs": [],
   "source": [
    "id_number_dict = {}\n",
    "\n",
    "for idx, id in enumerate(id_list):\n",
    "    id_number_dict[id] = idx"
   ]
  },
  {
   "cell_type": "code",
   "execution_count": 16,
   "id": "de0453fe",
   "metadata": {},
   "outputs": [
    {
     "name": "stdout",
     "output_type": "stream",
     "text": [
      "id_number_dict 10개만 확인\n"
     ]
    },
    {
     "data": {
      "text/plain": [
       "{'clb': 0,\n",
       " 'Anton Krilloff': 1,\n",
       " 'A Jackson': 2,\n",
       " 'Hope90': 3,\n",
       " 'Mary P. Boutte': 4,\n",
       " 'David Roach': 5,\n",
       " 'A. Corona': 6,\n",
       " 'MelanieB': 7,\n",
       " 'Nashwin': 8,\n",
       " 'Amy Bettasso': 9}"
      ]
     },
     "metadata": {},
     "output_type": "display_data"
    }
   ],
   "source": [
    "print(\"id_number_dict 10개만 확인\")\n",
    "display(dict(islice(id_number_dict.items(), 10)))"
   ]
  },
  {
   "cell_type": "code",
   "execution_count": 17,
   "id": "596cc778",
   "metadata": {
    "ExecuteTime": {
     "end_time": "2022-07-01T06:47:22.051098Z",
     "start_time": "2022-07-01T06:47:22.008216Z"
    }
   },
   "outputs": [],
   "source": [
    "id_number_list = []\n",
    "\n",
    "for id in rating_df['ID']:\n",
    "    id_number_list.append(id_number_dict.get(id))"
   ]
  },
  {
   "cell_type": "code",
   "execution_count": 18,
   "id": "2a9896c0",
   "metadata": {},
   "outputs": [
    {
     "name": "stdout",
     "output_type": "stream",
     "text": [
      "id_number_list 10개만 확인\n"
     ]
    },
    {
     "data": {
      "text/plain": [
       "[8804, 24100, 7837, 5142, 24675, 7340, 25544, 20762, 12197, 23132]"
      ]
     },
     "metadata": {},
     "output_type": "display_data"
    }
   ],
   "source": [
    "print(\"id_number_list 10개만 확인\")\n",
    "display(id_number_list[:10])"
   ]
  },
  {
   "cell_type": "code",
   "execution_count": 19,
   "id": "d1836756",
   "metadata": {
    "ExecuteTime": {
     "end_time": "2022-07-01T06:47:22.081020Z",
     "start_time": "2022-07-01T06:47:22.052098Z"
    }
   },
   "outputs": [
    {
     "data": {
      "text/html": [
       "<div>\n",
       "<style scoped>\n",
       "    .dataframe tbody tr th:only-of-type {\n",
       "        vertical-align: middle;\n",
       "    }\n",
       "\n",
       "    .dataframe tbody tr th {\n",
       "        vertical-align: top;\n",
       "    }\n",
       "\n",
       "    .dataframe thead th {\n",
       "        text-align: right;\n",
       "    }\n",
       "</style>\n",
       "<table border=\"1\" class=\"dataframe\">\n",
       "  <thead>\n",
       "    <tr style=\"text-align: right;\">\n",
       "      <th></th>\n",
       "      <th>Asin</th>\n",
       "      <th>ID</th>\n",
       "      <th>Date</th>\n",
       "      <th>Rating</th>\n",
       "      <th>Title</th>\n",
       "      <th>Body</th>\n",
       "      <th>User_Number</th>\n",
       "    </tr>\n",
       "  </thead>\n",
       "  <tbody>\n",
       "    <tr>\n",
       "      <th>0</th>\n",
       "      <td>B001FCK32C</td>\n",
       "      <td>Chelsea Edwards</td>\n",
       "      <td>5162022</td>\n",
       "      <td>5</td>\n",
       "      <td>Works perfect!</td>\n",
       "      <td>Exactly what I needed! Works perfect! Mattress...</td>\n",
       "      <td>8804</td>\n",
       "    </tr>\n",
       "    <tr>\n",
       "      <th>1</th>\n",
       "      <td>B001FCK32C</td>\n",
       "      <td>Atalanta</td>\n",
       "      <td>5102022</td>\n",
       "      <td>3</td>\n",
       "      <td>Fits well but not ideal</td>\n",
       "      <td>We bought an Ikea crib and Ikea has been out o...</td>\n",
       "      <td>24100</td>\n",
       "    </tr>\n",
       "    <tr>\n",
       "      <th>2</th>\n",
       "      <td>B001FCK32C</td>\n",
       "      <td>Marcos Chavez</td>\n",
       "      <td>482022</td>\n",
       "      <td>5</td>\n",
       "      <td>Nice &amp; Comfy Protection</td>\n",
       "      <td>Fits perfect for toddler mattress to add comfo...</td>\n",
       "      <td>7837</td>\n",
       "    </tr>\n",
       "    <tr>\n",
       "      <th>3</th>\n",
       "      <td>B001FCK32C</td>\n",
       "      <td>Bonnie Barnette</td>\n",
       "      <td>3132022</td>\n",
       "      <td>5</td>\n",
       "      <td>Good protection for crib matress</td>\n",
       "      <td>Great protection for crib matress</td>\n",
       "      <td>5142</td>\n",
       "    </tr>\n",
       "    <tr>\n",
       "      <th>4</th>\n",
       "      <td>B001FCK32C</td>\n",
       "      <td>Jess Ramos</td>\n",
       "      <td>3102022</td>\n",
       "      <td>5</td>\n",
       "      <td>Must Have</td>\n",
       "      <td>My son spits up quiet often and this helps to ...</td>\n",
       "      <td>24675</td>\n",
       "    </tr>\n",
       "  </tbody>\n",
       "</table>\n",
       "</div>"
      ],
      "text/plain": [
       "         Asin               ID     Date Rating  \\\n",
       "0  B001FCK32C  Chelsea Edwards  5162022      5   \n",
       "1  B001FCK32C         Atalanta  5102022      3   \n",
       "2  B001FCK32C    Marcos Chavez   482022      5   \n",
       "3  B001FCK32C  Bonnie Barnette  3132022      5   \n",
       "4  B001FCK32C       Jess Ramos  3102022      5   \n",
       "\n",
       "                              Title  \\\n",
       "0                    Works perfect!   \n",
       "1           Fits well but not ideal   \n",
       "2           Nice & Comfy Protection   \n",
       "3  Good protection for crib matress   \n",
       "4                         Must Have   \n",
       "\n",
       "                                                Body  User_Number  \n",
       "0  Exactly what I needed! Works perfect! Mattress...         8804  \n",
       "1  We bought an Ikea crib and Ikea has been out o...        24100  \n",
       "2  Fits perfect for toddler mattress to add comfo...         7837  \n",
       "3                  Great protection for crib matress         5142  \n",
       "4  My son spits up quiet often and this helps to ...        24675  "
      ]
     },
     "metadata": {},
     "output_type": "display_data"
    },
    {
     "name": "stdout",
     "output_type": "stream",
     "text": [
      "** rating_df info **\n",
      "<class 'pandas.core.frame.DataFrame'>\n",
      "Int64Index: 40066 entries, 0 to 40067\n",
      "Data columns (total 7 columns):\n",
      " #   Column       Non-Null Count  Dtype \n",
      "---  ------       --------------  ----- \n",
      " 0   Asin         40066 non-null  object\n",
      " 1   ID           40066 non-null  object\n",
      " 2   Date         40066 non-null  object\n",
      " 3   Rating       40066 non-null  object\n",
      " 4   Title        40058 non-null  object\n",
      " 5   Body         39911 non-null  object\n",
      " 6   User_Number  40066 non-null  int64 \n",
      "dtypes: int64(1), object(6)\n",
      "memory usage: 2.4+ MB\n",
      "None\n"
     ]
    }
   ],
   "source": [
    "rating_df['User_Number'] = id_number_list\n",
    "\n",
    "display(rating_df.head())\n",
    "\n",
    "print('** rating_df info **')\n",
    "print(rating_df.info())"
   ]
  },
  {
   "cell_type": "markdown",
   "id": "e98b0b92",
   "metadata": {},
   "source": [
    "## Asin에 고유한 number 부여"
   ]
  },
  {
   "cell_type": "code",
   "execution_count": 20,
   "id": "79df1520",
   "metadata": {},
   "outputs": [],
   "source": [
    "asin_list = list(set(item_df['Asin']))"
   ]
  },
  {
   "cell_type": "code",
   "execution_count": 21,
   "id": "8340fb4e",
   "metadata": {
    "ExecuteTime": {
     "end_time": "2022-07-01T06:47:22.096013Z",
     "start_time": "2022-07-01T06:47:22.083013Z"
    }
   },
   "outputs": [],
   "source": [
    "asin_number_dict = {}\n",
    "\n",
    "for idx, asin in enumerate(asin_list):\n",
    "    asin_number_dict[asin] = idx"
   ]
  },
  {
   "cell_type": "code",
   "execution_count": 22,
   "id": "f7df3dde",
   "metadata": {},
   "outputs": [
    {
     "name": "stdout",
     "output_type": "stream",
     "text": [
      "asin_number_dict 10개만 확인\n"
     ]
    },
    {
     "data": {
      "text/plain": [
       "{'B01L2XGRSC': 0,\n",
       " 'B078R3NDPH': 1,\n",
       " 'B07TSN5YRM': 2,\n",
       " 'B01LBMPWVC': 3,\n",
       " 'B081V5MV2K': 4,\n",
       " 'B098Q2J57Q': 5,\n",
       " 'B073DK9B83': 6,\n",
       " 'B011U1LIK8': 7,\n",
       " 'B07S242M8D': 8,\n",
       " 'B01ARJ7SBM': 9}"
      ]
     },
     "metadata": {},
     "output_type": "display_data"
    }
   ],
   "source": [
    "print(\"asin_number_dict 10개만 확인\")\n",
    "display(dict(islice(asin_number_dict.items(), 10)))"
   ]
  },
  {
   "cell_type": "code",
   "execution_count": 23,
   "id": "eb6c4f03",
   "metadata": {
    "ExecuteTime": {
     "end_time": "2022-07-01T06:47:22.142406Z",
     "start_time": "2022-07-01T06:47:22.100478Z"
    }
   },
   "outputs": [],
   "source": [
    "asin_number_list = []\n",
    "\n",
    "for asin in rating_df['Asin']:\n",
    "    asin_number_list.append(asin_number_dict.get(asin))"
   ]
  },
  {
   "cell_type": "code",
   "execution_count": 111,
   "id": "e79a134a",
   "metadata": {},
   "outputs": [],
   "source": [
    "rating_df['Asin_Number'] = asin_number_list"
   ]
  },
  {
   "cell_type": "code",
   "execution_count": 116,
   "id": "53e1325f",
   "metadata": {},
   "outputs": [
    {
     "name": "stdout",
     "output_type": "stream",
     "text": [
      "** rating_df Dataframe **\n"
     ]
    },
    {
     "data": {
      "text/html": [
       "<div>\n",
       "<style scoped>\n",
       "    .dataframe tbody tr th:only-of-type {\n",
       "        vertical-align: middle;\n",
       "    }\n",
       "\n",
       "    .dataframe tbody tr th {\n",
       "        vertical-align: top;\n",
       "    }\n",
       "\n",
       "    .dataframe thead th {\n",
       "        text-align: right;\n",
       "    }\n",
       "</style>\n",
       "<table border=\"1\" class=\"dataframe\">\n",
       "  <thead>\n",
       "    <tr style=\"text-align: right;\">\n",
       "      <th></th>\n",
       "      <th>ID</th>\n",
       "      <th>Asin</th>\n",
       "      <th>Rating</th>\n",
       "      <th>User_Number</th>\n",
       "      <th>Asin_Number</th>\n",
       "    </tr>\n",
       "  </thead>\n",
       "  <tbody>\n",
       "    <tr>\n",
       "      <th>0</th>\n",
       "      <td>Chelsea Edwards</td>\n",
       "      <td>B001FCK32C</td>\n",
       "      <td>5</td>\n",
       "      <td>7883</td>\n",
       "      <td>372</td>\n",
       "    </tr>\n",
       "    <tr>\n",
       "      <th>1</th>\n",
       "      <td>Atalanta</td>\n",
       "      <td>B001FCK32C</td>\n",
       "      <td>3</td>\n",
       "      <td>979</td>\n",
       "      <td>372</td>\n",
       "    </tr>\n",
       "    <tr>\n",
       "      <th>2</th>\n",
       "      <td>Marcos Chavez</td>\n",
       "      <td>B001FCK32C</td>\n",
       "      <td>5</td>\n",
       "      <td>24698</td>\n",
       "      <td>372</td>\n",
       "    </tr>\n",
       "    <tr>\n",
       "      <th>3</th>\n",
       "      <td>Bonnie Barnette</td>\n",
       "      <td>B001FCK32C</td>\n",
       "      <td>5</td>\n",
       "      <td>555</td>\n",
       "      <td>372</td>\n",
       "    </tr>\n",
       "    <tr>\n",
       "      <th>4</th>\n",
       "      <td>Jess Ramos</td>\n",
       "      <td>B001FCK32C</td>\n",
       "      <td>5</td>\n",
       "      <td>3676</td>\n",
       "      <td>372</td>\n",
       "    </tr>\n",
       "  </tbody>\n",
       "</table>\n",
       "</div>"
      ],
      "text/plain": [
       "                ID        Asin Rating  User_Number  Asin_Number\n",
       "0  Chelsea Edwards  B001FCK32C      5         7883          372\n",
       "1         Atalanta  B001FCK32C      3          979          372\n",
       "2    Marcos Chavez  B001FCK32C      5        24698          372\n",
       "3  Bonnie Barnette  B001FCK32C      5          555          372\n",
       "4       Jess Ramos  B001FCK32C      5         3676          372"
      ]
     },
     "metadata": {},
     "output_type": "display_data"
    },
    {
     "name": "stdout",
     "output_type": "stream",
     "text": [
      "\n",
      "** rating_df Information **\n",
      "<class 'pandas.core.frame.DataFrame'>\n",
      "Int64Index: 40066 entries, 0 to 40067\n",
      "Data columns (total 5 columns):\n",
      " #   Column       Non-Null Count  Dtype \n",
      "---  ------       --------------  ----- \n",
      " 0   ID           40066 non-null  object\n",
      " 1   Asin         40066 non-null  object\n",
      " 2   Rating       40066 non-null  object\n",
      " 3   User_Number  40066 non-null  int64 \n",
      " 4   Asin_Number  40066 non-null  int64 \n",
      "dtypes: int64(2), object(3)\n",
      "memory usage: 1.8+ MB\n"
     ]
    },
    {
     "data": {
      "text/plain": [
       "None"
      ]
     },
     "metadata": {},
     "output_type": "display_data"
    }
   ],
   "source": [
    "print('** rating_df Dataframe **')\n",
    "display(rating_df.head())\n",
    "\n",
    "print('\\n** rating_df Information **')\n",
    "display(rating_df.info())"
   ]
  },
  {
   "cell_type": "code",
   "execution_count": 118,
   "id": "bdc8f0a7",
   "metadata": {
    "ExecuteTime": {
     "end_time": "2022-07-01T06:47:22.202213Z",
     "start_time": "2022-07-01T06:47:22.174282Z"
    }
   },
   "outputs": [
    {
     "name": "stdout",
     "output_type": "stream",
     "text": [
      "** item_df Dataframe **\n"
     ]
    },
    {
     "data": {
      "text/html": [
       "<div>\n",
       "<style scoped>\n",
       "    .dataframe tbody tr th:only-of-type {\n",
       "        vertical-align: middle;\n",
       "    }\n",
       "\n",
       "    .dataframe tbody tr th {\n",
       "        vertical-align: top;\n",
       "    }\n",
       "\n",
       "    .dataframe thead th {\n",
       "        text-align: right;\n",
       "    }\n",
       "</style>\n",
       "<table border=\"1\" class=\"dataframe\">\n",
       "  <thead>\n",
       "    <tr style=\"text-align: right;\">\n",
       "      <th></th>\n",
       "      <th>Asin</th>\n",
       "      <th>Category</th>\n",
       "      <th>Asin_Number</th>\n",
       "    </tr>\n",
       "  </thead>\n",
       "  <tbody>\n",
       "    <tr>\n",
       "      <th>0</th>\n",
       "      <td>B001FCK32C</td>\n",
       "      <td>bedding</td>\n",
       "      <td>372</td>\n",
       "    </tr>\n",
       "    <tr>\n",
       "      <th>1</th>\n",
       "      <td>B003PWNH4Q</td>\n",
       "      <td>bedding</td>\n",
       "      <td>234</td>\n",
       "    </tr>\n",
       "    <tr>\n",
       "      <th>2</th>\n",
       "      <td>B003Q0U740</td>\n",
       "      <td>bedding</td>\n",
       "      <td>100</td>\n",
       "    </tr>\n",
       "    <tr>\n",
       "      <th>3</th>\n",
       "      <td>B004BAEF7E</td>\n",
       "      <td>bedding</td>\n",
       "      <td>388</td>\n",
       "    </tr>\n",
       "    <tr>\n",
       "      <th>4</th>\n",
       "      <td>B004I3VDWY</td>\n",
       "      <td>bedding</td>\n",
       "      <td>290</td>\n",
       "    </tr>\n",
       "  </tbody>\n",
       "</table>\n",
       "</div>"
      ],
      "text/plain": [
       "         Asin Category  Asin_Number\n",
       "0  B001FCK32C  bedding          372\n",
       "1  B003PWNH4Q  bedding          234\n",
       "2  B003Q0U740  bedding          100\n",
       "3  B004BAEF7E  bedding          388\n",
       "4  B004I3VDWY  bedding          290"
      ]
     },
     "metadata": {},
     "output_type": "display_data"
    },
    {
     "name": "stdout",
     "output_type": "stream",
     "text": [
      "\n",
      "** item_df Information **\n",
      "<class 'pandas.core.frame.DataFrame'>\n",
      "RangeIndex: 435 entries, 0 to 434\n",
      "Data columns (total 3 columns):\n",
      " #   Column       Non-Null Count  Dtype \n",
      "---  ------       --------------  ----- \n",
      " 0   Asin         435 non-null    object\n",
      " 1   Category     435 non-null    object\n",
      " 2   Asin_Number  435 non-null    int64 \n",
      "dtypes: int64(1), object(2)\n",
      "memory usage: 10.3+ KB\n"
     ]
    },
    {
     "data": {
      "text/plain": [
       "None"
      ]
     },
     "metadata": {},
     "output_type": "display_data"
    }
   ],
   "source": [
    "asin_number_list2 = []\n",
    "\n",
    "for i in item_df['Asin']:\n",
    "    asin_number_list2.append(asin_number_dict.get(i))\n",
    "    \n",
    "item_df['Asin_Number'] = asin_number_list2\n",
    "\n",
    "print('** item_df Dataframe **')\n",
    "display(item_df.head())\n",
    "\n",
    "print('\\n** item_df Information **')\n",
    "display(item_df.info())"
   ]
  },
  {
   "cell_type": "code",
   "execution_count": null,
   "id": "f1df0de7",
   "metadata": {},
   "outputs": [],
   "source": []
  },
  {
   "cell_type": "markdown",
   "id": "ca096321",
   "metadata": {},
   "source": [
    "# 추천 알고리즘"
   ]
  },
  {
   "cell_type": "markdown",
   "id": "d235dfdc",
   "metadata": {},
   "source": [
    "## 추천 제품 개수"
   ]
  },
  {
   "cell_type": "code",
   "execution_count": 122,
   "id": "bc856b93",
   "metadata": {
    "ExecuteTime": {
     "end_time": "2022-07-01T06:47:22.217173Z",
     "start_time": "2022-07-01T06:47:22.203211Z"
    }
   },
   "outputs": [],
   "source": [
    "topK = 5"
   ]
  },
  {
   "cell_type": "markdown",
   "id": "f880e8f7",
   "metadata": {},
   "source": [
    "### 인기 기반 구현 Popular Based\n",
    "- 가중 등급 시스템(weighted rating)\n",
    "- WR = ( (v / (v + m)) * R) + ( (m / (v + m)) * C )\n",
    "\n",
    "- R: 아이템의 평균 rating\n",
    "\n",
    "- v: 아이템에 투표한 수\n",
    "\n",
    "- m: 인기 항목에 나열되는 데 필요한 최소 투표수\n",
    "\n",
    "- C: 전체 데이터셋을 통해서 얻은 평균 rating"
   ]
  },
  {
   "cell_type": "code",
   "execution_count": 126,
   "id": "ad763aa9",
   "metadata": {
    "ExecuteTime": {
     "end_time": "2022-07-01T06:47:22.338375Z",
     "start_time": "2022-07-01T06:47:22.219169Z"
    }
   },
   "outputs": [
    {
     "data": {
      "text/html": [
       "<div>\n",
       "<style scoped>\n",
       "    .dataframe tbody tr th:only-of-type {\n",
       "        vertical-align: middle;\n",
       "    }\n",
       "\n",
       "    .dataframe tbody tr th {\n",
       "        vertical-align: top;\n",
       "    }\n",
       "\n",
       "    .dataframe thead th {\n",
       "        text-align: right;\n",
       "    }\n",
       "</style>\n",
       "<table border=\"1\" class=\"dataframe\">\n",
       "  <thead>\n",
       "    <tr style=\"text-align: right;\">\n",
       "      <th></th>\n",
       "      <th>Asin</th>\n",
       "      <th>Category</th>\n",
       "      <th>voteCount</th>\n",
       "      <th>avg_rating</th>\n",
       "      <th>weightedRating</th>\n",
       "    </tr>\n",
       "  </thead>\n",
       "  <tbody>\n",
       "    <tr>\n",
       "      <th>0</th>\n",
       "      <td>B01LWQMM4V</td>\n",
       "      <td>bedding</td>\n",
       "      <td>100</td>\n",
       "      <td>4.92</td>\n",
       "      <td>4.441679</td>\n",
       "    </tr>\n",
       "    <tr>\n",
       "      <th>1</th>\n",
       "      <td>B09MDHDYYR</td>\n",
       "      <td>bedding</td>\n",
       "      <td>100</td>\n",
       "      <td>4.86</td>\n",
       "      <td>4.411679</td>\n",
       "    </tr>\n",
       "    <tr>\n",
       "      <th>2</th>\n",
       "      <td>B095PR8MM4</td>\n",
       "      <td>bedding</td>\n",
       "      <td>100</td>\n",
       "      <td>4.83</td>\n",
       "      <td>4.396679</td>\n",
       "    </tr>\n",
       "    <tr>\n",
       "      <th>3</th>\n",
       "      <td>B08H4KJPV7</td>\n",
       "      <td>bedding</td>\n",
       "      <td>100</td>\n",
       "      <td>4.82</td>\n",
       "      <td>4.391679</td>\n",
       "    </tr>\n",
       "    <tr>\n",
       "      <th>4</th>\n",
       "      <td>B07MJPNZWW</td>\n",
       "      <td>bedding</td>\n",
       "      <td>100</td>\n",
       "      <td>4.79</td>\n",
       "      <td>4.376679</td>\n",
       "    </tr>\n",
       "    <tr>\n",
       "      <th>5</th>\n",
       "      <td>B09Z2DJCML</td>\n",
       "      <td>bedding</td>\n",
       "      <td>100</td>\n",
       "      <td>4.75</td>\n",
       "      <td>4.356679</td>\n",
       "    </tr>\n",
       "    <tr>\n",
       "      <th>6</th>\n",
       "      <td>B08DDJ7BKP</td>\n",
       "      <td>bedding</td>\n",
       "      <td>100</td>\n",
       "      <td>4.73</td>\n",
       "      <td>4.346679</td>\n",
       "    </tr>\n",
       "    <tr>\n",
       "      <th>7</th>\n",
       "      <td>B07JG459R7</td>\n",
       "      <td>bedding</td>\n",
       "      <td>100</td>\n",
       "      <td>4.72</td>\n",
       "      <td>4.341679</td>\n",
       "    </tr>\n",
       "    <tr>\n",
       "      <th>8</th>\n",
       "      <td>B07WDFTL9F</td>\n",
       "      <td>bedding</td>\n",
       "      <td>100</td>\n",
       "      <td>4.70</td>\n",
       "      <td>4.331679</td>\n",
       "    </tr>\n",
       "    <tr>\n",
       "      <th>9</th>\n",
       "      <td>B01KG84CLI</td>\n",
       "      <td>bedding</td>\n",
       "      <td>100</td>\n",
       "      <td>4.69</td>\n",
       "      <td>4.326679</td>\n",
       "    </tr>\n",
       "  </tbody>\n",
       "</table>\n",
       "</div>"
      ],
      "text/plain": [
       "         Asin Category  voteCount  avg_rating  weightedRating\n",
       "0  B01LWQMM4V  bedding        100        4.92        4.441679\n",
       "1  B09MDHDYYR  bedding        100        4.86        4.411679\n",
       "2  B095PR8MM4  bedding        100        4.83        4.396679\n",
       "3  B08H4KJPV7  bedding        100        4.82        4.391679\n",
       "4  B07MJPNZWW  bedding        100        4.79        4.376679\n",
       "5  B09Z2DJCML  bedding        100        4.75        4.356679\n",
       "6  B08DDJ7BKP  bedding        100        4.73        4.346679\n",
       "7  B07JG459R7  bedding        100        4.72        4.341679\n",
       "8  B07WDFTL9F  bedding        100        4.70        4.331679\n",
       "9  B01KG84CLI  bedding        100        4.69        4.326679"
      ]
     },
     "execution_count": 126,
     "metadata": {},
     "output_type": "execute_result"
    }
   ],
   "source": [
    "def weighted_rating(v,m,R,C):\n",
    "    return ( (v / (v + m)) * R) + ( (m / (v + m)) * C )\n",
    "\n",
    "def assignPopularBasedScore(ratingDf, itemDf, userCol, itemCol, ratingCol):\n",
    "    # pre processing\n",
    "    voteCount = (\n",
    "        ratingDf\n",
    "        .groupby(itemCol,as_index=False)\n",
    "        .agg( {userCol:'count', ratingCol:'mean'} )\n",
    "        )\n",
    "    voteCount.columns = [itemCol, 'voteCount', 'avg_rating']\n",
    "    \n",
    "    # calcuate input parameters\n",
    "    C = np.mean(voteCount['avg_rating'])\n",
    "    m = np.percentile(voteCount['voteCount'], 70)\n",
    "    voteCount = voteCount[voteCount['voteCount'] >= m]\n",
    "    R = voteCount['avg_rating']\n",
    "    v = voteCount['voteCount']\n",
    "    voteCount['weightedRating'] = weightedRating(v,m,R,C)\n",
    "    \n",
    "    # post processing\n",
    "    voteCount = voteCount.merge(itemDf, on = [itemCol], how = 'left')\n",
    "    popular_items = voteCount.loc[:,[itemCol, 'Category', 'voteCount', 'avg_rating', 'weightedRating']]\n",
    "    \n",
    "    return popular_items\n",
    "\n",
    "# calcualte popularity based\n",
    "pop_items = assignPopularBasedScore(rating_df, item_df, 'ID', 'Asin', 'Rating')\n",
    "pop_items = pop_items.sort_values('weightedRating', ascending = False)\n",
    "\n",
    "pop_items.reset_index(drop=True).head(10)"
   ]
  },
  {
   "cell_type": "markdown",
   "id": "f211a190",
   "metadata": {},
   "source": [
    "# Content-based\n",
    "- 제품과 카테고리 기반 코사인 유사도를 계산해서 추천\n",
    "- 사용자가 원하는 content에 대해서 벡터화 -> 벡터화된 데이터로 유사도만 계산해주면 사용 가능\n",
    "\n",
    "- 근데 이거는 어차페 카테고리가 다 같아서 쓸모 없을 듯"
   ]
  },
  {
   "cell_type": "code",
   "execution_count": 128,
   "id": "baf86cee",
   "metadata": {
    "ExecuteTime": {
     "end_time": "2022-07-01T06:47:22.353336Z",
     "start_time": "2022-07-01T06:47:22.340371Z"
    }
   },
   "outputs": [
    {
     "data": {
      "text/html": [
       "<div>\n",
       "<style scoped>\n",
       "    .dataframe tbody tr th:only-of-type {\n",
       "        vertical-align: middle;\n",
       "    }\n",
       "\n",
       "    .dataframe tbody tr th {\n",
       "        vertical-align: top;\n",
       "    }\n",
       "\n",
       "    .dataframe thead th {\n",
       "        text-align: right;\n",
       "    }\n",
       "</style>\n",
       "<table border=\"1\" class=\"dataframe\">\n",
       "  <thead>\n",
       "    <tr style=\"text-align: right;\">\n",
       "      <th></th>\n",
       "      <th>Asin</th>\n",
       "      <th>Category</th>\n",
       "      <th>Asin_Number</th>\n",
       "    </tr>\n",
       "  </thead>\n",
       "  <tbody>\n",
       "    <tr>\n",
       "      <th>0</th>\n",
       "      <td>B001FCK32C</td>\n",
       "      <td>bedding</td>\n",
       "      <td>372</td>\n",
       "    </tr>\n",
       "    <tr>\n",
       "      <th>1</th>\n",
       "      <td>B003PWNH4Q</td>\n",
       "      <td>bedding</td>\n",
       "      <td>234</td>\n",
       "    </tr>\n",
       "    <tr>\n",
       "      <th>2</th>\n",
       "      <td>B003Q0U740</td>\n",
       "      <td>bedding</td>\n",
       "      <td>100</td>\n",
       "    </tr>\n",
       "    <tr>\n",
       "      <th>3</th>\n",
       "      <td>B004BAEF7E</td>\n",
       "      <td>bedding</td>\n",
       "      <td>388</td>\n",
       "    </tr>\n",
       "    <tr>\n",
       "      <th>4</th>\n",
       "      <td>B004I3VDWY</td>\n",
       "      <td>bedding</td>\n",
       "      <td>290</td>\n",
       "    </tr>\n",
       "  </tbody>\n",
       "</table>\n",
       "</div>"
      ],
      "text/plain": [
       "         Asin Category  Asin_Number\n",
       "0  B001FCK32C  bedding          372\n",
       "1  B003PWNH4Q  bedding          234\n",
       "2  B003Q0U740  bedding          100\n",
       "3  B004BAEF7E  bedding          388\n",
       "4  B004I3VDWY  bedding          290"
      ]
     },
     "execution_count": 128,
     "metadata": {},
     "output_type": "execute_result"
    }
   ],
   "source": [
    "item_df.head()"
   ]
  },
  {
   "cell_type": "code",
   "execution_count": 129,
   "id": "b0d0f913",
   "metadata": {
    "ExecuteTime": {
     "end_time": "2022-07-01T06:47:22.383257Z",
     "start_time": "2022-07-01T06:47:22.370290Z"
    }
   },
   "outputs": [
    {
     "data": {
      "text/html": [
       "<div>\n",
       "<style scoped>\n",
       "    .dataframe tbody tr th:only-of-type {\n",
       "        vertical-align: middle;\n",
       "    }\n",
       "\n",
       "    .dataframe tbody tr th {\n",
       "        vertical-align: top;\n",
       "    }\n",
       "\n",
       "    .dataframe thead th {\n",
       "        text-align: right;\n",
       "    }\n",
       "</style>\n",
       "<table border=\"1\" class=\"dataframe\">\n",
       "  <thead>\n",
       "    <tr style=\"text-align: right;\">\n",
       "      <th></th>\n",
       "      <th>ID</th>\n",
       "      <th>Asin</th>\n",
       "      <th>Rating</th>\n",
       "      <th>User_Number</th>\n",
       "      <th>Asin_Number</th>\n",
       "    </tr>\n",
       "  </thead>\n",
       "  <tbody>\n",
       "    <tr>\n",
       "      <th>0</th>\n",
       "      <td>Chelsea Edwards</td>\n",
       "      <td>B001FCK32C</td>\n",
       "      <td>5</td>\n",
       "      <td>7883</td>\n",
       "      <td>372</td>\n",
       "    </tr>\n",
       "    <tr>\n",
       "      <th>1</th>\n",
       "      <td>Atalanta</td>\n",
       "      <td>B001FCK32C</td>\n",
       "      <td>3</td>\n",
       "      <td>979</td>\n",
       "      <td>372</td>\n",
       "    </tr>\n",
       "    <tr>\n",
       "      <th>2</th>\n",
       "      <td>Marcos Chavez</td>\n",
       "      <td>B001FCK32C</td>\n",
       "      <td>5</td>\n",
       "      <td>24698</td>\n",
       "      <td>372</td>\n",
       "    </tr>\n",
       "    <tr>\n",
       "      <th>3</th>\n",
       "      <td>Bonnie Barnette</td>\n",
       "      <td>B001FCK32C</td>\n",
       "      <td>5</td>\n",
       "      <td>555</td>\n",
       "      <td>372</td>\n",
       "    </tr>\n",
       "    <tr>\n",
       "      <th>4</th>\n",
       "      <td>Jess Ramos</td>\n",
       "      <td>B001FCK32C</td>\n",
       "      <td>5</td>\n",
       "      <td>3676</td>\n",
       "      <td>372</td>\n",
       "    </tr>\n",
       "  </tbody>\n",
       "</table>\n",
       "</div>"
      ],
      "text/plain": [
       "                ID        Asin Rating  User_Number  Asin_Number\n",
       "0  Chelsea Edwards  B001FCK32C      5         7883          372\n",
       "1         Atalanta  B001FCK32C      3          979          372\n",
       "2    Marcos Chavez  B001FCK32C      5        24698          372\n",
       "3  Bonnie Barnette  B001FCK32C      5          555          372\n",
       "4       Jess Ramos  B001FCK32C      5         3676          372"
      ]
     },
     "execution_count": 129,
     "metadata": {},
     "output_type": "execute_result"
    }
   ],
   "source": [
    "rating_df.head()"
   ]
  },
  {
   "cell_type": "code",
   "execution_count": 131,
   "id": "da7d0523",
   "metadata": {
    "ExecuteTime": {
     "end_time": "2022-07-01T06:47:22.473015Z",
     "start_time": "2022-07-01T06:47:22.385251Z"
    }
   },
   "outputs": [
    {
     "name": "stdout",
     "output_type": "stream",
     "text": [
      "The 5 similar product to Asin B001FCK32C\n"
     ]
    },
    {
     "data": {
      "text/html": [
       "<div>\n",
       "<style scoped>\n",
       "    .dataframe tbody tr th:only-of-type {\n",
       "        vertical-align: middle;\n",
       "    }\n",
       "\n",
       "    .dataframe tbody tr th {\n",
       "        vertical-align: top;\n",
       "    }\n",
       "\n",
       "    .dataframe thead th {\n",
       "        text-align: right;\n",
       "    }\n",
       "</style>\n",
       "<table border=\"1\" class=\"dataframe\">\n",
       "  <thead>\n",
       "    <tr style=\"text-align: right;\">\n",
       "      <th></th>\n",
       "      <th>Asin</th>\n",
       "      <th>Category</th>\n",
       "      <th>Asin_Number</th>\n",
       "    </tr>\n",
       "  </thead>\n",
       "  <tbody>\n",
       "    <tr>\n",
       "      <th>136</th>\n",
       "      <td>B07BHPXVM2</td>\n",
       "      <td>bedding</td>\n",
       "      <td>225</td>\n",
       "    </tr>\n",
       "    <tr>\n",
       "      <th>137</th>\n",
       "      <td>B07BYMG5TV</td>\n",
       "      <td>bedding</td>\n",
       "      <td>346</td>\n",
       "    </tr>\n",
       "    <tr>\n",
       "      <th>138</th>\n",
       "      <td>B07C8J7766</td>\n",
       "      <td>bedding</td>\n",
       "      <td>4</td>\n",
       "    </tr>\n",
       "    <tr>\n",
       "      <th>147</th>\n",
       "      <td>B07F1H29FG</td>\n",
       "      <td>bedding</td>\n",
       "      <td>144</td>\n",
       "    </tr>\n",
       "    <tr>\n",
       "      <th>434</th>\n",
       "      <td>B0B12WVHWG</td>\n",
       "      <td>bedding</td>\n",
       "      <td>29</td>\n",
       "    </tr>\n",
       "  </tbody>\n",
       "</table>\n",
       "</div>"
      ],
      "text/plain": [
       "           Asin Category  Asin_Number\n",
       "136  B07BHPXVM2  bedding          225\n",
       "137  B07BYMG5TV  bedding          346\n",
       "138  B07C8J7766  bedding            4\n",
       "147  B07F1H29FG  bedding          144\n",
       "434  B0B12WVHWG  bedding           29"
      ]
     },
     "metadata": {},
     "output_type": "display_data"
    },
    {
     "data": {
      "text/plain": [
       "101"
      ]
     },
     "execution_count": 131,
     "metadata": {},
     "output_type": "execute_result"
    }
   ],
   "source": [
    "def topKItems(itemId, topK, corrMat, mapName):\n",
    "    \n",
    "    # 상관계수 정렬 &nd topK 제품 선택\n",
    "    topItems = corrMat[itemId,:].argsort()[-topK:][::-1] \n",
    "    topItems = [mapName[e] for e in topItems] \n",
    "\n",
    "    return topItems\n",
    "\n",
    "# preprocessing\n",
    "ratedItems = item_df.loc[item_df['Asin'].isin(rating_df['Asin'])].copy()\n",
    "\n",
    "# extract the Category\n",
    "Category = ratedItems['Category'].str.split(\",\", expand=True)\n",
    "\n",
    "# get all possible Category\n",
    "allCategory = set()\n",
    "for c in Category.columns:\n",
    "    distinctCategory = Category[c].str.lower().str.strip().unique()\n",
    "    allCategory.update(distinctCategory)\n",
    "\n",
    "# create item-Category matrix\n",
    "itemCategoryMat = ratedItems[['Asin', 'Category']].copy()\n",
    "itemCategoryMat['Category'] = itemCategoryMat['Category'].str.lower().str.strip()\n",
    "\n",
    "# OHE the genres column\n",
    "for Category in allCategory:\n",
    "    itemCategoryMat[Category] = np.where(itemCategoryMat['Category'].str.contains(Category), 1, 0)\n",
    "itemCategoryMat = itemCategoryMat.drop(['Category'], axis=1)\n",
    "itemCategoryMat = itemCategoryMat.set_index('Asin')\n",
    "\n",
    "# compute similarity matix\n",
    "corrMat = cosine_similarity(itemCategoryMat)\n",
    "\n",
    "\n",
    "# get topK similar items\n",
    "ind2name = {ind:name for ind,name in enumerate(itemCategoryMat.index)}\n",
    "name2ind = {v:k for k,v in ind2name.items()}\n",
    "similarItems = topKItems(name2ind['B001FCK32C'],\n",
    "                            topK = topK,\n",
    "                            corrMat = corrMat,\n",
    "                            mapName = ind2name)\n",
    "\n",
    "# display result\n",
    "print(f\"The {topK} similar product to Asin B001FCK32C\")\n",
    "display(item_df.loc[item_df['Asin'].isin(similarItems)])\n",
    "\n",
    "del corrMat\n",
    "gc.collect()"
   ]
  },
  {
   "cell_type": "markdown",
   "id": "4a56d6b9",
   "metadata": {},
   "source": [
    "# Collaborative filtering\n",
    "- 아이템 x 유저 행렬 만들어서 진행\n",
    "\n",
    "##  Memory-based"
   ]
  },
  {
   "cell_type": "code",
   "execution_count": 132,
   "id": "55a95838",
   "metadata": {},
   "outputs": [],
   "source": [
    "def topKItems(itemId, topK, corrMat, mapName):\n",
    "    \n",
    "    # 상관계수 정렬 &nd topK 제품 선택\n",
    "    topItems = corrMat[itemId,:].argsort()[-topK:][::-1] \n",
    "    topItems = [mapName[e] for e in topItems] \n",
    "\n",
    "    return topItems"
   ]
  },
  {
   "cell_type": "code",
   "execution_count": 139,
   "id": "548d68fb",
   "metadata": {
    "ExecuteTime": {
     "end_time": "2022-07-01T06:47:22.502935Z",
     "start_time": "2022-07-01T06:47:22.474013Z"
    }
   },
   "outputs": [
    {
     "data": {
      "text/html": [
       "<div>\n",
       "<style scoped>\n",
       "    .dataframe tbody tr th:only-of-type {\n",
       "        vertical-align: middle;\n",
       "    }\n",
       "\n",
       "    .dataframe tbody tr th {\n",
       "        vertical-align: top;\n",
       "    }\n",
       "\n",
       "    .dataframe thead th {\n",
       "        text-align: right;\n",
       "    }\n",
       "</style>\n",
       "<table border=\"1\" class=\"dataframe\">\n",
       "  <thead>\n",
       "    <tr style=\"text-align: right;\">\n",
       "      <th></th>\n",
       "      <th>Asin</th>\n",
       "      <th>Category</th>\n",
       "      <th>Asin_Number</th>\n",
       "    </tr>\n",
       "  </thead>\n",
       "  <tbody>\n",
       "    <tr>\n",
       "      <th>0</th>\n",
       "      <td>B001FCK32C</td>\n",
       "      <td>bedding</td>\n",
       "      <td>372</td>\n",
       "    </tr>\n",
       "    <tr>\n",
       "      <th>1</th>\n",
       "      <td>B003PWNH4Q</td>\n",
       "      <td>bedding</td>\n",
       "      <td>234</td>\n",
       "    </tr>\n",
       "    <tr>\n",
       "      <th>2</th>\n",
       "      <td>B003Q0U740</td>\n",
       "      <td>bedding</td>\n",
       "      <td>100</td>\n",
       "    </tr>\n",
       "    <tr>\n",
       "      <th>3</th>\n",
       "      <td>B004BAEF7E</td>\n",
       "      <td>bedding</td>\n",
       "      <td>388</td>\n",
       "    </tr>\n",
       "    <tr>\n",
       "      <th>4</th>\n",
       "      <td>B004I3VDWY</td>\n",
       "      <td>bedding</td>\n",
       "      <td>290</td>\n",
       "    </tr>\n",
       "  </tbody>\n",
       "</table>\n",
       "</div>"
      ],
      "text/plain": [
       "         Asin Category  Asin_Number\n",
       "0  B001FCK32C  bedding          372\n",
       "1  B003PWNH4Q  bedding          234\n",
       "2  B003Q0U740  bedding          100\n",
       "3  B004BAEF7E  bedding          388\n",
       "4  B004I3VDWY  bedding          290"
      ]
     },
     "execution_count": 139,
     "metadata": {},
     "output_type": "execute_result"
    }
   ],
   "source": [
    "item_df.head()"
   ]
  },
  {
   "cell_type": "code",
   "execution_count": 140,
   "id": "f6e8f896",
   "metadata": {
    "ExecuteTime": {
     "end_time": "2022-07-01T06:47:22.517895Z",
     "start_time": "2022-07-01T06:47:22.503933Z"
    }
   },
   "outputs": [
    {
     "data": {
      "text/html": [
       "<div>\n",
       "<style scoped>\n",
       "    .dataframe tbody tr th:only-of-type {\n",
       "        vertical-align: middle;\n",
       "    }\n",
       "\n",
       "    .dataframe tbody tr th {\n",
       "        vertical-align: top;\n",
       "    }\n",
       "\n",
       "    .dataframe thead th {\n",
       "        text-align: right;\n",
       "    }\n",
       "</style>\n",
       "<table border=\"1\" class=\"dataframe\">\n",
       "  <thead>\n",
       "    <tr style=\"text-align: right;\">\n",
       "      <th></th>\n",
       "      <th>ID</th>\n",
       "      <th>Asin</th>\n",
       "      <th>Rating</th>\n",
       "      <th>User_Number</th>\n",
       "      <th>Asin_Number</th>\n",
       "    </tr>\n",
       "  </thead>\n",
       "  <tbody>\n",
       "    <tr>\n",
       "      <th>0</th>\n",
       "      <td>Chelsea Edwards</td>\n",
       "      <td>B001FCK32C</td>\n",
       "      <td>5</td>\n",
       "      <td>7883</td>\n",
       "      <td>372</td>\n",
       "    </tr>\n",
       "    <tr>\n",
       "      <th>1</th>\n",
       "      <td>Atalanta</td>\n",
       "      <td>B001FCK32C</td>\n",
       "      <td>3</td>\n",
       "      <td>979</td>\n",
       "      <td>372</td>\n",
       "    </tr>\n",
       "    <tr>\n",
       "      <th>2</th>\n",
       "      <td>Marcos Chavez</td>\n",
       "      <td>B001FCK32C</td>\n",
       "      <td>5</td>\n",
       "      <td>24698</td>\n",
       "      <td>372</td>\n",
       "    </tr>\n",
       "    <tr>\n",
       "      <th>3</th>\n",
       "      <td>Bonnie Barnette</td>\n",
       "      <td>B001FCK32C</td>\n",
       "      <td>5</td>\n",
       "      <td>555</td>\n",
       "      <td>372</td>\n",
       "    </tr>\n",
       "    <tr>\n",
       "      <th>4</th>\n",
       "      <td>Jess Ramos</td>\n",
       "      <td>B001FCK32C</td>\n",
       "      <td>5</td>\n",
       "      <td>3676</td>\n",
       "      <td>372</td>\n",
       "    </tr>\n",
       "  </tbody>\n",
       "</table>\n",
       "</div>"
      ],
      "text/plain": [
       "                ID        Asin Rating  User_Number  Asin_Number\n",
       "0  Chelsea Edwards  B001FCK32C      5         7883          372\n",
       "1         Atalanta  B001FCK32C      3          979          372\n",
       "2    Marcos Chavez  B001FCK32C      5        24698          372\n",
       "3  Bonnie Barnette  B001FCK32C      5          555          372\n",
       "4       Jess Ramos  B001FCK32C      5         3676          372"
      ]
     },
     "execution_count": 140,
     "metadata": {},
     "output_type": "execute_result"
    }
   ],
   "source": [
    "rating_df.head()"
   ]
  },
  {
   "cell_type": "code",
   "execution_count": 142,
   "id": "59fd094e",
   "metadata": {
    "ExecuteTime": {
     "end_time": "2022-07-01T06:47:22.547815Z",
     "start_time": "2022-07-01T06:47:22.518893Z"
    }
   },
   "outputs": [
    {
     "name": "stdout",
     "output_type": "stream",
     "text": [
      "Sparsity: 0.22%. This means that 0.22% of the user-item ratings have a value.\n",
      "The 5 similar product to Asin B001FCK32C\n"
     ]
    }
   ],
   "source": [
    "# preprocess data\n",
    "row = rating_df['User_Number']\n",
    "col = rating_df['Asin_Number']\n",
    "data = rating_df['Rating']\n",
    "\n",
    "NUM_USERS = len(rating_df)\n",
    "NUM_ITEMS = len(item_df)\n",
    "\n",
    "# init user-item matrix\n",
    "mat = csr_matrix((data, (row, col)), shape=(NUM_USERS, NUM_ITEMS), dtype=int)\n",
    "mat.eliminate_zeros()\n",
    "\n",
    "# calculate sparsity\n",
    "sparsity = float(len(mat.nonzero()[0]))\n",
    "sparsity /= (mat.shape[0] * mat.shape[1])\n",
    "sparsity *= 100\n",
    "print(f'Sparsity: {sparsity:4.2f}%. This means that {sparsity:4.2f}% of the user-item ratings have a value.')\n",
    "\n",
    "# compute similarity\n",
    "item_corr_mat = cosine_similarity(mat.T)\n",
    "\n",
    "# get top k item\n",
    "print(f\"The {topK} similar product to Asin B001FCK32C\")\n",
    "\n",
    "\n",
    "similar_items = topKItems(name2ind['B001FCK32C'],\n",
    "                            topK = topK,\n",
    "                            corrMat = item_corr_mat,\n",
    "                            mapName = ind2name)"
   ]
  },
  {
   "cell_type": "code",
   "execution_count": 147,
   "id": "b3f76e18",
   "metadata": {},
   "outputs": [
    {
     "data": {
      "text/html": [
       "<div>\n",
       "<style scoped>\n",
       "    .dataframe tbody tr th:only-of-type {\n",
       "        vertical-align: middle;\n",
       "    }\n",
       "\n",
       "    .dataframe tbody tr th {\n",
       "        vertical-align: top;\n",
       "    }\n",
       "\n",
       "    .dataframe thead th {\n",
       "        text-align: right;\n",
       "    }\n",
       "</style>\n",
       "<table border=\"1\" class=\"dataframe\">\n",
       "  <thead>\n",
       "    <tr style=\"text-align: right;\">\n",
       "      <th></th>\n",
       "      <th>Asin</th>\n",
       "      <th>Category</th>\n",
       "      <th>Asin_Number</th>\n",
       "    </tr>\n",
       "  </thead>\n",
       "  <tbody>\n",
       "    <tr>\n",
       "      <th>0</th>\n",
       "      <td>B001FCK32C</td>\n",
       "      <td>bedding</td>\n",
       "      <td>372</td>\n",
       "    </tr>\n",
       "    <tr>\n",
       "      <th>103</th>\n",
       "      <td>B072FC3DWR</td>\n",
       "      <td>bedding</td>\n",
       "      <td>109</td>\n",
       "    </tr>\n",
       "    <tr>\n",
       "      <th>252</th>\n",
       "      <td>B07VFNJL3S</td>\n",
       "      <td>bedding</td>\n",
       "      <td>112</td>\n",
       "    </tr>\n",
       "    <tr>\n",
       "      <th>280</th>\n",
       "      <td>B082XKFYLJ</td>\n",
       "      <td>bedding</td>\n",
       "      <td>265</td>\n",
       "    </tr>\n",
       "    <tr>\n",
       "      <th>285</th>\n",
       "      <td>B083LMRXJC</td>\n",
       "      <td>bedding</td>\n",
       "      <td>172</td>\n",
       "    </tr>\n",
       "  </tbody>\n",
       "</table>\n",
       "</div>"
      ],
      "text/plain": [
       "           Asin Category  Asin_Number\n",
       "0    B001FCK32C  bedding          372\n",
       "103  B072FC3DWR  bedding          109\n",
       "252  B07VFNJL3S  bedding          112\n",
       "280  B082XKFYLJ  bedding          265\n",
       "285  B083LMRXJC  bedding          172"
      ]
     },
     "metadata": {},
     "output_type": "display_data"
    }
   ],
   "source": [
    "display(item_df.loc[item_df['Asin'].isin(similar_items)])"
   ]
  },
  {
   "cell_type": "markdown",
   "id": "976ae9c1",
   "metadata": {},
   "source": [
    "## Model based\n",
    "### Matrix Factorization (MF)\n",
    "#### TruncatedSVD (Sklearn)"
   ]
  },
  {
   "cell_type": "markdown",
   "id": "b79e0685",
   "metadata": {},
   "source": [
    "<font color=red><U>**이거 돌릴때마다 값이 다름 이유 모름 그리고 가끔 에러남**</U></font>"
   ]
  },
  {
   "cell_type": "code",
   "execution_count": 148,
   "id": "1487c1e3",
   "metadata": {
    "ExecuteTime": {
     "end_time": "2022-07-01T06:47:22.908428Z",
     "start_time": "2022-07-01T06:47:22.563774Z"
    }
   },
   "outputs": [
    {
     "name": "stdout",
     "output_type": "stream",
     "text": [
      "The 5 similar product to Asin B001FCK32C\n"
     ]
    },
    {
     "data": {
      "text/html": [
       "<div>\n",
       "<style scoped>\n",
       "    .dataframe tbody tr th:only-of-type {\n",
       "        vertical-align: middle;\n",
       "    }\n",
       "\n",
       "    .dataframe tbody tr th {\n",
       "        vertical-align: top;\n",
       "    }\n",
       "\n",
       "    .dataframe thead th {\n",
       "        text-align: right;\n",
       "    }\n",
       "</style>\n",
       "<table border=\"1\" class=\"dataframe\">\n",
       "  <thead>\n",
       "    <tr style=\"text-align: right;\">\n",
       "      <th></th>\n",
       "      <th>Asin</th>\n",
       "      <th>Category</th>\n",
       "      <th>Asin_Number</th>\n",
       "    </tr>\n",
       "  </thead>\n",
       "  <tbody>\n",
       "    <tr>\n",
       "      <th>0</th>\n",
       "      <td>B001FCK32C</td>\n",
       "      <td>bedding</td>\n",
       "      <td>372</td>\n",
       "    </tr>\n",
       "    <tr>\n",
       "      <th>360</th>\n",
       "      <td>B092VP8QSB</td>\n",
       "      <td>bedding</td>\n",
       "      <td>164</td>\n",
       "    </tr>\n",
       "    <tr>\n",
       "      <th>380</th>\n",
       "      <td>B097QSKS4Z</td>\n",
       "      <td>bedding</td>\n",
       "      <td>12</td>\n",
       "    </tr>\n",
       "    <tr>\n",
       "      <th>414</th>\n",
       "      <td>B09QCM8453</td>\n",
       "      <td>bedding</td>\n",
       "      <td>163</td>\n",
       "    </tr>\n",
       "    <tr>\n",
       "      <th>424</th>\n",
       "      <td>B09TSG7F4R</td>\n",
       "      <td>bedding</td>\n",
       "      <td>216</td>\n",
       "    </tr>\n",
       "  </tbody>\n",
       "</table>\n",
       "</div>"
      ],
      "text/plain": [
       "           Asin Category  Asin_Number\n",
       "0    B001FCK32C  bedding          372\n",
       "360  B092VP8QSB  bedding          164\n",
       "380  B097QSKS4Z  bedding           12\n",
       "414  B09QCM8453  bedding          163\n",
       "424  B09TSG7F4R  bedding          216"
      ]
     },
     "metadata": {},
     "output_type": "display_data"
    }
   ],
   "source": [
    "epsilon = 1e-9\n",
    "n_latent_factors = 10\n",
    "\n",
    "# calculate item latent matrix\n",
    "item_svd = TruncatedSVD(n_components = n_latent_factors)\n",
    "item_features = item_svd.fit_transform(mat.transpose()) + epsilon\n",
    "\n",
    "# calculate user latent matrix\n",
    "user_svd = TruncatedSVD(n_components = n_latent_factors)\n",
    "user_features = user_svd.fit_transform(mat) + epsilon\n",
    "\n",
    "# compute similarity\n",
    "item_corr_mat = cosine_similarity(item_features)\n",
    "\n",
    "# get top k item\n",
    "print(f\"The {topK} similar product to Asin B001FCK32C\")\n",
    "similar_items = topKItems(name2ind['B001FCK32C'],\n",
    "                            topK = topK,\n",
    "                            corrMat = item_corr_mat,\n",
    "                            mapName = ind2name)\n",
    "\n",
    "display(item_df.loc[item_df['Asin'].isin(similar_items)])\n",
    "\n",
    "del user_features\n",
    "gc.collect();"
   ]
  },
  {
   "cell_type": "markdown",
   "id": "b5aff5fb",
   "metadata": {},
   "source": [
    "#### Funk MF (Surprise)"
   ]
  },
  {
   "cell_type": "code",
   "execution_count": 151,
   "id": "0e6d94b5",
   "metadata": {
    "ExecuteTime": {
     "end_time": "2022-07-01T06:47:22.953310Z",
     "start_time": "2022-07-01T06:47:22.940343Z"
    }
   },
   "outputs": [],
   "source": [
    "funk_rating_df = rating_df[['ID','Asin', 'Rating']]"
   ]
  },
  {
   "cell_type": "code",
   "execution_count": 152,
   "id": "7994184f",
   "metadata": {
    "ExecuteTime": {
     "end_time": "2022-07-01T06:47:24.873775Z",
     "start_time": "2022-07-01T06:47:22.956301Z"
    }
   },
   "outputs": [
    {
     "name": "stdout",
     "output_type": "stream",
     "text": [
      "RMSE: 1.4791\n",
      "The 5 similar product to Asin B001FCK32C\n"
     ]
    },
    {
     "data": {
      "text/html": [
       "<div>\n",
       "<style scoped>\n",
       "    .dataframe tbody tr th:only-of-type {\n",
       "        vertical-align: middle;\n",
       "    }\n",
       "\n",
       "    .dataframe tbody tr th {\n",
       "        vertical-align: top;\n",
       "    }\n",
       "\n",
       "    .dataframe thead th {\n",
       "        text-align: right;\n",
       "    }\n",
       "</style>\n",
       "<table border=\"1\" class=\"dataframe\">\n",
       "  <thead>\n",
       "    <tr style=\"text-align: right;\">\n",
       "      <th></th>\n",
       "      <th>Asin</th>\n",
       "      <th>Category</th>\n",
       "      <th>Asin_Number</th>\n",
       "    </tr>\n",
       "  </thead>\n",
       "  <tbody>\n",
       "    <tr>\n",
       "      <th>0</th>\n",
       "      <td>B001FCK32C</td>\n",
       "      <td>bedding</td>\n",
       "      <td>372</td>\n",
       "    </tr>\n",
       "    <tr>\n",
       "      <th>105</th>\n",
       "      <td>B072XJTV7V</td>\n",
       "      <td>bedding</td>\n",
       "      <td>25</td>\n",
       "    </tr>\n",
       "    <tr>\n",
       "      <th>125</th>\n",
       "      <td>B078R3NDPH</td>\n",
       "      <td>bedding</td>\n",
       "      <td>319</td>\n",
       "    </tr>\n",
       "    <tr>\n",
       "      <th>179</th>\n",
       "      <td>B07KQBX3HY</td>\n",
       "      <td>bedding</td>\n",
       "      <td>128</td>\n",
       "    </tr>\n",
       "    <tr>\n",
       "      <th>212</th>\n",
       "      <td>B07PH1HLFN</td>\n",
       "      <td>bedding</td>\n",
       "      <td>73</td>\n",
       "    </tr>\n",
       "  </tbody>\n",
       "</table>\n",
       "</div>"
      ],
      "text/plain": [
       "           Asin Category  Asin_Number\n",
       "0    B001FCK32C  bedding          372\n",
       "105  B072XJTV7V  bedding           25\n",
       "125  B078R3NDPH  bedding          319\n",
       "179  B07KQBX3HY  bedding          128\n",
       "212  B07PH1HLFN  bedding           73"
      ]
     },
     "metadata": {},
     "output_type": "display_data"
    },
    {
     "data": {
      "text/plain": [
       "53"
      ]
     },
     "execution_count": 152,
     "metadata": {},
     "output_type": "execute_result"
    }
   ],
   "source": [
    "def pred2dict(predictions, top_k=None):\n",
    "    \n",
    "    rec_dict = defaultdict(list)\n",
    "    for user_id, item_id, actual_rating, pred_rating, _ in predictions:\n",
    "        rec_dict[user_id].append((item_id, pred_rating))        \n",
    "        \n",
    "    return rec_dict\n",
    "\n",
    "def get_top_k_recommendation(rec_dict, user_id, top_k, ind2name):\n",
    "    \n",
    "    pred_ratings = rec_dict[user_id]\n",
    "    # sort descendingly by pred_rating\n",
    "    pred_ratings = sorted(pred_ratings, key=lambda x: x[1], reverse=True)\n",
    "    pred_ratings = pred_ratings[:top_k]\n",
    "    recs = [ind2name[e[0]] for e in pred_ratings]\n",
    "    \n",
    "    return recs\n",
    "\n",
    "# prepare train and test sets\n",
    "reader = Reader(rating_scale=(1,10))\n",
    "data = Dataset.load_from_df(funk_rating_df, reader)\n",
    "train, test = train_test_split(data, test_size=.2, random_state=42)\n",
    "\n",
    "# init and fit the funk mf model\n",
    "algo = SVD(random_state = 42)\n",
    "algo.fit(train)\n",
    "pred = algo.test(test)\n",
    "\n",
    "# evaluation the test set\n",
    "accuracy.rmse(pred)\n",
    "\n",
    "# extract the item features from algo\n",
    "item_corr_mat = cosine_similarity(algo.qi)\n",
    "\n",
    "print(f\"The {topK} similar product to Asin B001FCK32C\")\n",
    "similar_items = topKItems(name2ind['B001FCK32C'],\n",
    "                            topK = topK,\n",
    "                            corrMat = item_corr_mat,\n",
    "                            mapName = ind2name)\n",
    "\n",
    "display(item_df.loc[item_df['Asin'].isin(similar_items)])\n",
    "\n",
    "del item_corr_mat\n",
    "gc.collect()"
   ]
  },
  {
   "cell_type": "code",
   "execution_count": null,
   "id": "b4f38276",
   "metadata": {},
   "outputs": [],
   "source": []
  }
 ],
 "metadata": {
  "kernelspec": {
   "display_name": "Python 3.9.7 ('base')",
   "language": "python",
   "name": "python3"
  },
  "language_info": {
   "codemirror_mode": {
    "name": "ipython",
    "version": 3
   },
   "file_extension": ".py",
   "mimetype": "text/x-python",
   "name": "python",
   "nbconvert_exporter": "python",
   "pygments_lexer": "ipython3",
   "version": "3.9.7"
  },
  "toc": {
   "base_numbering": 1,
   "nav_menu": {},
   "number_sections": true,
   "sideBar": true,
   "skip_h1_title": false,
   "title_cell": "Table of Contents",
   "title_sidebar": "Contents",
   "toc_cell": false,
   "toc_position": {
    "height": "calc(100% - 180px)",
    "left": "10px",
    "top": "150px",
    "width": "212.882px"
   },
   "toc_section_display": true,
   "toc_window_display": true
  },
  "varInspector": {
   "cols": {
    "lenName": 16,
    "lenType": 16,
    "lenVar": 40
   },
   "kernels_config": {
    "python": {
     "delete_cmd_postfix": "",
     "delete_cmd_prefix": "del ",
     "library": "var_list.py",
     "varRefreshCmd": "print(var_dic_list())"
    },
    "r": {
     "delete_cmd_postfix": ") ",
     "delete_cmd_prefix": "rm(",
     "library": "var_list.r",
     "varRefreshCmd": "cat(var_dic_list()) "
    }
   },
   "types_to_exclude": [
    "module",
    "function",
    "builtin_function_or_method",
    "instance",
    "_Feature"
   ],
   "window_display": false
  },
  "vscode": {
   "interpreter": {
    "hash": "1ef078467dd63487d90c66fda3d945ae0cf08fcbb11ad780475c9b39620e3c77"
   }
  }
 },
 "nbformat": 4,
 "nbformat_minor": 5
}
