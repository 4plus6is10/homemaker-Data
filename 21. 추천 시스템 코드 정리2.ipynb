{
 "cells": [
  {
   "cell_type": "code",
   "execution_count": 270,
   "id": "7288b0d1",
   "metadata": {
    "ExecuteTime": {
     "end_time": "2022-07-01T06:47:20.222789Z",
     "start_time": "2022-07-01T06:47:18.663901Z"
    }
   },
   "outputs": [],
   "source": [
    "import pandas as pd\n",
    "import numpy as np\n",
    "import os\n",
    "import glob\n",
    "import gc\n",
    "from itertools import islice\n",
    "from scipy.sparse import csr_matrix\n",
    "from sklearn.metrics.pairwise import cosine_similarity\n",
    "from sklearn.decomposition import TruncatedSVD\n",
    "from surprise import SVD, accuracy\n",
    "from surprise import Dataset, Reader\n",
    "from surprise.model_selection import cross_validate\n",
    "from surprise.model_selection.split import train_test_split"
   ]
  },
  {
   "cell_type": "markdown",
   "id": "e8bba0ea",
   "metadata": {},
   "source": [
    "# 데이터 준비\n",
    "## 제품 데이터 준비"
   ]
  },
  {
   "cell_type": "code",
   "execution_count": 271,
   "id": "7e400c9b",
   "metadata": {},
   "outputs": [],
   "source": [
    "category_list = ['bath', 'bedding', 'cleaning_supplies', \n",
    "'furniture', 'heating_cooling_airquality', 'home_storage_organization', \n",
    "'irons_steamers', 'kids_home_store', 'kitchen_dining', \n",
    "'lighting_ceiling_fans', 'party_supplies', 'seasonal_decor', \n",
    "'vacuums_floor_care', 'wall_art']"
   ]
  },
  {
   "cell_type": "code",
   "execution_count": 272,
   "id": "554284e3",
   "metadata": {},
   "outputs": [],
   "source": [
    "item_df = pd.read_csv('item_meta.csv')"
   ]
  },
  {
   "cell_type": "code",
   "execution_count": 273,
   "id": "a7905b8e",
   "metadata": {},
   "outputs": [
    {
     "data": {
      "text/plain": [
       "(4662, 6)"
      ]
     },
     "execution_count": 273,
     "metadata": {},
     "output_type": "execute_result"
    }
   ],
   "source": [
    "item_df.shape"
   ]
  },
  {
   "cell_type": "code",
   "execution_count": 274,
   "id": "4fa25d93",
   "metadata": {},
   "outputs": [
    {
     "data": {
      "text/plain": [
       "name           0\n",
       "asin           0\n",
       "price          0\n",
       "buylink        0\n",
       "Imglink     1204\n",
       "category       0\n",
       "dtype: int64"
      ]
     },
     "execution_count": 274,
     "metadata": {},
     "output_type": "execute_result"
    }
   ],
   "source": [
    "item_df.isnull().sum()"
   ]
  },
  {
   "cell_type": "code",
   "execution_count": 275,
   "id": "9d4b4030",
   "metadata": {},
   "outputs": [
    {
     "data": {
      "text/plain": [
       "4469"
      ]
     },
     "execution_count": 275,
     "metadata": {},
     "output_type": "execute_result"
    }
   ],
   "source": [
    "item_df['asin'].unique().__len__()"
   ]
  },
  {
   "cell_type": "code",
   "execution_count": 276,
   "id": "8bff54dc",
   "metadata": {},
   "outputs": [],
   "source": [
    "# item_df = item_df.drop_duplicates(subset='asin')"
   ]
  },
  {
   "cell_type": "markdown",
   "id": "111db11f",
   "metadata": {},
   "source": [
    "### Asin에 고유한 number 부여"
   ]
  },
  {
   "cell_type": "code",
   "execution_count": 277,
   "id": "d0711ae0",
   "metadata": {},
   "outputs": [],
   "source": [
    "asin_list = list(set(item_df['asin']))"
   ]
  },
  {
   "cell_type": "code",
   "execution_count": 278,
   "id": "7b882927",
   "metadata": {},
   "outputs": [],
   "source": [
    "asin_number_dict = {}\n",
    "\n",
    "for idx, asin in enumerate(asin_list):\n",
    "    asin_number_dict[asin] = idx"
   ]
  },
  {
   "cell_type": "code",
   "execution_count": 279,
   "id": "50fbb1c1",
   "metadata": {},
   "outputs": [],
   "source": [
    "asin_number_list = []\n",
    "\n",
    "for asin in item_df['asin']:\n",
    "    asin_number_list.append(asin_number_dict.get(asin))"
   ]
  },
  {
   "cell_type": "code",
   "execution_count": 280,
   "id": "6b1ebf21",
   "metadata": {},
   "outputs": [
    {
     "data": {
      "text/html": [
       "<div>\n",
       "<style scoped>\n",
       "    .dataframe tbody tr th:only-of-type {\n",
       "        vertical-align: middle;\n",
       "    }\n",
       "\n",
       "    .dataframe tbody tr th {\n",
       "        vertical-align: top;\n",
       "    }\n",
       "\n",
       "    .dataframe thead th {\n",
       "        text-align: right;\n",
       "    }\n",
       "</style>\n",
       "<table border=\"1\" class=\"dataframe\">\n",
       "  <thead>\n",
       "    <tr style=\"text-align: right;\">\n",
       "      <th></th>\n",
       "      <th>name</th>\n",
       "      <th>asin</th>\n",
       "      <th>price</th>\n",
       "      <th>buylink</th>\n",
       "      <th>Imglink</th>\n",
       "      <th>category</th>\n",
       "      <th>asin_number</th>\n",
       "    </tr>\n",
       "  </thead>\n",
       "  <tbody>\n",
       "    <tr>\n",
       "      <th>0</th>\n",
       "      <td>Umbra Mini Waste Can 1-1/2 Gallon with Swing L...</td>\n",
       "      <td>B0000V09E6</td>\n",
       "      <td>14.95</td>\n",
       "      <td>https://www.amazon.com/Umbra-2-Gallon-Swing-To...</td>\n",
       "      <td>https://m.media-amazon.com/images/I/61W7yT2gU5...</td>\n",
       "      <td>bath</td>\n",
       "      <td>2357</td>\n",
       "    </tr>\n",
       "    <tr>\n",
       "      <th>1</th>\n",
       "      <td>iDesign Plastic Soap Saver, Holder Tray for Ba...</td>\n",
       "      <td>B000DZFA66</td>\n",
       "      <td>4.48</td>\n",
       "      <td>https://www.amazon.com/Plastic-Soap-Holder-Bat...</td>\n",
       "      <td>https://m.media-amazon.com/images/I/51EM3UIQ4o...</td>\n",
       "      <td>bath</td>\n",
       "      <td>3699</td>\n",
       "    </tr>\n",
       "    <tr>\n",
       "      <th>2</th>\n",
       "      <td>Danco 88821 2-3/4-Inch Tub Mesh Strainer, Stai...</td>\n",
       "      <td>B000DZGJX4</td>\n",
       "      <td>6.93</td>\n",
       "      <td>https://www.amazon.com/DANCO-Strainer-Stainles...</td>\n",
       "      <td>https://m.media-amazon.com/images/I/71Cv4LE0BW...</td>\n",
       "      <td>bath</td>\n",
       "      <td>3011</td>\n",
       "    </tr>\n",
       "    <tr>\n",
       "      <th>3</th>\n",
       "      <td>Better Living Products 76335-1 AVIVA 3 Chamber...</td>\n",
       "      <td>B000FGCW0A</td>\n",
       "      <td>40.64</td>\n",
       "      <td>https://www.amazon.com/Better-Living-Products-...</td>\n",
       "      <td>https://m.media-amazon.com/images/I/71yBzZ7gAw...</td>\n",
       "      <td>bath</td>\n",
       "      <td>2448</td>\n",
       "    </tr>\n",
       "    <tr>\n",
       "      <th>4</th>\n",
       "      <td>Better Living Products, White 76354 Euro Serie...</td>\n",
       "      <td>B000FGCW0K</td>\n",
       "      <td>27.99</td>\n",
       "      <td>https://www.amazon.com/Better-Living-76354-3-C...</td>\n",
       "      <td>https://m.media-amazon.com/images/I/61rP3ZhNw1...</td>\n",
       "      <td>bath</td>\n",
       "      <td>214</td>\n",
       "    </tr>\n",
       "    <tr>\n",
       "      <th>...</th>\n",
       "      <td>...</td>\n",
       "      <td>...</td>\n",
       "      <td>...</td>\n",
       "      <td>...</td>\n",
       "      <td>...</td>\n",
       "      <td>...</td>\n",
       "      <td>...</td>\n",
       "    </tr>\n",
       "    <tr>\n",
       "      <th>4657</th>\n",
       "      <td>BTS Proof Anthology Album Compact Edition Cont...</td>\n",
       "      <td>B09ZKF44MH</td>\n",
       "      <td>28.69</td>\n",
       "      <td>https://www.amazon.com/Anthology-Compact-Conte...</td>\n",
       "      <td>https://m.media-amazon.com/images/I/31iWwSzQb3...</td>\n",
       "      <td>wall_art</td>\n",
       "      <td>476</td>\n",
       "    </tr>\n",
       "    <tr>\n",
       "      <th>4658</th>\n",
       "      <td>Boho Wall Art Prints Set of 6, Mid-Century Mod...</td>\n",
       "      <td>B09ZNTCQXX</td>\n",
       "      <td>14.99</td>\n",
       "      <td>https://www.amazon.com/Mid-Century-Geometric-M...</td>\n",
       "      <td>https://m.media-amazon.com/images/I/714hr8IVuV...</td>\n",
       "      <td>wall_art</td>\n",
       "      <td>923</td>\n",
       "    </tr>\n",
       "    <tr>\n",
       "      <th>4659</th>\n",
       "      <td>Marcus Aurelius Poster Framed Canvas Inspirati...</td>\n",
       "      <td>B09ZV9Q3P1</td>\n",
       "      <td>28.85</td>\n",
       "      <td>https://www.amazon.com/Marcus-Aurelius-Inspira...</td>\n",
       "      <td>https://m.media-amazon.com/images/I/611Yzi97Bk...</td>\n",
       "      <td>wall_art</td>\n",
       "      <td>495</td>\n",
       "    </tr>\n",
       "    <tr>\n",
       "      <th>4660</th>\n",
       "      <td>Theodore Roosevelt Poster Canvas The Man In Th...</td>\n",
       "      <td>B09ZVCQ9GS</td>\n",
       "      <td>48.88</td>\n",
       "      <td>https://www.amazon.com/Theodore-Roosevelt-Post...</td>\n",
       "      <td>https://m.media-amazon.com/images/I/713bzBlkaZ...</td>\n",
       "      <td>wall_art</td>\n",
       "      <td>888</td>\n",
       "    </tr>\n",
       "    <tr>\n",
       "      <th>4661</th>\n",
       "      <td>Canvas Wall Art for Living Room Bedroom Decora...</td>\n",
       "      <td>B0B4C4VTLR</td>\n",
       "      <td>32.99</td>\n",
       "      <td>https://www.amazon.com/Canvas-Wall-Living-Bedr...</td>\n",
       "      <td>https://m.media-amazon.com/images/I/81oGWl-X7n...</td>\n",
       "      <td>wall_art</td>\n",
       "      <td>3548</td>\n",
       "    </tr>\n",
       "  </tbody>\n",
       "</table>\n",
       "<p>4662 rows × 7 columns</p>\n",
       "</div>"
      ],
      "text/plain": [
       "                                                   name        asin  price  \\\n",
       "0     Umbra Mini Waste Can 1-1/2 Gallon with Swing L...  B0000V09E6  14.95   \n",
       "1     iDesign Plastic Soap Saver, Holder Tray for Ba...  B000DZFA66   4.48   \n",
       "2     Danco 88821 2-3/4-Inch Tub Mesh Strainer, Stai...  B000DZGJX4   6.93   \n",
       "3     Better Living Products 76335-1 AVIVA 3 Chamber...  B000FGCW0A  40.64   \n",
       "4     Better Living Products, White 76354 Euro Serie...  B000FGCW0K  27.99   \n",
       "...                                                 ...         ...    ...   \n",
       "4657  BTS Proof Anthology Album Compact Edition Cont...  B09ZKF44MH  28.69   \n",
       "4658  Boho Wall Art Prints Set of 6, Mid-Century Mod...  B09ZNTCQXX  14.99   \n",
       "4659  Marcus Aurelius Poster Framed Canvas Inspirati...  B09ZV9Q3P1  28.85   \n",
       "4660  Theodore Roosevelt Poster Canvas The Man In Th...  B09ZVCQ9GS  48.88   \n",
       "4661  Canvas Wall Art for Living Room Bedroom Decora...  B0B4C4VTLR  32.99   \n",
       "\n",
       "                                                buylink  \\\n",
       "0     https://www.amazon.com/Umbra-2-Gallon-Swing-To...   \n",
       "1     https://www.amazon.com/Plastic-Soap-Holder-Bat...   \n",
       "2     https://www.amazon.com/DANCO-Strainer-Stainles...   \n",
       "3     https://www.amazon.com/Better-Living-Products-...   \n",
       "4     https://www.amazon.com/Better-Living-76354-3-C...   \n",
       "...                                                 ...   \n",
       "4657  https://www.amazon.com/Anthology-Compact-Conte...   \n",
       "4658  https://www.amazon.com/Mid-Century-Geometric-M...   \n",
       "4659  https://www.amazon.com/Marcus-Aurelius-Inspira...   \n",
       "4660  https://www.amazon.com/Theodore-Roosevelt-Post...   \n",
       "4661  https://www.amazon.com/Canvas-Wall-Living-Bedr...   \n",
       "\n",
       "                                                Imglink  category  asin_number  \n",
       "0     https://m.media-amazon.com/images/I/61W7yT2gU5...      bath         2357  \n",
       "1     https://m.media-amazon.com/images/I/51EM3UIQ4o...      bath         3699  \n",
       "2     https://m.media-amazon.com/images/I/71Cv4LE0BW...      bath         3011  \n",
       "3     https://m.media-amazon.com/images/I/71yBzZ7gAw...      bath         2448  \n",
       "4     https://m.media-amazon.com/images/I/61rP3ZhNw1...      bath          214  \n",
       "...                                                 ...       ...          ...  \n",
       "4657  https://m.media-amazon.com/images/I/31iWwSzQb3...  wall_art          476  \n",
       "4658  https://m.media-amazon.com/images/I/714hr8IVuV...  wall_art          923  \n",
       "4659  https://m.media-amazon.com/images/I/611Yzi97Bk...  wall_art          495  \n",
       "4660  https://m.media-amazon.com/images/I/713bzBlkaZ...  wall_art          888  \n",
       "4661  https://m.media-amazon.com/images/I/81oGWl-X7n...  wall_art         3548  \n",
       "\n",
       "[4662 rows x 7 columns]"
      ]
     },
     "metadata": {},
     "output_type": "display_data"
    },
    {
     "name": "stdout",
     "output_type": "stream",
     "text": [
      "** rating_df info **\n",
      "<class 'pandas.core.frame.DataFrame'>\n",
      "RangeIndex: 4662 entries, 0 to 4661\n",
      "Data columns (total 7 columns):\n",
      " #   Column       Non-Null Count  Dtype  \n",
      "---  ------       --------------  -----  \n",
      " 0   name         4662 non-null   object \n",
      " 1   asin         4662 non-null   object \n",
      " 2   price        4662 non-null   float64\n",
      " 3   buylink      4662 non-null   object \n",
      " 4   Imglink      3458 non-null   object \n",
      " 5   category     4662 non-null   object \n",
      " 6   asin_number  4662 non-null   int64  \n",
      "dtypes: float64(1), int64(1), object(5)\n",
      "memory usage: 255.1+ KB\n",
      "None\n"
     ]
    }
   ],
   "source": [
    "item_df['asin_number'] = asin_number_list\n",
    "display(item_df)\n",
    "\n",
    "print('** rating_df info **')\n",
    "print(item_df.info())"
   ]
  },
  {
   "cell_type": "code",
   "execution_count": 281,
   "id": "a665c171",
   "metadata": {},
   "outputs": [],
   "source": [
    "item_df = item_df[['asin', 'category', 'asin_number']]"
   ]
  },
  {
   "cell_type": "markdown",
   "id": "f00d86f1",
   "metadata": {},
   "source": [
    "## 리뷰 데이터 준비\n",
    "### 리뷰 데이터 합치기"
   ]
  },
  {
   "cell_type": "code",
   "execution_count": 282,
   "id": "74011985",
   "metadata": {},
   "outputs": [],
   "source": [
    "rating_df = pd.read_csv('review_meta.csv')"
   ]
  },
  {
   "cell_type": "code",
   "execution_count": 283,
   "id": "7fd42e7a",
   "metadata": {},
   "outputs": [
    {
     "data": {
      "text/plain": [
       "(356733, 6)"
      ]
     },
     "execution_count": 283,
     "metadata": {},
     "output_type": "execute_result"
    }
   ],
   "source": [
    "rating_df.shape"
   ]
  },
  {
   "cell_type": "code",
   "execution_count": 284,
   "id": "aba7f6c1",
   "metadata": {},
   "outputs": [
    {
     "data": {
      "text/plain": [
       "asin              0\n",
       "name              1\n",
       "review_date       0\n",
       "rating            0\n",
       "review_title      2\n",
       "review_content    0\n",
       "dtype: int64"
      ]
     },
     "execution_count": 284,
     "metadata": {},
     "output_type": "execute_result"
    }
   ],
   "source": [
    "rating_df.isnull().sum()"
   ]
  },
  {
   "cell_type": "code",
   "execution_count": 285,
   "id": "1fc9ab39",
   "metadata": {},
   "outputs": [
    {
     "data": {
      "text/plain": [
       "(356730, 6)"
      ]
     },
     "execution_count": 285,
     "metadata": {},
     "output_type": "execute_result"
    }
   ],
   "source": [
    "rating_df = rating_df.dropna(subset=['name'])\n",
    "rating_df = rating_df.dropna(subset=['review_title'])\n",
    "rating_df.shape"
   ]
  },
  {
   "cell_type": "markdown",
   "id": "5cf031cd",
   "metadata": {},
   "source": [
    "### 유저 name에 고유한 number 부여"
   ]
  },
  {
   "cell_type": "code",
   "execution_count": 286,
   "id": "d1cd0b6f",
   "metadata": {},
   "outputs": [],
   "source": [
    "name_list = rating_df['name'].unique()"
   ]
  },
  {
   "cell_type": "code",
   "execution_count": 287,
   "id": "d6327b9d",
   "metadata": {},
   "outputs": [],
   "source": [
    "name_number_dict = {}\n",
    "\n",
    "for idx, name in enumerate(name_list):\n",
    "    name_number_dict[name] = idx"
   ]
  },
  {
   "cell_type": "code",
   "execution_count": 288,
   "id": "596cc778",
   "metadata": {
    "ExecuteTime": {
     "end_time": "2022-07-01T06:47:22.051098Z",
     "start_time": "2022-07-01T06:47:22.008216Z"
    }
   },
   "outputs": [],
   "source": [
    "name_number_list = []\n",
    "\n",
    "for name in rating_df['name']:\n",
    "    name_number_list.append(name_number_dict.get(name))"
   ]
  },
  {
   "cell_type": "code",
   "execution_count": 289,
   "id": "d1836756",
   "metadata": {
    "ExecuteTime": {
     "end_time": "2022-07-01T06:47:22.081020Z",
     "start_time": "2022-07-01T06:47:22.052098Z"
    }
   },
   "outputs": [
    {
     "name": "stdout",
     "output_type": "stream",
     "text": [
      "** rating_df **\n"
     ]
    },
    {
     "data": {
      "text/html": [
       "<div>\n",
       "<style scoped>\n",
       "    .dataframe tbody tr th:only-of-type {\n",
       "        vertical-align: middle;\n",
       "    }\n",
       "\n",
       "    .dataframe tbody tr th {\n",
       "        vertical-align: top;\n",
       "    }\n",
       "\n",
       "    .dataframe thead th {\n",
       "        text-align: right;\n",
       "    }\n",
       "</style>\n",
       "<table border=\"1\" class=\"dataframe\">\n",
       "  <thead>\n",
       "    <tr style=\"text-align: right;\">\n",
       "      <th></th>\n",
       "      <th>asin</th>\n",
       "      <th>name</th>\n",
       "      <th>review_date</th>\n",
       "      <th>rating</th>\n",
       "      <th>review_title</th>\n",
       "      <th>review_content</th>\n",
       "      <th>user_number</th>\n",
       "    </tr>\n",
       "  </thead>\n",
       "  <tbody>\n",
       "    <tr>\n",
       "      <th>0</th>\n",
       "      <td>B00004C8S8</td>\n",
       "      <td>Justin B</td>\n",
       "      <td>2019-07-15</td>\n",
       "      <td>3</td>\n",
       "      <td>Wonderfully designed product- if it worked...</td>\n",
       "      <td>This is a wonderful product in all ways except...</td>\n",
       "      <td>0</td>\n",
       "    </tr>\n",
       "    <tr>\n",
       "      <th>1</th>\n",
       "      <td>B00004C8S8</td>\n",
       "      <td>Jodi L. Williams</td>\n",
       "      <td>2021-06-21</td>\n",
       "      <td>5</td>\n",
       "      <td>Fourteen years! That's how long they last.</td>\n",
       "      <td>Someone bought me a Safety First infant safety...</td>\n",
       "      <td>1</td>\n",
       "    </tr>\n",
       "    <tr>\n",
       "      <th>2</th>\n",
       "      <td>B00004C8S8</td>\n",
       "      <td>jessica jane</td>\n",
       "      <td>2017-04-18</td>\n",
       "      <td>5</td>\n",
       "      <td>Best baby nail clippers</td>\n",
       "      <td>Save yourself time researching all the options...</td>\n",
       "      <td>2</td>\n",
       "    </tr>\n",
       "    <tr>\n",
       "      <th>3</th>\n",
       "      <td>B00004C8S8</td>\n",
       "      <td>Cowboy</td>\n",
       "      <td>2017-06-01</td>\n",
       "      <td>3</td>\n",
       "      <td>Pointless plastic attachment.</td>\n",
       "      <td>These are sharp and provide a good clean cut f...</td>\n",
       "      <td>3</td>\n",
       "    </tr>\n",
       "    <tr>\n",
       "      <th>4</th>\n",
       "      <td>B00004C8S8</td>\n",
       "      <td>GrannyEm</td>\n",
       "      <td>2017-01-02</td>\n",
       "      <td>5</td>\n",
       "      <td>Granny approved baby nail clipper</td>\n",
       "      <td>Nice and durable but gentle for baby… I don’t ...</td>\n",
       "      <td>4</td>\n",
       "    </tr>\n",
       "  </tbody>\n",
       "</table>\n",
       "</div>"
      ],
      "text/plain": [
       "         asin              name review_date  rating  \\\n",
       "0  B00004C8S8          Justin B  2019-07-15       3   \n",
       "1  B00004C8S8  Jodi L. Williams  2021-06-21       5   \n",
       "2  B00004C8S8      jessica jane  2017-04-18       5   \n",
       "3  B00004C8S8            Cowboy  2017-06-01       3   \n",
       "4  B00004C8S8          GrannyEm  2017-01-02       5   \n",
       "\n",
       "                                    review_title  \\\n",
       "0  Wonderfully designed product- if it worked...   \n",
       "1     Fourteen years! That's how long they last.   \n",
       "2                        Best baby nail clippers   \n",
       "3                  Pointless plastic attachment.   \n",
       "4              Granny approved baby nail clipper   \n",
       "\n",
       "                                      review_content  user_number  \n",
       "0  This is a wonderful product in all ways except...            0  \n",
       "1  Someone bought me a Safety First infant safety...            1  \n",
       "2  Save yourself time researching all the options...            2  \n",
       "3  These are sharp and provide a good clean cut f...            3  \n",
       "4  Nice and durable but gentle for baby… I don’t ...            4  "
      ]
     },
     "metadata": {},
     "output_type": "display_data"
    },
    {
     "name": "stdout",
     "output_type": "stream",
     "text": [
      "** rating_df info **\n",
      "<class 'pandas.core.frame.DataFrame'>\n",
      "Int64Index: 356730 entries, 0 to 356732\n",
      "Data columns (total 7 columns):\n",
      " #   Column          Non-Null Count   Dtype \n",
      "---  ------          --------------   ----- \n",
      " 0   asin            356730 non-null  object\n",
      " 1   name            356730 non-null  object\n",
      " 2   review_date     356730 non-null  object\n",
      " 3   rating          356730 non-null  int64 \n",
      " 4   review_title    356730 non-null  object\n",
      " 5   review_content  356730 non-null  object\n",
      " 6   user_number     356730 non-null  int64 \n",
      "dtypes: int64(2), object(5)\n",
      "memory usage: 21.8+ MB\n",
      "None\n"
     ]
    }
   ],
   "source": [
    "rating_df['user_number'] = name_number_list\n",
    "\n",
    "print('** rating_df **')\n",
    "display(rating_df.head())\n",
    "\n",
    "print('** rating_df info **')\n",
    "print(rating_df.info())"
   ]
  },
  {
   "cell_type": "markdown",
   "id": "e98b0b92",
   "metadata": {},
   "source": [
    "### rating_df 에서 Asin에 고유한 number 부여"
   ]
  },
  {
   "cell_type": "code",
   "execution_count": 290,
   "id": "0349f732",
   "metadata": {},
   "outputs": [],
   "source": [
    "asin_number_list2 = []\n",
    "\n",
    "for asin in rating_df['asin']:\n",
    "    asin_number_list2.append(asin_number_dict.get(asin))\n",
    "    \n",
    "rating_df['asin_number'] = asin_number_list2"
   ]
  },
  {
   "cell_type": "code",
   "execution_count": 291,
   "id": "caa50007",
   "metadata": {},
   "outputs": [
    {
     "data": {
      "text/plain": [
       "asin                  0\n",
       "name                  0\n",
       "review_date           0\n",
       "rating                0\n",
       "review_title          0\n",
       "review_content        0\n",
       "user_number           0\n",
       "asin_number       41718\n",
       "dtype: int64"
      ]
     },
     "execution_count": 291,
     "metadata": {},
     "output_type": "execute_result"
    }
   ],
   "source": [
    "rating_df.isnull().sum()"
   ]
  },
  {
   "cell_type": "code",
   "execution_count": 292,
   "id": "f63ec55c",
   "metadata": {},
   "outputs": [],
   "source": [
    "rating_df = rating_df.dropna(subset=['asin_number'])"
   ]
  },
  {
   "cell_type": "code",
   "execution_count": 294,
   "id": "d50619ec",
   "metadata": {},
   "outputs": [],
   "source": [
    "rating_df = rating_df[['name', 'asin', 'rating', 'user_number', 'asin_number']]"
   ]
  },
  {
   "cell_type": "code",
   "execution_count": 295,
   "id": "70ad5397",
   "metadata": {},
   "outputs": [
    {
     "name": "stdout",
     "output_type": "stream",
     "text": [
      "** rating_df Dataframe **\n"
     ]
    },
    {
     "data": {
      "text/html": [
       "<div>\n",
       "<style scoped>\n",
       "    .dataframe tbody tr th:only-of-type {\n",
       "        vertical-align: middle;\n",
       "    }\n",
       "\n",
       "    .dataframe tbody tr th {\n",
       "        vertical-align: top;\n",
       "    }\n",
       "\n",
       "    .dataframe thead th {\n",
       "        text-align: right;\n",
       "    }\n",
       "</style>\n",
       "<table border=\"1\" class=\"dataframe\">\n",
       "  <thead>\n",
       "    <tr style=\"text-align: right;\">\n",
       "      <th></th>\n",
       "      <th>name</th>\n",
       "      <th>asin</th>\n",
       "      <th>rating</th>\n",
       "      <th>user_number</th>\n",
       "      <th>asin_number</th>\n",
       "    </tr>\n",
       "  </thead>\n",
       "  <tbody>\n",
       "    <tr>\n",
       "      <th>0</th>\n",
       "      <td>Justin B</td>\n",
       "      <td>B00004C8S8</td>\n",
       "      <td>3</td>\n",
       "      <td>0</td>\n",
       "      <td>1850.0</td>\n",
       "    </tr>\n",
       "    <tr>\n",
       "      <th>1</th>\n",
       "      <td>Jodi L. Williams</td>\n",
       "      <td>B00004C8S8</td>\n",
       "      <td>5</td>\n",
       "      <td>1</td>\n",
       "      <td>1850.0</td>\n",
       "    </tr>\n",
       "    <tr>\n",
       "      <th>2</th>\n",
       "      <td>jessica jane</td>\n",
       "      <td>B00004C8S8</td>\n",
       "      <td>5</td>\n",
       "      <td>2</td>\n",
       "      <td>1850.0</td>\n",
       "    </tr>\n",
       "    <tr>\n",
       "      <th>3</th>\n",
       "      <td>Cowboy</td>\n",
       "      <td>B00004C8S8</td>\n",
       "      <td>3</td>\n",
       "      <td>3</td>\n",
       "      <td>1850.0</td>\n",
       "    </tr>\n",
       "    <tr>\n",
       "      <th>4</th>\n",
       "      <td>GrannyEm</td>\n",
       "      <td>B00004C8S8</td>\n",
       "      <td>5</td>\n",
       "      <td>4</td>\n",
       "      <td>1850.0</td>\n",
       "    </tr>\n",
       "    <tr>\n",
       "      <th>...</th>\n",
       "      <td>...</td>\n",
       "      <td>...</td>\n",
       "      <td>...</td>\n",
       "      <td>...</td>\n",
       "      <td>...</td>\n",
       "    </tr>\n",
       "    <tr>\n",
       "      <th>356728</th>\n",
       "      <td>Amazon Customer</td>\n",
       "      <td>B0B3W1HRYF</td>\n",
       "      <td>5</td>\n",
       "      <td>31</td>\n",
       "      <td>2758.0</td>\n",
       "    </tr>\n",
       "    <tr>\n",
       "      <th>356729</th>\n",
       "      <td>DR</td>\n",
       "      <td>B0B3W1HRYF</td>\n",
       "      <td>4</td>\n",
       "      <td>6030</td>\n",
       "      <td>2758.0</td>\n",
       "    </tr>\n",
       "    <tr>\n",
       "      <th>356730</th>\n",
       "      <td>jesus liendo</td>\n",
       "      <td>B0B3W1HRYF</td>\n",
       "      <td>5</td>\n",
       "      <td>32014</td>\n",
       "      <td>2758.0</td>\n",
       "    </tr>\n",
       "    <tr>\n",
       "      <th>356731</th>\n",
       "      <td>Amazon Customer</td>\n",
       "      <td>B0B3W1HRYF</td>\n",
       "      <td>5</td>\n",
       "      <td>31</td>\n",
       "      <td>2758.0</td>\n",
       "    </tr>\n",
       "    <tr>\n",
       "      <th>356732</th>\n",
       "      <td>Amazon Customer</td>\n",
       "      <td>B0B3W1HRYF</td>\n",
       "      <td>5</td>\n",
       "      <td>31</td>\n",
       "      <td>2758.0</td>\n",
       "    </tr>\n",
       "  </tbody>\n",
       "</table>\n",
       "<p>315012 rows × 5 columns</p>\n",
       "</div>"
      ],
      "text/plain": [
       "                    name        asin  rating  user_number  asin_number\n",
       "0               Justin B  B00004C8S8       3            0       1850.0\n",
       "1       Jodi L. Williams  B00004C8S8       5            1       1850.0\n",
       "2           jessica jane  B00004C8S8       5            2       1850.0\n",
       "3                 Cowboy  B00004C8S8       3            3       1850.0\n",
       "4               GrannyEm  B00004C8S8       5            4       1850.0\n",
       "...                  ...         ...     ...          ...          ...\n",
       "356728   Amazon Customer  B0B3W1HRYF       5           31       2758.0\n",
       "356729                DR  B0B3W1HRYF       4         6030       2758.0\n",
       "356730      jesus liendo  B0B3W1HRYF       5        32014       2758.0\n",
       "356731   Amazon Customer  B0B3W1HRYF       5           31       2758.0\n",
       "356732   Amazon Customer  B0B3W1HRYF       5           31       2758.0\n",
       "\n",
       "[315012 rows x 5 columns]"
      ]
     },
     "metadata": {},
     "output_type": "display_data"
    },
    {
     "name": "stdout",
     "output_type": "stream",
     "text": [
      "\n",
      "** rating_df Information **\n",
      "<class 'pandas.core.frame.DataFrame'>\n",
      "Int64Index: 315012 entries, 0 to 356732\n",
      "Data columns (total 5 columns):\n",
      " #   Column       Non-Null Count   Dtype  \n",
      "---  ------       --------------   -----  \n",
      " 0   name         315012 non-null  object \n",
      " 1   asin         315012 non-null  object \n",
      " 2   rating       315012 non-null  int64  \n",
      " 3   user_number  315012 non-null  int64  \n",
      " 4   asin_number  315012 non-null  float64\n",
      "dtypes: float64(1), int64(2), object(2)\n",
      "memory usage: 14.4+ MB\n"
     ]
    },
    {
     "data": {
      "text/plain": [
       "None"
      ]
     },
     "metadata": {},
     "output_type": "display_data"
    }
   ],
   "source": [
    "print('** rating_df Dataframe **')\n",
    "display(rating_df)\n",
    "\n",
    "print('\\n** rating_df Information **')\n",
    "display(rating_df.info())"
   ]
  },
  {
   "cell_type": "code",
   "execution_count": 296,
   "id": "6765c1db",
   "metadata": {},
   "outputs": [],
   "source": [
    "rating_df = rating_df.astype({'asin_number': int})"
   ]
  },
  {
   "cell_type": "code",
   "execution_count": 297,
   "id": "ba47a698",
   "metadata": {},
   "outputs": [
    {
     "name": "stdout",
     "output_type": "stream",
     "text": [
      "<class 'pandas.core.frame.DataFrame'>\n",
      "Int64Index: 315012 entries, 0 to 356732\n",
      "Data columns (total 5 columns):\n",
      " #   Column       Non-Null Count   Dtype \n",
      "---  ------       --------------   ----- \n",
      " 0   name         315012 non-null  object\n",
      " 1   asin         315012 non-null  object\n",
      " 2   rating       315012 non-null  int64 \n",
      " 3   user_number  315012 non-null  int64 \n",
      " 4   asin_number  315012 non-null  int32 \n",
      "dtypes: int32(1), int64(2), object(2)\n",
      "memory usage: 13.2+ MB\n"
     ]
    }
   ],
   "source": [
    "rating_df.info()"
   ]
  },
  {
   "cell_type": "markdown",
   "id": "ca096321",
   "metadata": {},
   "source": [
    "# 추천 알고리즘"
   ]
  },
  {
   "cell_type": "markdown",
   "id": "d235dfdc",
   "metadata": {},
   "source": [
    "## 추천 제품 개수"
   ]
  },
  {
   "cell_type": "code",
   "execution_count": 298,
   "id": "bc856b93",
   "metadata": {
    "ExecuteTime": {
     "end_time": "2022-07-01T06:47:22.217173Z",
     "start_time": "2022-07-01T06:47:22.203211Z"
    }
   },
   "outputs": [],
   "source": [
    "topK = 5"
   ]
  },
  {
   "cell_type": "markdown",
   "id": "f880e8f7",
   "metadata": {},
   "source": [
    "### 인기 기반 구현 Popular Based\n",
    "- 가중 등급 시스템(weighted rating)\n",
    "- WR = ( (v / (v + m)) * R) + ( (m / (v + m)) * C )\n",
    "\n",
    "- R: 아이템의 평균 rating\n",
    "\n",
    "- v: 아이템에 투표한 수\n",
    "\n",
    "- m: 인기 항목에 나열되는 데 필요한 최소 투표수\n",
    "\n",
    "- C: 전체 데이터셋을 통해서 얻은 평균 rating"
   ]
  },
  {
   "cell_type": "code",
   "execution_count": 299,
   "id": "ad763aa9",
   "metadata": {
    "ExecuteTime": {
     "end_time": "2022-07-01T06:47:22.338375Z",
     "start_time": "2022-07-01T06:47:22.219169Z"
    }
   },
   "outputs": [],
   "source": [
    "def weightedRating(v,m,R,C):\n",
    "    return ( (v / (v + m)) * R) + ( (m / (v + m)) * C )\n",
    "\n",
    "def assignPopularBasedScore(rating_df, item_df, user_col, item_col, rating_col):\n",
    "    # pre processing\n",
    "    vote_count = (\n",
    "        rating_df\n",
    "        .groupby(item_col,as_index=False)\n",
    "        .agg( {user_col:'count', rating_col:'mean'} )\n",
    "        )\n",
    "    vote_count.columns = [item_col, 'vote_count', 'avg_rating']\n",
    "    \n",
    "    # calcuate input parameters\n",
    "    C = np.mean(vote_count['avg_rating'])\n",
    "    m = np.percentile(vote_count['vote_count'], 70)\n",
    "    vote_count = vote_count[vote_count['vote_count'] >= m]\n",
    "    R = vote_count['avg_rating']\n",
    "    v = vote_count['vote_count']\n",
    "    vote_count['weighted_rating'] = weightedRating(v,m,R,C)\n",
    "    \n",
    "    # post processing\n",
    "    vote_count = vote_count.merge(item_df, on = [item_col], how = 'left')\n",
    "    popular_items = vote_count.loc[:,[item_col, 'category', 'vote_count', 'avg_rating', 'weighted_rating']]\n",
    "    \n",
    "    return popular_items\n"
   ]
  },
  {
   "cell_type": "code",
   "execution_count": 300,
   "id": "2a7befea",
   "metadata": {},
   "outputs": [
    {
     "data": {
      "text/html": [
       "<div>\n",
       "<style scoped>\n",
       "    .dataframe tbody tr th:only-of-type {\n",
       "        vertical-align: middle;\n",
       "    }\n",
       "\n",
       "    .dataframe tbody tr th {\n",
       "        vertical-align: top;\n",
       "    }\n",
       "\n",
       "    .dataframe thead th {\n",
       "        text-align: right;\n",
       "    }\n",
       "</style>\n",
       "<table border=\"1\" class=\"dataframe\">\n",
       "  <thead>\n",
       "    <tr style=\"text-align: right;\">\n",
       "      <th></th>\n",
       "      <th>asin</th>\n",
       "      <th>category</th>\n",
       "      <th>vote_count</th>\n",
       "      <th>avg_rating</th>\n",
       "      <th>weighted_rating</th>\n",
       "    </tr>\n",
       "  </thead>\n",
       "  <tbody>\n",
       "    <tr>\n",
       "      <th>0</th>\n",
       "      <td>B09VMR3VTW</td>\n",
       "      <td>heating_cooling_airquality</td>\n",
       "      <td>100</td>\n",
       "      <td>4.95</td>\n",
       "      <td>4.496195</td>\n",
       "    </tr>\n",
       "    <tr>\n",
       "      <th>1</th>\n",
       "      <td>B00PR82UC6</td>\n",
       "      <td>home_storage_organization</td>\n",
       "      <td>100</td>\n",
       "      <td>4.94</td>\n",
       "      <td>4.491195</td>\n",
       "    </tr>\n",
       "    <tr>\n",
       "      <th>2</th>\n",
       "      <td>B087V8JHSD</td>\n",
       "      <td>cleaning_supplies</td>\n",
       "      <td>100</td>\n",
       "      <td>4.94</td>\n",
       "      <td>4.491195</td>\n",
       "    </tr>\n",
       "    <tr>\n",
       "      <th>3</th>\n",
       "      <td>B07V4GHXZX</td>\n",
       "      <td>home_storage_organization</td>\n",
       "      <td>100</td>\n",
       "      <td>4.93</td>\n",
       "      <td>4.486195</td>\n",
       "    </tr>\n",
       "    <tr>\n",
       "      <th>4</th>\n",
       "      <td>B01LWQMM4V</td>\n",
       "      <td>kids_home_store</td>\n",
       "      <td>100</td>\n",
       "      <td>4.92</td>\n",
       "      <td>4.481195</td>\n",
       "    </tr>\n",
       "    <tr>\n",
       "      <th>5</th>\n",
       "      <td>B098SGV2FL</td>\n",
       "      <td>vacuums_floor_care</td>\n",
       "      <td>100</td>\n",
       "      <td>4.92</td>\n",
       "      <td>4.481195</td>\n",
       "    </tr>\n",
       "    <tr>\n",
       "      <th>6</th>\n",
       "      <td>B07DJ53GZQ</td>\n",
       "      <td>kitchen_dining</td>\n",
       "      <td>100</td>\n",
       "      <td>4.92</td>\n",
       "      <td>4.481195</td>\n",
       "    </tr>\n",
       "    <tr>\n",
       "      <th>7</th>\n",
       "      <td>B07MFRXD6Q</td>\n",
       "      <td>party_supplies</td>\n",
       "      <td>100</td>\n",
       "      <td>4.92</td>\n",
       "      <td>4.481195</td>\n",
       "    </tr>\n",
       "    <tr>\n",
       "      <th>8</th>\n",
       "      <td>B01LWQMM4V</td>\n",
       "      <td>bedding</td>\n",
       "      <td>100</td>\n",
       "      <td>4.92</td>\n",
       "      <td>4.481195</td>\n",
       "    </tr>\n",
       "    <tr>\n",
       "      <th>9</th>\n",
       "      <td>B07QQZS9M5</td>\n",
       "      <td>irons_steamers</td>\n",
       "      <td>100</td>\n",
       "      <td>4.91</td>\n",
       "      <td>4.476195</td>\n",
       "    </tr>\n",
       "  </tbody>\n",
       "</table>\n",
       "</div>"
      ],
      "text/plain": [
       "         asin                    category  vote_count  avg_rating  \\\n",
       "0  B09VMR3VTW  heating_cooling_airquality         100        4.95   \n",
       "1  B00PR82UC6   home_storage_organization         100        4.94   \n",
       "2  B087V8JHSD           cleaning_supplies         100        4.94   \n",
       "3  B07V4GHXZX   home_storage_organization         100        4.93   \n",
       "4  B01LWQMM4V             kids_home_store         100        4.92   \n",
       "5  B098SGV2FL          vacuums_floor_care         100        4.92   \n",
       "6  B07DJ53GZQ              kitchen_dining         100        4.92   \n",
       "7  B07MFRXD6Q              party_supplies         100        4.92   \n",
       "8  B01LWQMM4V                     bedding         100        4.92   \n",
       "9  B07QQZS9M5              irons_steamers         100        4.91   \n",
       "\n",
       "   weighted_rating  \n",
       "0         4.496195  \n",
       "1         4.491195  \n",
       "2         4.491195  \n",
       "3         4.486195  \n",
       "4         4.481195  \n",
       "5         4.481195  \n",
       "6         4.481195  \n",
       "7         4.481195  \n",
       "8         4.481195  \n",
       "9         4.476195  "
      ]
     },
     "execution_count": 300,
     "metadata": {},
     "output_type": "execute_result"
    }
   ],
   "source": [
    "# calcualte popularity based\n",
    "pop_items = assignPopularBasedScore(rating_df, item_df, 'name', 'asin', 'rating')\n",
    "pop_items = pop_items.sort_values('weighted_rating', ascending = False)\n",
    "\n",
    "pop_items.reset_index(drop=True).head(10)"
   ]
  },
  {
   "cell_type": "markdown",
   "id": "f211a190",
   "metadata": {},
   "source": [
    "# Content-based\n",
    "- 제품과 카테고리 기반 코사인 유사도를 계산해서 추천\n",
    "- 사용자가 원하는 content에 대해서 벡터화 -> 벡터화된 데이터로 유사도만 계산해주면 사용 가능\n",
    "\n",
    "- 근데 이거는 어차페 카테고리가 다 같아서 쓸모 없을 듯"
   ]
  },
  {
   "cell_type": "code",
   "execution_count": 304,
   "id": "3c387b27",
   "metadata": {},
   "outputs": [
    {
     "data": {
      "text/plain": [
       "0        True\n",
       "1        True\n",
       "2        True\n",
       "3        True\n",
       "4        True\n",
       "        ...  \n",
       "4657     True\n",
       "4658     True\n",
       "4659    False\n",
       "4660    False\n",
       "4661    False\n",
       "Name: asin, Length: 4662, dtype: bool"
      ]
     },
     "execution_count": 304,
     "metadata": {},
     "output_type": "execute_result"
    }
   ],
   "source": [
    "item_df['asin'].isin(rating_df['asin'])"
   ]
  },
  {
   "cell_type": "code",
   "execution_count": 312,
   "id": "da7d0523",
   "metadata": {
    "ExecuteTime": {
     "end_time": "2022-07-01T06:47:22.473015Z",
     "start_time": "2022-07-01T06:47:22.385251Z"
    }
   },
   "outputs": [],
   "source": [
    "def topKItems(itemId, topK, corrMat, mapName):\n",
    "    \n",
    "    # 상관계수 정렬 &nd topK 제품 선택\n",
    "    topItemsNums = corrMat[itemId,:].argsort()[-topK:][::-1]\n",
    "    topItems = []\n",
    "    for e in topItemsNums:\n",
    "        try:\n",
    "            item = mapName[e]\n",
    "            topItems.append(item)\n",
    "        except:\n",
    "            pass\n",
    "        \n",
    "    return topItems"
   ]
  },
  {
   "cell_type": "code",
   "execution_count": 313,
   "id": "47e61e2a",
   "metadata": {},
   "outputs": [
    {
     "name": "stdout",
     "output_type": "stream",
     "text": [
      "The 5 similar product to Asin B00004C8S8\n"
     ]
    },
    {
     "data": {
      "text/html": [
       "<div>\n",
       "<style scoped>\n",
       "    .dataframe tbody tr th:only-of-type {\n",
       "        vertical-align: middle;\n",
       "    }\n",
       "\n",
       "    .dataframe tbody tr th {\n",
       "        vertical-align: top;\n",
       "    }\n",
       "\n",
       "    .dataframe thead th {\n",
       "        text-align: right;\n",
       "    }\n",
       "</style>\n",
       "<table border=\"1\" class=\"dataframe\">\n",
       "  <thead>\n",
       "    <tr style=\"text-align: right;\">\n",
       "      <th></th>\n",
       "      <th>asin</th>\n",
       "      <th>category</th>\n",
       "      <th>asin_number</th>\n",
       "    </tr>\n",
       "  </thead>\n",
       "  <tbody>\n",
       "    <tr>\n",
       "      <th>399</th>\n",
       "      <td>B07K8QBMLY</td>\n",
       "      <td>bedding</td>\n",
       "      <td>1192</td>\n",
       "    </tr>\n",
       "    <tr>\n",
       "      <th>1225</th>\n",
       "      <td>B07KWRTRFF</td>\n",
       "      <td>furniture</td>\n",
       "      <td>4399</td>\n",
       "    </tr>\n",
       "    <tr>\n",
       "      <th>1323</th>\n",
       "      <td>B07KBSPCVX</td>\n",
       "      <td>furniture</td>\n",
       "      <td>890</td>\n",
       "    </tr>\n",
       "    <tr>\n",
       "      <th>2903</th>\n",
       "      <td>B07K8DD2MR</td>\n",
       "      <td>kids_home_store</td>\n",
       "      <td>3582</td>\n",
       "    </tr>\n",
       "    <tr>\n",
       "      <th>2904</th>\n",
       "      <td>B07K8QBMLY</td>\n",
       "      <td>kids_home_store</td>\n",
       "      <td>1192</td>\n",
       "    </tr>\n",
       "    <tr>\n",
       "      <th>2905</th>\n",
       "      <td>B07KBSPCVX</td>\n",
       "      <td>kids_home_store</td>\n",
       "      <td>890</td>\n",
       "    </tr>\n",
       "    <tr>\n",
       "      <th>2910</th>\n",
       "      <td>B07KWRTRFF</td>\n",
       "      <td>kids_home_store</td>\n",
       "      <td>4399</td>\n",
       "    </tr>\n",
       "    <tr>\n",
       "      <th>2965</th>\n",
       "      <td>B0811SP2P3</td>\n",
       "      <td>kids_home_store</td>\n",
       "      <td>681</td>\n",
       "    </tr>\n",
       "  </tbody>\n",
       "</table>\n",
       "</div>"
      ],
      "text/plain": [
       "            asin         category  asin_number\n",
       "399   B07K8QBMLY          bedding         1192\n",
       "1225  B07KWRTRFF        furniture         4399\n",
       "1323  B07KBSPCVX        furniture          890\n",
       "2903  B07K8DD2MR  kids_home_store         3582\n",
       "2904  B07K8QBMLY  kids_home_store         1192\n",
       "2905  B07KBSPCVX  kids_home_store          890\n",
       "2910  B07KWRTRFF  kids_home_store         4399\n",
       "2965  B0811SP2P3  kids_home_store          681"
      ]
     },
     "metadata": {},
     "output_type": "display_data"
    },
    {
     "data": {
      "text/plain": [
       "101"
      ]
     },
     "execution_count": 313,
     "metadata": {},
     "output_type": "execute_result"
    }
   ],
   "source": [
    "# preprocessing\n",
    "ratedItems = item_df.loc[item_df['asin'].isin(rating_df['asin'])].copy()\n",
    "\n",
    "# extract the Category\n",
    "Category = ratedItems['category'].str.split(\",\", expand=True)\n",
    "\n",
    "# get all possible Category\n",
    "allCategory = set()\n",
    "for c in Category.columns:\n",
    "    distinctCategory = Category[c].str.lower().str.strip().unique()\n",
    "    allCategory.update(distinctCategory)\n",
    "\n",
    "# create item-Category matrix\n",
    "itemCategoryMat = ratedItems[['asin', 'category']].copy()\n",
    "itemCategoryMat['category'] = itemCategoryMat['category'].str.lower().str.strip()\n",
    "\n",
    "# OHE the genres column\n",
    "for Category in allCategory:\n",
    "    itemCategoryMat[Category] = np.where(itemCategoryMat['category'].str.contains(Category), 1, 0)\n",
    "itemCategoryMat = itemCategoryMat.drop(['category'], axis=1)\n",
    "itemCategoryMat = itemCategoryMat.set_index('asin')\n",
    "\n",
    "# compute similarity matix\n",
    "corrMat = cosine_similarity(itemCategoryMat)\n",
    "\n",
    "\n",
    "# get topK similar items\n",
    "ind2name = {ind:name for ind,name in enumerate(itemCategoryMat.index)}\n",
    "name2ind = {v:k for k,v in ind2name.items()}\n",
    "similarItems = topKItems(name2ind['B00004C8S8'],\n",
    "                            topK = topK,\n",
    "                            corrMat = corrMat,\n",
    "                            mapName = ind2name)\n",
    "\n",
    "# display result\n",
    "print(f\"The {topK} similar product to Asin B00004C8S8\")\n",
    "display(item_df.loc[item_df['asin'].isin(similarItems)])\n",
    "\n",
    "del corrMat\n",
    "gc.collect()"
   ]
  },
  {
   "cell_type": "code",
   "execution_count": null,
   "id": "960e2029",
   "metadata": {},
   "outputs": [],
   "source": []
  },
  {
   "cell_type": "markdown",
   "id": "4a56d6b9",
   "metadata": {},
   "source": [
    "# Collaborative filtering\n",
    "- 아이템 x 유저 행렬 만들어서 진행\n",
    "\n",
    "##  Memory-based"
   ]
  },
  {
   "cell_type": "code",
   "execution_count": 314,
   "id": "59fd094e",
   "metadata": {
    "ExecuteTime": {
     "end_time": "2022-07-01T06:47:22.547815Z",
     "start_time": "2022-07-01T06:47:22.518893Z"
    }
   },
   "outputs": [
    {
     "name": "stdout",
     "output_type": "stream",
     "text": [
      "Sparsity: 0.02%. This means that 0.02% of the user-item ratings have a value.\n",
      "The 5 similar product to Asin B00004C8S8\n"
     ]
    },
    {
     "data": {
      "text/html": [
       "<div>\n",
       "<style scoped>\n",
       "    .dataframe tbody tr th:only-of-type {\n",
       "        vertical-align: middle;\n",
       "    }\n",
       "\n",
       "    .dataframe tbody tr th {\n",
       "        vertical-align: top;\n",
       "    }\n",
       "\n",
       "    .dataframe thead th {\n",
       "        text-align: right;\n",
       "    }\n",
       "</style>\n",
       "<table border=\"1\" class=\"dataframe\">\n",
       "  <thead>\n",
       "    <tr style=\"text-align: right;\">\n",
       "      <th></th>\n",
       "      <th>asin</th>\n",
       "      <th>category</th>\n",
       "      <th>asin_number</th>\n",
       "    </tr>\n",
       "  </thead>\n",
       "  <tbody>\n",
       "    <tr>\n",
       "      <th>1602</th>\n",
       "      <td>B07VHP682L</td>\n",
       "      <td>heating_cooling_airquality</td>\n",
       "      <td>661</td>\n",
       "    </tr>\n",
       "    <tr>\n",
       "      <th>1635</th>\n",
       "      <td>B082NX8GTF</td>\n",
       "      <td>heating_cooling_airquality</td>\n",
       "      <td>657</td>\n",
       "    </tr>\n",
       "    <tr>\n",
       "      <th>1637</th>\n",
       "      <td>B083J36134</td>\n",
       "      <td>heating_cooling_airquality</td>\n",
       "      <td>4208</td>\n",
       "    </tr>\n",
       "    <tr>\n",
       "      <th>1639</th>\n",
       "      <td>B083Q2CPXB</td>\n",
       "      <td>heating_cooling_airquality</td>\n",
       "      <td>2257</td>\n",
       "    </tr>\n",
       "  </tbody>\n",
       "</table>\n",
       "</div>"
      ],
      "text/plain": [
       "            asin                    category  asin_number\n",
       "1602  B07VHP682L  heating_cooling_airquality          661\n",
       "1635  B082NX8GTF  heating_cooling_airquality          657\n",
       "1637  B083J36134  heating_cooling_airquality         4208\n",
       "1639  B083Q2CPXB  heating_cooling_airquality         2257"
      ]
     },
     "metadata": {},
     "output_type": "display_data"
    }
   ],
   "source": [
    "# preprocess data\n",
    "row = rating_df['user_number']\n",
    "col = rating_df['asin_number']\n",
    "data = rating_df['rating']\n",
    "\n",
    "NUM_USERS = len(rating_df)\n",
    "NUM_ITEMS = len(item_df)\n",
    "\n",
    "# init user-item matrix\n",
    "mat = csr_matrix((data, (row, col)), shape=(NUM_USERS, NUM_ITEMS), dtype=int)\n",
    "mat.eliminate_zeros()\n",
    "\n",
    "# calculate sparsity\n",
    "sparsity = float(len(mat.nonzero()[0]))\n",
    "sparsity /= (mat.shape[0] * mat.shape[1])\n",
    "sparsity *= 100\n",
    "print(f'Sparsity: {sparsity:4.2f}%. This means that {sparsity:4.2f}% of the user-item ratings have a value.')\n",
    "\n",
    "# compute similarity\n",
    "item_corr_mat = cosine_similarity(mat.T)\n",
    "\n",
    "# get top k item\n",
    "print(f\"The {topK} similar product to Asin B00004C8S8\")\n",
    "\n",
    "similar_items = topKItems(name2ind['B000DZGJX4'],\n",
    "                            topK = topK,\n",
    "                            corrMat = item_corr_mat,\n",
    "                            mapName = ind2name)\n",
    "\n",
    "display(item_df.loc[item_df['asin'].isin(similar_items)])"
   ]
  },
  {
   "cell_type": "code",
   "execution_count": 316,
   "id": "ea903e61",
   "metadata": {},
   "outputs": [],
   "source": [
    "# 에러 확인\n",
    "\n",
    "# key_list = list(name2ind.keys())\n",
    "# for idx, key in enumerate(key_list):\n",
    "#     try:\n",
    "#         topKItems(name2ind[key], topK = topK, corrMat = item_corr_mat, mapName = ind2name)\n",
    "#     except:\n",
    "#         print(idx, 'error')"
   ]
  },
  {
   "cell_type": "markdown",
   "id": "976ae9c1",
   "metadata": {},
   "source": [
    "## Model based\n",
    "### Matrix Factorization (MF)\n",
    "#### TruncatedSVD (Sklearn)"
   ]
  },
  {
   "cell_type": "markdown",
   "id": "b79e0685",
   "metadata": {},
   "source": [
    "<font color=red><U>**이거 돌릴때마다 값이 다름 이유 모름 그리고 가끔 에러남**</U></font>"
   ]
  },
  {
   "cell_type": "code",
   "execution_count": 317,
   "id": "1487c1e3",
   "metadata": {
    "ExecuteTime": {
     "end_time": "2022-07-01T06:47:22.908428Z",
     "start_time": "2022-07-01T06:47:22.563774Z"
    }
   },
   "outputs": [
    {
     "name": "stdout",
     "output_type": "stream",
     "text": [
      "The 5 similar product to Asin B00004C8S8\n"
     ]
    },
    {
     "data": {
      "text/html": [
       "<div>\n",
       "<style scoped>\n",
       "    .dataframe tbody tr th:only-of-type {\n",
       "        vertical-align: middle;\n",
       "    }\n",
       "\n",
       "    .dataframe tbody tr th {\n",
       "        vertical-align: top;\n",
       "    }\n",
       "\n",
       "    .dataframe thead th {\n",
       "        text-align: right;\n",
       "    }\n",
       "</style>\n",
       "<table border=\"1\" class=\"dataframe\">\n",
       "  <thead>\n",
       "    <tr style=\"text-align: right;\">\n",
       "      <th></th>\n",
       "      <th>asin</th>\n",
       "      <th>category</th>\n",
       "      <th>asin_number</th>\n",
       "    </tr>\n",
       "  </thead>\n",
       "  <tbody>\n",
       "    <tr>\n",
       "      <th>1272</th>\n",
       "      <td>B08L1M6VLD</td>\n",
       "      <td>furniture</td>\n",
       "      <td>1783</td>\n",
       "    </tr>\n",
       "    <tr>\n",
       "      <th>1359</th>\n",
       "      <td>B01B2A969C</td>\n",
       "      <td>furniture</td>\n",
       "      <td>2103</td>\n",
       "    </tr>\n",
       "    <tr>\n",
       "      <th>2837</th>\n",
       "      <td>B01B2A969C</td>\n",
       "      <td>kids_home_store</td>\n",
       "      <td>2103</td>\n",
       "    </tr>\n",
       "    <tr>\n",
       "      <th>3004</th>\n",
       "      <td>B08CTJ4TJY</td>\n",
       "      <td>kids_home_store</td>\n",
       "      <td>1924</td>\n",
       "    </tr>\n",
       "    <tr>\n",
       "      <th>3400</th>\n",
       "      <td>B09PTY7YP9</td>\n",
       "      <td>kitchen_dining</td>\n",
       "      <td>4361</td>\n",
       "    </tr>\n",
       "    <tr>\n",
       "      <th>4252</th>\n",
       "      <td>B07RDBG21C</td>\n",
       "      <td>wall_art</td>\n",
       "      <td>465</td>\n",
       "    </tr>\n",
       "  </tbody>\n",
       "</table>\n",
       "</div>"
      ],
      "text/plain": [
       "            asin         category  asin_number\n",
       "1272  B08L1M6VLD        furniture         1783\n",
       "1359  B01B2A969C        furniture         2103\n",
       "2837  B01B2A969C  kids_home_store         2103\n",
       "3004  B08CTJ4TJY  kids_home_store         1924\n",
       "3400  B09PTY7YP9   kitchen_dining         4361\n",
       "4252  B07RDBG21C         wall_art          465"
      ]
     },
     "metadata": {},
     "output_type": "display_data"
    },
    {
     "data": {
      "text/plain": [
       "7"
      ]
     },
     "execution_count": 317,
     "metadata": {},
     "output_type": "execute_result"
    }
   ],
   "source": [
    "epsilon = 1e-9\n",
    "n_latent_factors = 10\n",
    "\n",
    "# calculate item latent matrix\n",
    "item_svd = TruncatedSVD(n_components = n_latent_factors)\n",
    "item_features = item_svd.fit_transform(mat.transpose()) + epsilon\n",
    "\n",
    "# calculate user latent matrix\n",
    "user_svd = TruncatedSVD(n_components = n_latent_factors)\n",
    "user_features = user_svd.fit_transform(mat) + epsilon\n",
    "\n",
    "# compute similarity\n",
    "item_corr_mat = cosine_similarity(item_features)\n",
    "\n",
    "# get top k item\n",
    "print(f\"The {topK} similar product to Asin B00004C8S8\")\n",
    "similar_items = topKItems(name2ind['B000DZGJX4'],\n",
    "                            topK = topK,\n",
    "                            corrMat = item_corr_mat,\n",
    "                            mapName = ind2name)\n",
    "\n",
    "display(item_df.loc[item_df['asin'].isin(similar_items)])\n",
    "\n",
    "del user_features\n",
    "gc.collect()"
   ]
  },
  {
   "cell_type": "markdown",
   "id": "b5aff5fb",
   "metadata": {},
   "source": [
    "#### Funk MF (Surprise)"
   ]
  },
  {
   "cell_type": "code",
   "execution_count": 318,
   "id": "0e6d94b5",
   "metadata": {
    "ExecuteTime": {
     "end_time": "2022-07-01T06:47:22.953310Z",
     "start_time": "2022-07-01T06:47:22.940343Z"
    }
   },
   "outputs": [],
   "source": [
    "funk_rating_df = rating_df[['name', 'asin', 'rating']]"
   ]
  },
  {
   "cell_type": "code",
   "execution_count": 319,
   "id": "7994184f",
   "metadata": {
    "ExecuteTime": {
     "end_time": "2022-07-01T06:47:24.873775Z",
     "start_time": "2022-07-01T06:47:22.956301Z"
    }
   },
   "outputs": [],
   "source": [
    "def pred2dict(predictions, top_k=None):\n",
    "    \n",
    "    rec_dict = defaultdict(list)\n",
    "    for user_id, item_id, actual_rating, pred_rating, _ in predictions:\n",
    "        rec_dict[user_id].append((item_id, pred_rating))        \n",
    "        \n",
    "    return rec_dict\n",
    "\n",
    "def get_top_k_recommendation(rec_dict, user_id, top_k, ind2name):\n",
    "    \n",
    "    pred_ratings = rec_dict[user_id]\n",
    "    # sort descendingly by pred_rating\n",
    "    pred_ratings = sorted(pred_ratings, key=lambda x: x[1], reverse=True)\n",
    "    pred_ratings = pred_ratings[:top_k]\n",
    "    recs = [ind2name[e[0]] for e in pred_ratings]\n",
    "    \n",
    "    return recs"
   ]
  },
  {
   "cell_type": "code",
   "execution_count": 320,
   "id": "9a9c0acb",
   "metadata": {},
   "outputs": [
    {
     "name": "stdout",
     "output_type": "stream",
     "text": [
      "RMSE: 1.4274\n",
      "The 5 similar product to Asin B00004C8S8\n"
     ]
    },
    {
     "data": {
      "text/html": [
       "<div>\n",
       "<style scoped>\n",
       "    .dataframe tbody tr th:only-of-type {\n",
       "        vertical-align: middle;\n",
       "    }\n",
       "\n",
       "    .dataframe tbody tr th {\n",
       "        vertical-align: top;\n",
       "    }\n",
       "\n",
       "    .dataframe thead th {\n",
       "        text-align: right;\n",
       "    }\n",
       "</style>\n",
       "<table border=\"1\" class=\"dataframe\">\n",
       "  <thead>\n",
       "    <tr style=\"text-align: right;\">\n",
       "      <th></th>\n",
       "      <th>asin</th>\n",
       "      <th>category</th>\n",
       "      <th>asin_number</th>\n",
       "    </tr>\n",
       "  </thead>\n",
       "  <tbody>\n",
       "    <tr>\n",
       "      <th>2</th>\n",
       "      <td>B000DZGJX4</td>\n",
       "      <td>bath</td>\n",
       "      <td>3011</td>\n",
       "    </tr>\n",
       "    <tr>\n",
       "      <th>493</th>\n",
       "      <td>B07ZCS8LJS</td>\n",
       "      <td>bedding</td>\n",
       "      <td>179</td>\n",
       "    </tr>\n",
       "    <tr>\n",
       "      <th>3498</th>\n",
       "      <td>B09VGKJY2D</td>\n",
       "      <td>party_supplies</td>\n",
       "      <td>2470</td>\n",
       "    </tr>\n",
       "    <tr>\n",
       "      <th>3744</th>\n",
       "      <td>B06XS47ZS5</td>\n",
       "      <td>party_supplies</td>\n",
       "      <td>3831</td>\n",
       "    </tr>\n",
       "    <tr>\n",
       "      <th>4151</th>\n",
       "      <td>B00AAHXUO6</td>\n",
       "      <td>vacuums_floor_care</td>\n",
       "      <td>1543</td>\n",
       "    </tr>\n",
       "  </tbody>\n",
       "</table>\n",
       "</div>"
      ],
      "text/plain": [
       "            asin            category  asin_number\n",
       "2     B000DZGJX4                bath         3011\n",
       "493   B07ZCS8LJS             bedding          179\n",
       "3498  B09VGKJY2D      party_supplies         2470\n",
       "3744  B06XS47ZS5      party_supplies         3831\n",
       "4151  B00AAHXUO6  vacuums_floor_care         1543"
      ]
     },
     "metadata": {},
     "output_type": "display_data"
    },
    {
     "data": {
      "text/plain": [
       "0"
      ]
     },
     "execution_count": 320,
     "metadata": {},
     "output_type": "execute_result"
    }
   ],
   "source": [
    "# prepare train and test sets\n",
    "reader = Reader(rating_scale=(1,10))\n",
    "data = Dataset.load_from_df(funk_rating_df, reader)\n",
    "train, test = train_test_split(data, test_size=.2, random_state=42)\n",
    "\n",
    "# init and fit the funk mf model\n",
    "algo = SVD(random_state = 42)\n",
    "algo.fit(train)\n",
    "pred = algo.test(test)\n",
    "\n",
    "# evaluation the test set\n",
    "accuracy.rmse(pred)\n",
    "\n",
    "# extract the item features from algo\n",
    "item_corr_mat = cosine_similarity(algo.qi)\n",
    "\n",
    "print(f\"The {topK} similar product to Asin B00004C8S8\")\n",
    "similar_items = topKItems(name2ind['B000DZGJX4'],\n",
    "                            topK = topK,\n",
    "                            corrMat = item_corr_mat,\n",
    "                            mapName = ind2name)\n",
    "\n",
    "display(item_df.loc[item_df['asin'].isin(similar_items)])\n",
    "\n",
    "del item_corr_mat\n",
    "gc.collect()"
   ]
  }
 ],
 "metadata": {
  "kernelspec": {
   "display_name": "Python 3.9.7 ('base')",
   "language": "python",
   "name": "python3"
  },
  "language_info": {
   "codemirror_mode": {
    "name": "ipython",
    "version": 3
   },
   "file_extension": ".py",
   "mimetype": "text/x-python",
   "name": "python",
   "nbconvert_exporter": "python",
   "pygments_lexer": "ipython3",
   "version": "3.9.7"
  },
  "toc": {
   "base_numbering": 1,
   "nav_menu": {},
   "number_sections": true,
   "sideBar": true,
   "skip_h1_title": false,
   "title_cell": "Table of Contents",
   "title_sidebar": "Contents",
   "toc_cell": false,
   "toc_position": {
    "height": "calc(100% - 180px)",
    "left": "10px",
    "top": "150px",
    "width": "212.882px"
   },
   "toc_section_display": true,
   "toc_window_display": true
  },
  "varInspector": {
   "cols": {
    "lenName": 16,
    "lenType": 16,
    "lenVar": 40
   },
   "kernels_config": {
    "python": {
     "delete_cmd_postfix": "",
     "delete_cmd_prefix": "del ",
     "library": "var_list.py",
     "varRefreshCmd": "print(var_dic_list())"
    },
    "r": {
     "delete_cmd_postfix": ") ",
     "delete_cmd_prefix": "rm(",
     "library": "var_list.r",
     "varRefreshCmd": "cat(var_dic_list()) "
    }
   },
   "types_to_exclude": [
    "module",
    "function",
    "builtin_function_or_method",
    "instance",
    "_Feature"
   ],
   "window_display": false
  },
  "vscode": {
   "interpreter": {
    "hash": "1ef078467dd63487d90c66fda3d945ae0cf08fcbb11ad780475c9b39620e3c77"
   }
  }
 },
 "nbformat": 4,
 "nbformat_minor": 5
}
