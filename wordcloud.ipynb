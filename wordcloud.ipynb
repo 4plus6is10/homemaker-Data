{
 "cells": [
  {
   "cell_type": "code",
   "execution_count": 1,
   "id": "3724870d",
   "metadata": {
    "ExecuteTime": {
     "end_time": "2022-07-17T14:33:17.976111Z",
     "start_time": "2022-07-17T14:33:15.665516Z"
    }
   },
   "outputs": [
    {
     "name": "stderr",
     "output_type": "stream",
     "text": [
      "[nltk_data] Downloading package stopwords to\n",
      "[nltk_data]     C:\\Users\\LimDongKyu\\AppData\\Roaming\\nltk_data...\n",
      "[nltk_data]   Package stopwords is already up-to-date!\n",
      "[nltk_data] Downloading package punkt to\n",
      "[nltk_data]     C:\\Users\\LimDongKyu\\AppData\\Roaming\\nltk_data...\n",
      "[nltk_data]   Package punkt is already up-to-date!\n"
     ]
    }
   ],
   "source": [
    "import pandas as pd\n",
    "import os\n",
    "import re\n",
    "\n",
    "import nltk\n",
    "nltk.download('stopwords')\n",
    "nltk.download('punkt')\n",
    "from nltk.corpus import stopwords\n",
    "from nltk.tokenize import word_tokenize\n",
    "from nltk.corpus import stopwords\n",
    "\n",
    "import sys\n",
    "from collections import Counter\n",
    "from matplotlib import font_manager,rc\n",
    "import matplotlib.pyplot as plt\n",
    "import seaborn as sns\n",
    "\n",
    "from wordcloud import WordCloud\n",
    "from collections import Counter\n",
    "import platform\n",
    "\n",
    "from tqdm import tqdm"
   ]
  },
  {
   "cell_type": "code",
   "execution_count": 2,
   "id": "060f4f28",
   "metadata": {
    "ExecuteTime": {
     "end_time": "2022-07-17T14:33:17.990965Z",
     "start_time": "2022-07-17T14:33:17.977114Z"
    }
   },
   "outputs": [
    {
     "ename": "FileNotFoundError",
     "evalue": "[WinError 3] 지정된 경로를 찾을 수 없습니다: ''",
     "output_type": "error",
     "traceback": [
      "\u001b[1;31m---------------------------------------------------------------------------\u001b[0m",
      "\u001b[1;31mFileNotFoundError\u001b[0m                         Traceback (most recent call last)",
      "\u001b[1;32mC:\\Users\\LIMDON~1\\AppData\\Local\\Temp/ipykernel_27532/2012212190.py\u001b[0m in \u001b[0;36m<module>\u001b[1;34m\u001b[0m\n\u001b[0;32m      1\u001b[0m \u001b[0mpath\u001b[0m \u001b[1;33m=\u001b[0m \u001b[1;34m''\u001b[0m\u001b[1;33m\u001b[0m\u001b[1;33m\u001b[0m\u001b[0m\n\u001b[1;32m----> 2\u001b[1;33m \u001b[0mfile_list\u001b[0m \u001b[1;33m=\u001b[0m \u001b[0mos\u001b[0m\u001b[1;33m.\u001b[0m\u001b[0mlistdir\u001b[0m\u001b[1;33m(\u001b[0m\u001b[0mpath\u001b[0m\u001b[1;33m)\u001b[0m\u001b[1;33m\u001b[0m\u001b[1;33m\u001b[0m\u001b[0m\n\u001b[0m\u001b[0;32m      3\u001b[0m \u001b[0mfile_list_py\u001b[0m \u001b[1;33m=\u001b[0m \u001b[1;33m[\u001b[0m\u001b[0mfile\u001b[0m \u001b[1;32mfor\u001b[0m \u001b[0mfile\u001b[0m \u001b[1;32min\u001b[0m \u001b[0mfile_list\u001b[0m \u001b[1;32mif\u001b[0m \u001b[0mfile\u001b[0m\u001b[1;33m.\u001b[0m\u001b[0mendswith\u001b[0m\u001b[1;33m(\u001b[0m\u001b[1;34m'.csv'\u001b[0m\u001b[1;33m)\u001b[0m\u001b[1;33m]\u001b[0m\u001b[1;33m\u001b[0m\u001b[1;33m\u001b[0m\u001b[0m\n",
      "\u001b[1;31mFileNotFoundError\u001b[0m: [WinError 3] 지정된 경로를 찾을 수 없습니다: ''"
     ]
    }
   ],
   "source": [
    "path = ''\n",
    "file_list = os.listdir(path)\n",
    "file_list_py = [file for file in file_list if file.endswith('.csv')]"
   ]
  },
  {
   "cell_type": "code",
   "execution_count": 3,
   "id": "90ac0dc1",
   "metadata": {
    "ExecuteTime": {
     "end_time": "2022-07-17T14:33:18.020765Z",
     "start_time": "2022-07-17T14:33:17.992799Z"
    }
   },
   "outputs": [
    {
     "data": {
      "text/plain": [
       "['B00004C8S8.csv',\n",
       " 'B00004OCIP.csv',\n",
       " 'B00004OCIZ.csv',\n",
       " 'B00004OCLJ.csv',\n",
       " 'B00004SU18.csv',\n",
       " 'B00005RKOE.csv',\n",
       " 'B000065DKJ.csv',\n",
       " 'B0000665TE.csv',\n",
       " 'B00006IUWA.csv',\n",
       " 'B00008IHL8.csv',\n",
       " 'B00008WQ3L.csv',\n",
       " 'B0000BYCGF.csv',\n",
       " 'B0000V09E6.csv',\n",
       " 'B00018RRRK.csv',\n",
       " 'B00024JRC6.csv',\n",
       " 'B0006ONQOC.csv',\n",
       " 'B0006V875S.csv',\n",
       " 'B00094EWE2.csv',\n",
       " 'B0009J5NRW.csv',\n",
       " 'B000CC91GK.csv',\n",
       " 'B000CO89T8.csv',\n",
       " 'B000DZFA66.csv',\n",
       " 'B000DZGJX4.csv',\n",
       " 'B000E5S4MW.csv',\n",
       " 'B000E5XNAK.csv',\n",
       " 'B000EJVYTS.csv',\n",
       " 'B000FGCW0A.csv',\n",
       " 'B000FGCW0K.csv',\n",
       " 'B000H0XFCS.csv',\n",
       " 'B000HJBFC6.csv',\n",
       " 'B000IBNQX4.csv',\n",
       " 'B000JW4JOM.csv',\n",
       " 'B000K8C9BK.csv',\n",
       " 'B000LNP218.csv',\n",
       " 'B000M4D96G.csv',\n",
       " 'B000MT65BC.csv',\n",
       " 'B000ND7A5M.csv',\n",
       " 'B000PSDCVG.csv',\n",
       " 'B000QE7DZ0.csv',\n",
       " 'B000RMJANY.csv',\n",
       " 'B000SDZT6O.csv',\n",
       " 'B000SL2C9I.csv',\n",
       " 'B000TTV2QS.csv',\n",
       " 'B000U39SXW.csv',\n",
       " 'B000V6YLNA.csv',\n",
       " 'B000VB69X0.csv',\n",
       " 'B000VBU846.csv',\n",
       " 'B000X6K9J8.csv',\n",
       " 'B001003FM4.csv',\n",
       " 'B0010B5EQS.csv',\n",
       " 'B00176KYWK.csv',\n",
       " 'B0019FOUQ0.csv',\n",
       " 'B001AVN7YE.csv',\n",
       " 'B001B16VT6.csv',\n",
       " 'B001CH0ZLE.csv',\n",
       " 'B001CQTLJM.csv',\n",
       " 'B001D4AJL2.csv',\n",
       " 'B001DTA6MY.csv',\n",
       " 'B001E6CTYO.csv',\n",
       " 'B001EU9VSM.csv',\n",
       " 'B001EYFQ28.csv',\n",
       " 'B001F51A2Q.csv',\n",
       " 'B001FCK32C.csv',\n",
       " 'B001IY2SPW.csv',\n",
       " 'B001N09KN4.csv',\n",
       " 'B001O0R46I.csv',\n",
       " 'B001R1RXUG.csv',\n",
       " 'B001RJTQ8U.csv',\n",
       " 'B001U2ILK8.csv',\n",
       " 'B0023UL86A.csv',\n",
       " 'B0024AKCTS.csv',\n",
       " 'B0026T1A8E.csv',\n",
       " 'B002BFSK6I.csv',\n",
       " 'B002D47XOM.csv',\n",
       " 'B002KCO96C.csv',\n",
       " 'B002M0HU04.csv',\n",
       " 'B002M37W4U.csv',\n",
       " 'B002OED6II.csv',\n",
       " 'B002RB71ZM.csv',\n",
       " 'B002UQ39EQ.csv',\n",
       " 'B002YI2IG0.csv',\n",
       " 'B00302ICKU.csv',\n",
       " 'B00314WHW6.csv',\n",
       " 'B0031M9H3A.csv',\n",
       " 'B0031M9HIA.csv',\n",
       " 'B0032FOQXW.csv',\n",
       " 'B0038KP5LI.csv',\n",
       " 'B003H57F0S.csv',\n",
       " 'B003I85T3Y.csv',\n",
       " 'B003IS3HV0.csv',\n",
       " 'B003IWI66W.csv',\n",
       " 'B003KJ6KNO.csv',\n",
       " 'B003KRHDNC.csv',\n",
       " 'B003KYSLMW.csv',\n",
       " 'B003M8GMUY.csv',\n",
       " 'B003O5KVK2.csv',\n",
       " 'B003OAJGJO.csv',\n",
       " 'B003PWNH4Q.csv',\n",
       " 'B003Q0U740.csv',\n",
       " 'B003R3JFJO.csv',\n",
       " 'B003T179XI.csv',\n",
       " 'B003TZX86G.csv',\n",
       " 'B003YFI0O6.csv',\n",
       " 'B0040QD9MG.csv',\n",
       " 'B0040ZOD0Y.csv',\n",
       " 'B0040ZOD9K.csv',\n",
       " 'B00440EEIG.csv',\n",
       " 'B0044V7GMG.csv',\n",
       " 'B00450U6CS.csv',\n",
       " 'B00478UIB2.csv',\n",
       " 'B004BAEF7E.csv',\n",
       " 'B004BDP656.csv',\n",
       " 'B004BTA4PM.csv',\n",
       " 'B004CVZXVO.csv',\n",
       " 'B004I3VDWY.csv',\n",
       " 'B004IR3044.csv',\n",
       " 'B004IS6JBY.csv',\n",
       " 'B004KQBPJK.csv',\n",
       " 'B004L2JJ6E.csv',\n",
       " 'B004MDM8QU.csv',\n",
       " 'B004O83YVQ.csv',\n",
       " 'B004P2LEE0.csv',\n",
       " 'B004Q0I2RS.csv',\n",
       " 'B004T7N6Y2.csv',\n",
       " 'B004TAYQXE.csv',\n",
       " 'B004UBMRKG.csv',\n",
       " 'B004UNA5UI.csv',\n",
       " 'B004VER6S0.csv',\n",
       " 'B004VFXVJW.csv',\n",
       " 'B004VRVLDI.csv',\n",
       " 'B004WT6Z54.csv',\n",
       " 'B004ZLAGJK.csv',\n",
       " 'B005083ECS.csv',\n",
       " 'B0053KMAMI.csv',\n",
       " 'B0057PDZJ6.csv',\n",
       " 'B0057UMYAW.csv',\n",
       " 'B0058O8F7I.csv',\n",
       " 'B0058O8GZY.csv',\n",
       " 'B005BGCI8K.csv',\n",
       " 'B005DURI5W.csv',\n",
       " 'B005FYF3OY.csv',\n",
       " 'B005JB1OJG.csv',\n",
       " 'B005KDD1VM.csv',\n",
       " 'B005KDDLQ2.csv',\n",
       " 'B005M34LHI.csv',\n",
       " 'B005QLJL26.csv',\n",
       " 'B005T419YI.csv',\n",
       " 'B0062ACM7G.csv',\n",
       " 'B0064CNBC2.csv',\n",
       " 'B0069H9BYO.csv',\n",
       " 'B006CR9KGA.csv',\n",
       " 'B006H0XEIW.csv',\n",
       " 'B006JLZ9N2.csv',\n",
       " 'B006MIPW70.csv',\n",
       " 'B006NTY1HU.csv',\n",
       " 'B006R9J5UO.csv',\n",
       " 'B006T325UU.csv',\n",
       " 'B006VABXBS.csv',\n",
       " 'B006YFCHSS.csv',\n",
       " 'B0076RQNDI.csv',\n",
       " 'B007C5IH4C.csv',\n",
       " 'B007CTQAXI.csv',\n",
       " 'B007FOV6PC.csv',\n",
       " 'B007PBKEXK.csv',\n",
       " 'B007R900WA.csv',\n",
       " 'B007TFNSL2.csv',\n",
       " 'B007TSJLCE.csv',\n",
       " 'B007WQ9YNO.csv',\n",
       " 'B007ZWEMIW.csv',\n",
       " 'B0081GIZ52.csv',\n",
       " 'B0087S2QAE.csv',\n",
       " 'B0089ME1K6.csv',\n",
       " 'B008BPFBH8.csv',\n",
       " 'B008DZ6JPO.csv',\n",
       " 'B008FWD4HQ.csv',\n",
       " 'B008J8MJIQ.csv',\n",
       " 'B008R3F0J8.csv',\n",
       " 'B008R6LOBS.csv',\n",
       " 'B008R7CR9A.csv',\n",
       " 'B008SMNO3C.csv',\n",
       " 'B0091JG0LY.csv',\n",
       " 'B00939FV8K.csv',\n",
       " 'B00939I7EK.csv',\n",
       " 'B009AM8SMG.csv',\n",
       " 'B009FUF6DM.csv',\n",
       " 'B009N83O1C.csv',\n",
       " 'B009NG9QVQ.csv',\n",
       " 'B009OVSNBO.csv',\n",
       " 'B009SZ2P7E.csv',\n",
       " 'B009UPUJIY.csv',\n",
       " 'B009V16BM0.csv',\n",
       " 'B00A1MEP6M.csv',\n",
       " 'B00A3C842G.csv',\n",
       " 'B00A3CNLKQ.csv',\n",
       " 'B00A6G37SU.csv',\n",
       " 'B00AAHXUO6.csv',\n",
       " 'B00ACLIBUI.csv',\n",
       " 'B00AKKDSNG.csv',\n",
       " 'B00ALWECUG.csv',\n",
       " 'B00AMNCYNQ.csv',\n",
       " 'B00AO29IWA.csv',\n",
       " 'B00AQIULD2.csv',\n",
       " 'B00ASBOP9S.csv',\n",
       " 'B00ATSHMIQ.csv',\n",
       " 'B00B29B1NI.csv',\n",
       " 'B00B7ALYMK.csv',\n",
       " 'B00BEJ79OQ.csv',\n",
       " 'B00BFUSDO4.csv',\n",
       " 'B00BLPU6UW.csv',\n",
       " 'B00BQOZX9C.csv',\n",
       " 'B00BWYO53G.csv',\n",
       " 'B00BXIKO54.csv',\n",
       " 'B00C4LJ45K.csv',\n",
       " 'B00C8C5I7I.csv',\n",
       " 'B00CC2WDFO.csv',\n",
       " 'B00CEMH3C0.csv',\n",
       " 'B00CLD39C0.csv',\n",
       " 'B00CM220CK.csv',\n",
       " 'B00DAPQV0K.csv',\n",
       " 'B00DDXWFY0.csv',\n",
       " 'B00DEQDEZA.csv',\n",
       " 'B00DH4DUBM.csv',\n",
       " 'B00DH4IQSE.csv',\n",
       " 'B00DH4IT7C.csv',\n",
       " 'B00DH4IUMQ.csv',\n",
       " 'B00DKDOKEG.csv',\n",
       " 'B00DOZTM3O.csv',\n",
       " 'B00DQC9HRG.csv',\n",
       " 'B00DQUSXBE.csv',\n",
       " 'B00E0MXUME.csv',\n",
       " 'B00E84CG1K.csv',\n",
       " 'B00E8SZ4MY.csv',\n",
       " 'B00E9V4P02.csv',\n",
       " 'B00EAHSBV4.csv',\n",
       " 'B00ED3PJ2Y.csv',\n",
       " 'B00EI7DPOO.csv',\n",
       " 'B00EINBSEW.csv',\n",
       " 'B00EJU3SWY.csv',\n",
       " 'B00EQ1TKJQ.csv',\n",
       " 'B00EUKHACW.csv',\n",
       " 'B00EW1QLW4.csv',\n",
       " 'B00FBMJK9Y.csv',\n",
       " 'B00FK8M0UA.csv',\n",
       " 'B00FK8SX2Y.csv',\n",
       " 'B00FLCH37K.csv',\n",
       " 'B00FLYWNYQ.csv',\n",
       " 'B00FS3VJAO.csv',\n",
       " 'B00FXNABPI.csv',\n",
       " 'B00FXOFM4M.csv',\n",
       " 'B00FXOFM6U.csv',\n",
       " 'B00FZ3MFAA.csv',\n",
       " 'B00G00BT72.csv',\n",
       " 'B00G00BTEA.csv',\n",
       " 'B00GJAVXAG.csv',\n",
       " 'B00GLHL55K.csv',\n",
       " 'B00GNV0AY6.csv',\n",
       " 'B00GUN43AY.csv',\n",
       " 'B00GYE5UGK.csv',\n",
       " 'B00H2RS984.csv',\n",
       " 'B00H7ELSQW.csv',\n",
       " 'B00H7P1GPO.csv',\n",
       " 'B00HCQUINY.csv',\n",
       " 'B00HEODIZY.csv',\n",
       " 'B00HEZ888K.csv',\n",
       " 'B00HK58W8U.csv',\n",
       " 'B00HS7CC9K.csv',\n",
       " 'B00HT2HF5U.csv',\n",
       " 'B00HWNVEXK.csv',\n",
       " 'B00HZ0ION8.csv',\n",
       " 'B00I5ELBA6.csv',\n",
       " 'B00IAUV5LA.csv',\n",
       " 'B00IFHPVEU.csv',\n",
       " 'B00IGFJFSY.csv',\n",
       " 'B00IIFW2L4.csv',\n",
       " 'B00IKCCWXS.csv',\n",
       " 'B00JEQG4X8.csv',\n",
       " 'B00JLREFKE.csv',\n",
       " 'B00JP45F7U.csv',\n",
       " 'B00JPCWDJU.csv',\n",
       " 'B00JR5N0JM.csv',\n",
       " 'B00JTQX6AC.csv',\n",
       " 'B00JV27MF4.csv',\n",
       " 'B00K05AZA0.csv',\n",
       " 'B00K0DQNYO.csv',\n",
       " 'B00K0ZT1BO.csv',\n",
       " 'B00K316IB6.csv',\n",
       " 'B00K5S66Y6.csv',\n",
       " 'B00K7DMEJ0.csv',\n",
       " 'B00K8B8VHK.csv',\n",
       " 'B00K9151DG.csv',\n",
       " 'B00KAJ42GO.csv',\n",
       " 'B00KDKKD1I.csv',\n",
       " 'B00KGKF108.csv',\n",
       " 'B00KJN9S8I.csv',\n",
       " 'B00KK6EF6O.csv',\n",
       " 'B00KNWY3Z8.csv',\n",
       " 'B00KQWXTH8.csv',\n",
       " 'B00KWKY7IY.csv',\n",
       " 'B00KWR2BCQ.csv',\n",
       " 'B00KXTZ3BE.csv',\n",
       " 'B00KY054BG.csv',\n",
       " 'B00KYG1QG2.csv',\n",
       " 'B00KZP1BUI.csv',\n",
       " 'B00L1G47PQ.csv',\n",
       " 'B00L3NQQKQ.csv',\n",
       " 'B00L4Z0T2Y.csv',\n",
       " 'B00L6F5YYU.csv',\n",
       " 'B00L8JIO0K.csv',\n",
       " 'B00L9YOPDY.csv',\n",
       " 'B00LB7REFK.csv',\n",
       " 'B00LEYYIFE.csv',\n",
       " 'B00LI7HG9M.csv',\n",
       " 'B00LK0NAH4.csv',\n",
       " 'B00LLHXHH4.csv',\n",
       " 'B00LV4W1JM.csv',\n",
       " 'B00LY30UVQ.csv',\n",
       " 'B00M4UN092.csv',\n",
       " 'B00MEBNNZ2.csv',\n",
       " 'B00MG2OOHK.csv',\n",
       " 'B00MH74S16.csv',\n",
       " 'B00MHOBWYK.csv',\n",
       " 'B00MJC4U08.csv',\n",
       " 'B00MJXHM48.csv',\n",
       " 'B00MODVXBG.csv',\n",
       " 'B00MRH9NCK.csv',\n",
       " 'B00MUZVKY8.csv',\n",
       " 'B00MVWGQX0.csv',\n",
       " 'B00MW4ZK8O.csv',\n",
       " 'B00MWSCQ5K.csv',\n",
       " 'B00N3L2DMG.csv',\n",
       " 'B00NESCOY0.csv',\n",
       " 'B00NGV4506.csv',\n",
       " 'B00NGVF4II.csv',\n",
       " 'B00NIYX9LC.csv',\n",
       " 'B00NKYYMAW.csv',\n",
       " 'B00NKZ5R28.csv',\n",
       " 'B00NLLUMOE.csv',\n",
       " 'B00NMU93VW.csv',\n",
       " 'B00NWPUKMS.csv',\n",
       " 'B00NX0WXQI.csv',\n",
       " 'B00O64QJOC.csv',\n",
       " 'B00O9OMDQ2.csv',\n",
       " 'B00ODRK5WE.csv',\n",
       " 'B00OJI35GA.csv',\n",
       " 'B00OKD7F88.csv',\n",
       " 'B00OL5P1G8.csv',\n",
       " 'B00P21TAIK.csv',\n",
       " 'B00P9RWYLC.csv',\n",
       " 'B00PHS97EU.csv',\n",
       " 'B00PR82UC6.csv',\n",
       " 'B00Q2JJ6BM.csv',\n",
       " 'B00Q3FMFQ8.csv',\n",
       " 'B00Q7OEZFY.csv',\n",
       " 'B00Q87O00U.csv',\n",
       " 'B00Q8VI480.csv',\n",
       " 'B00QNUCV0I.csv',\n",
       " 'B00QOOZ4DE.csv',\n",
       " 'B00QOQU95K.csv',\n",
       " 'B00QQH66AO.csv',\n",
       " 'B00QUA4X3O.csv',\n",
       " 'B00R1XXOFC.csv',\n",
       " 'B00R4IQQ5O.csv',\n",
       " 'B00R5C0R4U.csv',\n",
       " 'B00R6OXFAK.csv',\n",
       " 'B00RARXPXA.csv',\n",
       " 'B00RD982MO.csv',\n",
       " 'B00RF130OA.csv',\n",
       " 'B00S1TC442.csv',\n",
       " 'B00S93EQUK.csv',\n",
       " 'B00SAOY4GY.csv',\n",
       " 'B00SFSU53G.csv',\n",
       " 'B00SI32PJK.csv',\n",
       " 'B00T1P632E.csv',\n",
       " 'B00T28FWVS.csv',\n",
       " 'B00T4RH8E6.csv',\n",
       " 'B00TA9TYZ4.csv',\n",
       " 'B00TQPO3DU.csv',\n",
       " 'B00U6HREPQ.csv',\n",
       " 'B00UB062ZQ.csv',\n",
       " 'B00UB9QSAQ.csv',\n",
       " 'B00V2UKF98.csv',\n",
       " 'B00VAG8M5I.csv',\n",
       " 'B00VAOOTCU.csv',\n",
       " 'B00VFMC5GE.csv',\n",
       " 'B00VQPPF3U.csv',\n",
       " 'B00WI09NM6.csv',\n",
       " 'B00WKWYHPU.csv',\n",
       " 'B00WTX68PC.csv',\n",
       " 'B00WVOV3W2.csv',\n",
       " 'B00X2XK8O0.csv',\n",
       " 'B00X597ZXS.csv',\n",
       " 'B00X5ILD0K.csv',\n",
       " 'B00X7R1FZ2.csv',\n",
       " 'B00XBC3J84.csv',\n",
       " 'B00XK69NRW.csv',\n",
       " 'B00XK9CN3U.csv',\n",
       " 'B00XK9CXSA.csv',\n",
       " 'B00XNNQMI0.csv',\n",
       " 'B00XUARRLW.csv',\n",
       " 'B00XUOGDSQ.csv',\n",
       " 'B00Y1VZ00E.csv',\n",
       " 'B00YBP918M.csv',\n",
       " 'B00YNPKZNU.csv',\n",
       " 'B00YU0W3CY.csv',\n",
       " 'B00YU1O15U.csv',\n",
       " 'B00Z06F2OI.csv',\n",
       " 'B00ZF1QR88.csv',\n",
       " 'B00ZKFRKIU.csv',\n",
       " 'B00ZSAHYUG.csv',\n",
       " 'B00ZX1OOPI.csv',\n",
       " 'B0102GRAUY.csv',\n",
       " 'B010B2LK7S.csv',\n",
       " 'B010B2LLOK.csv',\n",
       " 'B010B2LM4Y.csv',\n",
       " 'B010E209YU.csv',\n",
       " 'B010F6HNG2.csv',\n",
       " 'B010N0N7PQ.csv',\n",
       " 'B010OW4KMW.csv',\n",
       " 'B010TYBICK.csv',\n",
       " 'B010UZYNYS.csv',\n",
       " 'B011397784.csv',\n",
       " 'B0117PHGP8.csv',\n",
       " 'B011CBJGZK.csv',\n",
       " 'B011HAWZ2W.csv',\n",
       " 'B011U1LIK8.csv',\n",
       " 'B011W12XO6.csv',\n",
       " 'B01261VEOG.csv',\n",
       " 'B012A7R7I8.csv',\n",
       " 'B012P5QCQ8.csv',\n",
       " 'B012T634SM.csv',\n",
       " 'B0132G13RM.csv',\n",
       " 'B013H12DLM.csv',\n",
       " 'B013IJPTFK.csv',\n",
       " 'B013JKGOH0.csv',\n",
       " 'B013JKODJQ.csv',\n",
       " 'B013JKPVIS.csv',\n",
       " 'B013PTAGS8.csv',\n",
       " 'B013RHPMM8.csv',\n",
       " 'B013TEEKOK.csv',\n",
       " 'B013WOEC1I.csv',\n",
       " 'B013Y9AUTY.csv',\n",
       " 'B0141A3RAY.csv',\n",
       " 'B0143GZ1LE.csv',\n",
       " 'B014KJ5WLI.csv',\n",
       " 'B014RVBIIA.csv',\n",
       " 'B014STP6I4.csv',\n",
       " 'B014THFEKK.csv',\n",
       " 'B014WOXB6O.csv',\n",
       " 'B014WT7G0G.csv',\n",
       " 'B0154ASID6.csv',\n",
       " 'B01559O0WY.csv',\n",
       " 'B0155N9CAU.csv',\n",
       " 'B0157T2C3G.csv',\n",
       " 'B015CM2AA8.csv',\n",
       " 'B015D8AEHM.csv',\n",
       " 'B015Q7VOOM.csv',\n",
       " 'B015QL1KMY.csv',\n",
       " 'B015Y9Y47Q.csv',\n",
       " 'B0161N956Y.csv',\n",
       " 'B016OIK6DM.csv',\n",
       " 'B016OL1AB6.csv',\n",
       " 'B016PXOQ50.csv',\n",
       " 'B016QVRI06.csv',\n",
       " 'B016Y8JSK4.csv',\n",
       " 'B016ZQNX6A.csv',\n",
       " 'B01728NLRG.csv',\n",
       " 'B0173GPLA2.csv',\n",
       " 'B0176SPRZQ.csv',\n",
       " 'B017GQ27OW.csv',\n",
       " 'B017I2P65G.csv',\n",
       " 'B017IMXN4C.csv',\n",
       " 'B017K17PQ8.csv',\n",
       " 'B017OFOP68.csv',\n",
       " 'B017S25FMA.csv',\n",
       " 'B018JMMCLU.csv',\n",
       " 'B018RUJXHU.csv',\n",
       " 'B018S6SRWA.csv',\n",
       " 'B018UQ5AMS.csv',\n",
       " 'B018YBDVDE.csv',\n",
       " 'B019D143RM.csv',\n",
       " 'B019OGSE9O.csv',\n",
       " 'B019OH9898.csv',\n",
       " 'B019S3W8AO.csv',\n",
       " 'B01A1GZTKI.csv',\n",
       " 'B01A8TPWS2.csv',\n",
       " 'B01AB21E4M.csv',\n",
       " 'B01AEQ9X9I.csv',\n",
       " 'B01AK9ZUGO.csv',\n",
       " 'B01AL7UEW0.csv',\n",
       " 'B01ANSJUTK.csv',\n",
       " 'B01ARJ7SBM.csv',\n",
       " 'B01ASEC23A.csv',\n",
       " 'B01B2A969C.csv',\n",
       " 'B01B5ECU3O.csv',\n",
       " 'B01B87TMOS.csv',\n",
       " 'B01BCUM766.csv',\n",
       " 'B01BDQDIGM.csv',\n",
       " 'B01BLUCKGE.csv',\n",
       " 'B01BWF57VI.csv',\n",
       " 'B01BWM2I2C.csv',\n",
       " 'B01BWZJ8C2.csv',\n",
       " 'B01BYPLQSE.csv',\n",
       " 'B01BZ0N69U.csv',\n",
       " 'B01C2RXH8U.csv',\n",
       " 'B01C3XV014.csv',\n",
       " 'B01C4IS4Q2.csv',\n",
       " 'B01C6KUNZI.csv',\n",
       " 'B01CFIHGLA.csv',\n",
       " 'B01CG0BHU8.csv',\n",
       " 'B01CK64AQG.csv',\n",
       " 'B01COZ2H36.csv',\n",
       " 'B01CRA6BPS.csv',\n",
       " 'B01CRC32J4.csv',\n",
       " 'B01CYTW58Y.csv',\n",
       " 'B01D1XVQ64.csv',\n",
       " 'B01D3SG1YY.csv',\n",
       " 'B01D44HSRG.csv',\n",
       " 'B01D58DRVC.csv',\n",
       " 'B01D58R1BE.csv',\n",
       " 'B01D5TM5QE.csv',\n",
       " 'B01D7P5BFS.csv',\n",
       " 'B01D9W9ZWO.csv',\n",
       " 'B01DAI5CF6.csv',\n",
       " 'B01DAI5CWE.csv',\n",
       " 'B01DAMSTNO.csv',\n",
       " 'B01DAWQU12.csv',\n",
       " 'B01DC5PPWM.csv',\n",
       " 'B01DE12H98.csv',\n",
       " 'B01DUDDQEU.csv',\n",
       " 'B01DZVRY22.csv',\n",
       " 'B01E0472TI.csv',\n",
       " 'B01E082F3C.csv',\n",
       " 'B01E15X9N4.csv',\n",
       " 'B01E2OVYWC.csv',\n",
       " 'B01E40877Y.csv',\n",
       " 'B01EGR4BAW.csv',\n",
       " 'B01EHFWR6I.csv',\n",
       " 'B01EQ3U39O.csv',\n",
       " 'B01ERP3R1M.csv',\n",
       " 'B01ES6C8GA.csv',\n",
       " 'B01EWBC55A.csv',\n",
       " 'B01F1H8X8M.csv',\n",
       " 'B01F2OZ0VM.csv',\n",
       " 'B01F5K9YNS.csv',\n",
       " 'B01F6LRW30.csv',\n",
       " 'B01F9FLEL4.csv',\n",
       " 'B01F9QB8I2.csv',\n",
       " 'B01FCJHWIG.csv',\n",
       " 'B01FFK4KP0.csv',\n",
       " 'B01FFT0BDG.csv',\n",
       " 'B01FFWG0I8.csv',\n",
       " 'B01FHOWYA2.csv',\n",
       " 'B01FINOMXO.csv',\n",
       " 'B01FJSJ2QK.csv',\n",
       " 'B01FOITH9M.csv',\n",
       " 'B01FR7AKTG.csv',\n",
       " 'B01FRDSU1A.csv',\n",
       " 'B01FS7W9MQ.csv',\n",
       " 'B01FSY4YKO.csv',\n",
       " 'B01FVZSVHC.csv',\n",
       " 'B01FXROXFW.csv',\n",
       " 'B01FXSYJ7S.csv',\n",
       " 'B01G3WS3PW.csv',\n",
       " 'B01G8HUH8S.csv',\n",
       " 'B01G9DOK66.csv',\n",
       " 'B01G9MC7GC.csv',\n",
       " 'B01GC1TLQ4.csv',\n",
       " 'B01GEA8PQA.csv',\n",
       " 'B01GEFUB5I.csv',\n",
       " 'B01GEOZEVU.csv',\n",
       " 'B01GFQFGFQ.csv',\n",
       " 'B01GH5VMBM.csv',\n",
       " 'B01GJOMWVA.csv',\n",
       " 'B01GM1LUGS.csv',\n",
       " 'B01GO2DF4A.csv',\n",
       " 'B01GRO1P60.csv',\n",
       " 'B01H1R0K68.csv',\n",
       " 'B01H2OCVYO.csv',\n",
       " 'B01HB1KOZG.csv',\n",
       " 'B01HC4FFSI.csv',\n",
       " 'B01HE1IVNA.csv',\n",
       " 'B01HEJWCZ0.csv',\n",
       " 'B01HFJYEQE.csv',\n",
       " 'B01HID4UZ2.csv',\n",
       " 'B01HLYLBYG.csv',\n",
       " 'B01HMCXYZ6.csv',\n",
       " 'B01HQ437BG.csv',\n",
       " 'B01HSEI1RY.csv',\n",
       " 'B01HSIQYTM.csv',\n",
       " 'B01HSKI75Y.csv',\n",
       " 'B01HT3ANWU.csv',\n",
       " 'B01HTYH8YA.csv',\n",
       " 'B01HXVUT7C.csv',\n",
       " 'B01HXZXW7W.csv',\n",
       " 'B01I4GEBQK.csv',\n",
       " 'B01I66UFCW.csv',\n",
       " 'B01IA3HAJM.csv',\n",
       " 'B01IE624Z0.csv',\n",
       " 'B01IE7P2VW.csv',\n",
       " 'B01IEJHJWK.csv',\n",
       " 'B01IG8X9E6.csv',\n",
       " 'B01IIF4L9Y.csv',\n",
       " 'B01IJNJAZ0.csv',\n",
       " 'B01IQVWJIA.csv',\n",
       " 'B01IRHUV6A.csv',\n",
       " 'B01IVPZUJQ.csv',\n",
       " 'B01IXWL72G.csv',\n",
       " 'B01J1BLYUS.csv',\n",
       " 'B01J46UNYI.csv',\n",
       " 'B01J4K83GO.csv',\n",
       " 'B01J7L5OQ2.csv',\n",
       " 'B01J7YVZ6W.csv',\n",
       " 'B01J9FWFC2.csv',\n",
       " 'B01JG57JJ4.csv',\n",
       " 'B01JIBYSG8.csv',\n",
       " 'B01JIV5YES.csv',\n",
       " 'B01JKI6TRK.csv',\n",
       " 'B01JLPDMC2.csv',\n",
       " 'B01JLT1OR8.csv',\n",
       " 'B01JPECQBM.csv',\n",
       " 'B01JQ9CXJG.csv',\n",
       " 'B01JRNIWJG.csv',\n",
       " 'B01JRNR92W.csv',\n",
       " 'B01JYNISZC.csv',\n",
       " 'B01JYUSLPM.csv',\n",
       " 'B01K0DAKJW.csv',\n",
       " 'B01KBEOL5E.csv',\n",
       " 'B01KBKHZRO.csv',\n",
       " 'B01KG84CLI.csv',\n",
       " 'B01KGH4RWI.csv',\n",
       " 'B01KI1Q6C6.csv',\n",
       " 'B01KIQH2VU.csv',\n",
       " 'B01KKMZRFK.csv',\n",
       " 'B01KVQXXEM.csv',\n",
       " 'B01KWTGAVQ.csv',\n",
       " 'B01KWX8NU8.csv',\n",
       " 'B01KYWRMA4.csv',\n",
       " 'B01KYYJXDQ.csv',\n",
       " 'B01KZTJI4Y.csv',\n",
       " 'B01L06G8B2.csv',\n",
       " 'B01L2XGRSC.csv',\n",
       " 'B01L9SD0TY.csv',\n",
       " 'B01LAG1TKM.csv',\n",
       " 'B01LBMPWVC.csv',\n",
       " 'B01LCNNBOU.csv',\n",
       " 'B01LET2BFC.csv',\n",
       " 'B01LLSNG1E.csv',\n",
       " 'B01LMYZIYU.csv',\n",
       " 'B01LR99P44.csv',\n",
       " 'B01LRMN9ZM.csv',\n",
       " 'B01LT6CR68.csv',\n",
       " 'B01LVU7THF.csv',\n",
       " 'B01LVYXE8Z.csv',\n",
       " 'B01LW7P04A.csv',\n",
       " 'B01LWL7D3U.csv',\n",
       " 'B01LWMBJLL.csv',\n",
       " 'B01LWQMM4V.csv',\n",
       " 'B01LWU54YY.csv',\n",
       " 'B01LXPM2CN.csv',\n",
       " 'B01LXW28II.csv',\n",
       " 'B01LY9RPDU.csv',\n",
       " 'B01LYBQXRH.csv',\n",
       " 'B01LYNW421.csv',\n",
       " 'B01LYO7RQO.csv',\n",
       " 'B01LYU7V4S.csv',\n",
       " 'B01LYW5BFB.csv',\n",
       " 'B01LZ2QE21.csv',\n",
       " 'B01LZ41S42.csv',\n",
       " 'B01LZNV0BG.csv',\n",
       " 'B01LZV1Y3L.csv',\n",
       " 'B01LZZ80CN.csv',\n",
       " 'B01M056X1D.csv',\n",
       " 'B01M0H7YC2.csv',\n",
       " 'B01M0SC9QT.csv',\n",
       " 'B01M0X1SOY.csv',\n",
       " 'B01M0XUF5P.csv',\n",
       " 'B01M13TXC7.csv',\n",
       " 'B01M15D37C.csv',\n",
       " 'B01M16WBW1.csv',\n",
       " 'B01M1ANK5A.csv',\n",
       " 'B01M1G1G6L.csv',\n",
       " 'B01M1HL4C4.csv',\n",
       " 'B01M1K54O1.csv',\n",
       " 'B01M1VERBF.csv',\n",
       " 'B01M7XMC6Z.csv',\n",
       " 'B01M8PJO3W.csv',\n",
       " 'B01M9I779L.csv',\n",
       " 'B01MA0N1P3.csv',\n",
       " 'B01MAXM8UP.csv',\n",
       " 'B01MAYGBVY.csv',\n",
       " 'B01MDUDWHH.csv',\n",
       " 'B01MF93DAX.csv',\n",
       " 'B01MPY18P3.csv',\n",
       " 'B01MQQB5VN.csv',\n",
       " 'B01MRLZ43B.csv',\n",
       " 'B01MRRJF2D.csv',\n",
       " 'B01MSXGIKU.csv',\n",
       " 'B01MT0UL8N.csv',\n",
       " 'B01MTFTTQ2.csv',\n",
       " 'B01MU1ZJ5I.csv',\n",
       " 'B01MUANA07.csv',\n",
       " 'B01MUBU0YC.csv',\n",
       " 'B01MUDQUN9.csv',\n",
       " 'B01MXBQMVF.csv',\n",
       " 'B01MXJWEVB.csv',\n",
       " 'B01MYGAHR8.csv',\n",
       " 'B01MYUJIC0.csv',\n",
       " 'B01MZAILC6.csv',\n",
       " 'B01N07HRYP.csv',\n",
       " 'B01N0KL7PQ.csv',\n",
       " 'B01N1WLKMZ.csv',\n",
       " 'B01N2JICUM.csv',\n",
       " 'B01N2MF4V1.csv',\n",
       " 'B01N33U6Y5.csv',\n",
       " 'B01N3AG6Y3.csv',\n",
       " 'B01N3OJHTY.csv',\n",
       " 'B01N3ZRLDB.csv',\n",
       " 'B01N47M3V0.csv',\n",
       " 'B01N5JZ8LA.csv',\n",
       " 'B01N5NPAYR.csv',\n",
       " 'B01N5OYWMN.csv',\n",
       " 'B01N5SMNJ4.csv',\n",
       " 'B01N6RQ4FF.csv',\n",
       " 'B01N7W9BUX.csv',\n",
       " 'B01N7Y3H73.csv',\n",
       " 'B01N8SQSYA.csv',\n",
       " 'B01N8TI6U0.csv',\n",
       " 'B01N9905UU.csv',\n",
       " 'B01N9D4XC9.csv',\n",
       " 'B01N9EF24E.csv',\n",
       " 'B01N9H8T02.csv',\n",
       " 'B01N9L2O9P.csv',\n",
       " 'B01N9MQF59.csv',\n",
       " 'B01N9SQIZO.csv',\n",
       " 'B01N9V4A9A.csv',\n",
       " 'B01NAAJLVG.csv',\n",
       " 'B01NAXKPHT.csv',\n",
       " 'B01NB05WI5.csv',\n",
       " 'B01NBJMHFK.csv',\n",
       " 'B01NBNDC1T.csv',\n",
       " 'B01NBOX74Z.csv',\n",
       " 'B01NBXOBNP.csv',\n",
       " 'B01NCUDQAJ.csv',\n",
       " 'B01NHEU1DJ.csv',\n",
       " 'B06VTXPFHJ.csv',\n",
       " 'B06VW1FN2K.csv',\n",
       " 'B06VX2X433.csv',\n",
       " 'B06VYF3NBC.csv',\n",
       " 'B06W2LC7C6.csv',\n",
       " 'B06W2MPGZV.csv',\n",
       " 'B06W525JP5.csv',\n",
       " 'B06W9J21P9.csv',\n",
       " 'B06W9M3H9S.csv',\n",
       " 'B06WGQYVVZ.csv',\n",
       " 'B06WVQS82M.csv',\n",
       " 'B06X1G4KTW.csv',\n",
       " 'B06X3VQRC7.csv',\n",
       " 'B06X421WJ6.csv',\n",
       " 'B06X8ZFGHP.csv',\n",
       " 'B06X9KFX1L.csv',\n",
       " 'B06X9KLW1P.csv',\n",
       " 'B06X9NQ8GX.csv',\n",
       " 'B06X9QV2D7.csv',\n",
       " 'B06XBXNL8W.csv',\n",
       " 'B06XC5NR52.csv',\n",
       " 'B06XC7TYQ9.csv',\n",
       " 'B06XC9ZCFJ.csv',\n",
       " 'B06XCFD9DH.csv',\n",
       " 'B06XCQ2FCL.csv',\n",
       " 'B06XD7MRLN.csv',\n",
       " 'B06XDK78GQ.csv',\n",
       " 'B06XDPS3ST.csv',\n",
       " 'B06XG7WKKL.csv',\n",
       " 'B06XKKGR43.csv',\n",
       " 'B06XKVR8BF.csv',\n",
       " 'B06XNK6DJD.csv',\n",
       " 'B06XP1QHRF.csv',\n",
       " 'B06XPMNP76.csv',\n",
       " 'B06XR7XTZZ.csv',\n",
       " 'B06XR9YC24.csv',\n",
       " 'B06XRR1DH5.csv',\n",
       " 'B06XS47ZS5.csv',\n",
       " 'B06XSHC3BK.csv',\n",
       " 'B06XSLYD2G.csv',\n",
       " 'B06XSZ2BMK.csv',\n",
       " 'B06XT2SZMD.csv',\n",
       " 'B06XT975GZ.csv',\n",
       " 'B06XTPTG1J.csv',\n",
       " 'B06XW7MLB4.csv',\n",
       " 'B06XWCDBTN.csv',\n",
       " 'B06XWGVZ5R.csv',\n",
       " 'B06XWHMP9Q.csv',\n",
       " 'B06Y2FS8FK.csv',\n",
       " 'B06Y2GZWCJ.csv',\n",
       " 'B06Y2WCHDV.csv',\n",
       " 'B06Y3PGPR2.csv',\n",
       " 'B06Y3S2JQT.csv',\n",
       " 'B06Y56NDF4.csv',\n",
       " 'B06Y5JW8NY.csv',\n",
       " 'B06Y6H4ZL6.csv',\n",
       " 'B06ZXXLQTR.csv',\n",
       " 'B06ZYXLK1B.csv',\n",
       " 'B0711HBWJF.csv',\n",
       " 'B0711QXFPK.csv',\n",
       " 'B0711QYPJD.csv',\n",
       " 'B0711T1VHS.csv',\n",
       " 'B0711YMWPF.csv',\n",
       " 'B071225BBS.csv',\n",
       " 'B071229B1M.csv',\n",
       " 'B0713M8Z5L.csv',\n",
       " 'B0714K41PB.csv',\n",
       " 'B0714LZH87.csv',\n",
       " 'B07176372T.csv',\n",
       " 'B07196XBHH.csv',\n",
       " 'B0719BZB8Y.csv',\n",
       " 'B071CDS2L6.csv',\n",
       " 'B071D58ZY5.csv',\n",
       " 'B071DFDF9N.csv',\n",
       " 'B071DNC4GG.csv',\n",
       " 'B071DZHLXH.csv',\n",
       " 'B071F4T9F9.csv',\n",
       " 'B071FG3K9V.csv',\n",
       " 'B071FGCY55.csv',\n",
       " 'B071FQGWMV.csv',\n",
       " 'B071G1J8TZ.csv',\n",
       " 'B071G54J8K.csv',\n",
       " 'B071G5Q3ML.csv',\n",
       " 'B071J2CYVH.csv',\n",
       " 'B071JBX9MQ.csv',\n",
       " 'B071JR7GYP.csv',\n",
       " 'B071KP1J7F.csv',\n",
       " 'B071KW92YV.csv',\n",
       " 'B071LBF331.csv',\n",
       " 'B071LPM6CJ.csv',\n",
       " 'B071RRKXYT.csv',\n",
       " 'B071RVW4ZY.csv',\n",
       " 'B071SH239N.csv',\n",
       " 'B071V6K6CV.csv',\n",
       " 'B071VY856Q.csv',\n",
       " 'B071WMZCFC.csv',\n",
       " 'B071WN24YK.csv',\n",
       " 'B071X8RLJL.csv',\n",
       " 'B071XC6Y64.csv',\n",
       " 'B071YDNHDD.csv',\n",
       " 'B071YVLK63.csv',\n",
       " 'B072266BBN.csv',\n",
       " 'B07227PWVP.csv',\n",
       " 'B07227Q695.csv',\n",
       " 'B0722WRYVB.csv',\n",
       " 'B0722XNTVC.csv',\n",
       " 'B072387KP9.csv',\n",
       " 'B0723FXC74.csv',\n",
       " 'B0725GYNG6.csv',\n",
       " 'B072883CSF.csv',\n",
       " 'B072BVST39.csv',\n",
       " 'B072C7Z8BQ.csv',\n",
       " 'B072F2S4X2.csv',\n",
       " 'B072FC3DWR.csv',\n",
       " 'B072FHPHSZ.csv',\n",
       " 'B072JPR27M.csv',\n",
       " 'B072K59NYZ.csv',\n",
       " 'B072KNGV1K.csv',\n",
       " 'B072LN492H.csv',\n",
       " 'B072LXYJJ8.csv',\n",
       " 'B072MDT1HT.csv',\n",
       " 'B072N4Y9XY.csv',\n",
       " 'B072NH2FQ1.csv',\n",
       " 'B072PWLDK3.csv',\n",
       " 'B072PY74HY.csv',\n",
       " 'B072R6CLRC.csv',\n",
       " 'B072XFH8VS.csv',\n",
       " 'B072XJTV7V.csv',\n",
       " 'B072YXV467.csv',\n",
       " 'B07317NQKW.csv',\n",
       " 'B0733JWP38.csv',\n",
       " 'B0733MD48G.csv',\n",
       " 'B0733ZCSR9.csv',\n",
       " 'B073429DV2.csv',\n",
       " 'B0734LPFJR.csv',\n",
       " 'B073726R5M.csv',\n",
       " 'B0738C7RXF.csv',\n",
       " 'B073DK9B83.csv',\n",
       " 'B073DWVS5T.csv',\n",
       " 'B073G3FZB2.csv',\n",
       " 'B073GKHVXR.csv',\n",
       " 'B073GPG376.csv',\n",
       " 'B073GT1GQ1.csv',\n",
       " 'B073GVW5VL.csv',\n",
       " 'B073H8STZ7.csv',\n",
       " 'B073H95P3L.csv',\n",
       " 'B073KYTWGB.csv',\n",
       " 'B073P2KKXS.csv',\n",
       " 'B073PVNXZ2.csv',\n",
       " 'B073PZB18X.csv',\n",
       " 'B073Q7J2LG.csv',\n",
       " 'B073QGQB85.csv',\n",
       " 'B073QT48GT.csv',\n",
       " 'B073R59XYF.csv',\n",
       " 'B073TH8YX6.csv',\n",
       " 'B073TXH5DS.csv',\n",
       " 'B073V5XZHZ.csv',\n",
       " 'B073V7HP2H.csv',\n",
       " 'B073VLQ5JR.csv',\n",
       " 'B073W4LMPY.csv',\n",
       " 'B073W874J2.csv',\n",
       " 'B073WFCV1L.csv',\n",
       " 'B073WKR1QR.csv',\n",
       " 'B073WRF565.csv',\n",
       " 'B073WYBGP3.csv',\n",
       " 'B073X2QTGK.csv',\n",
       " 'B073XSM1F5.csv',\n",
       " 'B073ZY6XH3.csv',\n",
       " 'B0741D3HLS.csv',\n",
       " 'B0742B6F1H.csv',\n",
       " 'B07452TJ7J.csv',\n",
       " 'B074548M1X.csv',\n",
       " 'B07454C4XG.csv',\n",
       " 'B074565LHW.csv',\n",
       " 'B0746H3KB2.csv',\n",
       " 'B0746MWFWJ.csv',\n",
       " 'B0748XPZHR.csv',\n",
       " 'B0749KYFXX.csv',\n",
       " 'B074B7P1GY.csv',\n",
       " 'B074C9F45S.csv',\n",
       " 'B074FG7RJQ.csv',\n",
       " 'B074FG8RDD.csv',\n",
       " 'B074GGTSQC.csv',\n",
       " 'B074GM132R.csv',\n",
       " 'B074JVZP3V.csv',\n",
       " 'B074M2QBCT.csv',\n",
       " 'B074M3B8Q4.csv',\n",
       " 'B074MF4M4G.csv',\n",
       " 'B074NZY3SQ.csv',\n",
       " 'B074PY3X5V.csv',\n",
       " 'B074Q6T8NS.csv',\n",
       " 'B074QJZQ4M.csv',\n",
       " 'B074QKYGTT.csv',\n",
       " 'B074SDLVFK.csv',\n",
       " 'B074SM12RP.csv',\n",
       " 'B074STTL9Z.csv',\n",
       " 'B074SWD9G9.csv',\n",
       " 'B074T9SK8R.csv',\n",
       " 'B074TTGM23.csv',\n",
       " 'B074W7JS35.csv',\n",
       " 'B074WB5D79.csv',\n",
       " 'B074X8PCH2.csv',\n",
       " 'B074YZX457.csv',\n",
       " 'B074ZHCLMD.csv',\n",
       " 'B07515TW8M.csv',\n",
       " 'B0751BTGBW.csv',\n",
       " 'B0752TK6QY.csv',\n",
       " 'B0755RFK3M.csv',\n",
       " 'B0756XDCKJ.csv',\n",
       " 'B07591K6M3.csv',\n",
       " 'B0759NT5CM.csv',\n",
       " 'B075D9RDS1.csv',\n",
       " 'B075DC6D6G.csv',\n",
       " 'B075F4YTVF.csv',\n",
       " 'B075FHF7TY.csv',\n",
       " 'B075H7KFP6.csv',\n",
       " 'B075KQJL2R.csv',\n",
       " 'B075L81JP5.csv',\n",
       " 'B075LB9HK2.csv',\n",
       " 'B075LQ4WTF.csv',\n",
       " 'B075MNL1RW.csv',\n",
       " 'B075NHR4DC.csv',\n",
       " 'B075NS4TSJ.csv',\n",
       " 'B075QF1LRH.csv',\n",
       " 'B075QKVCC8.csv',\n",
       " 'B075QN5V5H.csv',\n",
       " 'B075QP4Q17.csv',\n",
       " 'B075R15NMW.csv',\n",
       " 'B075SYL9YQ.csv',\n",
       " 'B075TKSLWG.csv',\n",
       " 'B075TV2MX8.csv',\n",
       " 'B075TVFM4T.csv',\n",
       " 'B075TZV6K2.csv',\n",
       " 'B075WPYMB9.csv',\n",
       " 'B075WSQPGL.csv',\n",
       " 'B075X1KPLZ.csv',\n",
       " 'B075XP4TSG.csv',\n",
       " 'B075XRM5J4.csv',\n",
       " 'B075ZZND8B.csv',\n",
       " 'B07611DGJX.csv',\n",
       " 'B0761RFKWG.csv',\n",
       " 'B07622VSV3.csv',\n",
       " 'B0763HRJWN.csv',\n",
       " 'B0764HS4SL.csv',\n",
       " 'B0768ZC23W.csv',\n",
       " 'B076BB7DYS.csv',\n",
       " 'B076CF73K8.csv',\n",
       " 'B076D3FRSH.csv',\n",
       " 'B076DFT21J.csv',\n",
       " 'B076FD8CCF.csv',\n",
       " 'B076FGRHRV.csv',\n",
       " 'B076FJ92M4.csv',\n",
       " 'B076HCRQFZ.csv',\n",
       " 'B076HKCYT8.csv',\n",
       " 'B076HSNBTD.csv',\n",
       " 'B076JD153W.csv',\n",
       " ...]"
      ]
     },
     "execution_count": 3,
     "metadata": {},
     "output_type": "execute_result"
    }
   ],
   "source": [
    "file_list_py"
   ]
  },
  {
   "cell_type": "code",
   "execution_count": 4,
   "id": "753c3c25",
   "metadata": {
    "ExecuteTime": {
     "end_time": "2022-07-17T14:33:18.035684Z",
     "start_time": "2022-07-17T14:33:18.021727Z"
    }
   },
   "outputs": [
    {
     "data": {
      "text/plain": [
       "4441"
      ]
     },
     "execution_count": 4,
     "metadata": {},
     "output_type": "execute_result"
    }
   ],
   "source": [
    "len(file_list_py)"
   ]
  },
  {
   "cell_type": "code",
   "execution_count": 5,
   "id": "0f97058c",
   "metadata": {
    "ExecuteTime": {
     "end_time": "2022-07-17T15:41:07.976455Z",
     "start_time": "2022-07-17T14:33:18.036682Z"
    },
    "scrolled": false
   },
   "outputs": [
    {
     "name": "stderr",
     "output_type": "stream",
     "text": [
      " 55%|███████████████████████████████████████████▏                                  | 2460/4441 [38:26<31:09,  1.06it/s]"
     ]
    },
    {
     "name": "stdout",
     "output_type": "stream",
     "text": [
      "B0874RD9C9\n"
     ]
    },
    {
     "name": "stderr",
     "output_type": "stream",
     "text": [
      " 64%|█████████████████████████████████████████████████▊                            | 2835/4441 [44:27<22:59,  1.16it/s]"
     ]
    },
    {
     "name": "stdout",
     "output_type": "stream",
     "text": [
      "B08JC53GG4\n"
     ]
    },
    {
     "name": "stderr",
     "output_type": "stream",
     "text": [
      " 75%|██████████████████████████████████████████████████████████▎                   | 3323/4441 [52:11<17:41,  1.05it/s]"
     ]
    },
    {
     "name": "stdout",
     "output_type": "stream",
     "text": [
      "B091NMJ7JT\n"
     ]
    },
    {
     "name": "stderr",
     "output_type": "stream",
     "text": [
      " 77%|████████████████████████████████████████████████████████████▍                 | 3439/4441 [54:02<17:01,  1.02s/it]"
     ]
    },
    {
     "name": "stdout",
     "output_type": "stream",
     "text": [
      "B094K2Y285\n"
     ]
    },
    {
     "name": "stderr",
     "output_type": "stream",
     "text": [
      " 79%|█████████████████████████████████████████████████████████████▌                | 3504/4441 [55:02<13:30,  1.16it/s]"
     ]
    },
    {
     "name": "stdout",
     "output_type": "stream",
     "text": [
      "B095WMK6K6\n"
     ]
    },
    {
     "name": "stderr",
     "output_type": "stream",
     "text": [
      " 85%|█████████████████████████████████████████████████████████████████▉            | 3754/4441 [58:56<10:44,  1.07it/s]"
     ]
    },
    {
     "name": "stdout",
     "output_type": "stream",
     "text": [
      "B09DKKYHZP\n"
     ]
    },
    {
     "name": "stderr",
     "output_type": "stream",
     "text": [
      " 85%|██████████████████████████████████████████████████████████████████            | 3761/4441 [59:02<09:42,  1.17it/s]"
     ]
    },
    {
     "name": "stdout",
     "output_type": "stream",
     "text": [
      "B09DPXYJQ8\n"
     ]
    },
    {
     "name": "stderr",
     "output_type": "stream",
     "text": [
      " 88%|██████████████████████████████████████████████████████████████████▊         | 3906/4441 [1:01:15<08:20,  1.07it/s]"
     ]
    },
    {
     "name": "stdout",
     "output_type": "stream",
     "text": [
      "B09JP2DZJB\n"
     ]
    },
    {
     "name": "stderr",
     "output_type": "stream",
     "text": [
      " 89%|███████████████████████████████████████████████████████████████████▍        | 3944/4441 [1:01:49<07:36,  1.09it/s]"
     ]
    },
    {
     "name": "stdout",
     "output_type": "stream",
     "text": [
      "B09KXQ6SFW\n"
     ]
    },
    {
     "name": "stderr",
     "output_type": "stream",
     "text": [
      " 89%|███████████████████████████████████████████████████████████████████▌        | 3951/4441 [1:01:55<06:30,  1.26it/s]"
     ]
    },
    {
     "name": "stdout",
     "output_type": "stream",
     "text": [
      "B09LCFXGKD\n"
     ]
    },
    {
     "name": "stderr",
     "output_type": "stream",
     "text": [
      " 89%|███████████████████████████████████████████████████████████████████▋        | 3958/4441 [1:02:00<06:46,  1.19it/s]"
     ]
    },
    {
     "name": "stdout",
     "output_type": "stream",
     "text": [
      "B09LHXF11Z\n",
      "B09LHYRV8S\n"
     ]
    },
    {
     "name": "stderr",
     "output_type": "stream",
     "text": [
      " 90%|████████████████████████████████████████████████████████████████████▌       | 4010/4441 [1:02:45<06:29,  1.11it/s]"
     ]
    },
    {
     "name": "stdout",
     "output_type": "stream",
     "text": [
      "B09MRN194F\n"
     ]
    },
    {
     "name": "stderr",
     "output_type": "stream",
     "text": [
      " 91%|█████████████████████████████████████████████████████████████████████▏      | 4043/4441 [1:03:11<05:34,  1.19it/s]"
     ]
    },
    {
     "name": "stdout",
     "output_type": "stream",
     "text": [
      "B09NB1LWK4\n"
     ]
    },
    {
     "name": "stderr",
     "output_type": "stream",
     "text": [
      " 91%|█████████████████████████████████████████████████████████████████████▎      | 4051/4441 [1:03:17<05:12,  1.25it/s]"
     ]
    },
    {
     "name": "stdout",
     "output_type": "stream",
     "text": [
      "B09NFL88SR\n"
     ]
    },
    {
     "name": "stderr",
     "output_type": "stream",
     "text": [
      " 92%|█████████████████████████████████████████████████████████████████████▌      | 4064/4441 [1:03:29<05:54,  1.06it/s]"
     ]
    },
    {
     "name": "stdout",
     "output_type": "stream",
     "text": [
      "B09NQVQR8W\n"
     ]
    },
    {
     "name": "stderr",
     "output_type": "stream",
     "text": [
      " 92%|█████████████████████████████████████████████████████████████████████▊      | 4081/4441 [1:03:42<05:27,  1.10it/s]"
     ]
    },
    {
     "name": "stdout",
     "output_type": "stream",
     "text": [
      "B09P4Q9V16\n"
     ]
    },
    {
     "name": "stderr",
     "output_type": "stream",
     "text": [
      " 92%|█████████████████████████████████████████████████████████████████████▉      | 4084/4441 [1:03:44<04:45,  1.25it/s]"
     ]
    },
    {
     "name": "stdout",
     "output_type": "stream",
     "text": [
      "B09P57JRWP\n"
     ]
    },
    {
     "name": "stderr",
     "output_type": "stream",
     "text": [
      " 92%|██████████████████████████████████████████████████████████████████████      | 4095/4441 [1:03:53<05:22,  1.07it/s]"
     ]
    },
    {
     "name": "stdout",
     "output_type": "stream",
     "text": [
      "B09PFKT8HM\n"
     ]
    },
    {
     "name": "stderr",
     "output_type": "stream",
     "text": [
      " 93%|██████████████████████████████████████████████████████████████████████▍     | 4119/4441 [1:04:13<04:38,  1.15it/s]"
     ]
    },
    {
     "name": "stdout",
     "output_type": "stream",
     "text": [
      "B09PZX4N9P\n"
     ]
    },
    {
     "name": "stderr",
     "output_type": "stream",
     "text": [
      " 93%|██████████████████████████████████████████████████████████████████████▌     | 4122/4441 [1:04:15<03:53,  1.37it/s]"
     ]
    },
    {
     "name": "stdout",
     "output_type": "stream",
     "text": [
      "B09Q14RVXP\n"
     ]
    },
    {
     "name": "stderr",
     "output_type": "stream",
     "text": [
      " 93%|██████████████████████████████████████████████████████████████████████▋     | 4129/4441 [1:04:20<04:19,  1.20it/s]"
     ]
    },
    {
     "name": "stdout",
     "output_type": "stream",
     "text": [
      "B09Q37YLY1\n"
     ]
    },
    {
     "name": "stderr",
     "output_type": "stream",
     "text": [
      " 94%|███████████████████████████████████████████████████████████████████████▏    | 4159/4441 [1:04:45<03:53,  1.21it/s]"
     ]
    },
    {
     "name": "stdout",
     "output_type": "stream",
     "text": [
      "B09QQDYDQ4\n"
     ]
    },
    {
     "name": "stderr",
     "output_type": "stream",
     "text": [
      " 94%|███████████████████████████████████████████████████████████████████████▎    | 4168/4441 [1:04:52<03:59,  1.14it/s]"
     ]
    },
    {
     "name": "stdout",
     "output_type": "stream",
     "text": [
      "B09QY76QRN\n"
     ]
    },
    {
     "name": "stderr",
     "output_type": "stream",
     "text": [
      " 94%|███████████████████████████████████████████████████████████████████████▌    | 4182/4441 [1:05:03<04:07,  1.05it/s]"
     ]
    },
    {
     "name": "stdout",
     "output_type": "stream",
     "text": [
      "B09RVPF7C2\n"
     ]
    },
    {
     "name": "stderr",
     "output_type": "stream",
     "text": [
      " 94%|███████████████████████████████████████████████████████████████████████▋    | 4186/4441 [1:05:06<03:19,  1.28it/s]"
     ]
    },
    {
     "name": "stdout",
     "output_type": "stream",
     "text": [
      "B09S2XSVTT\n"
     ]
    },
    {
     "name": "stderr",
     "output_type": "stream",
     "text": [
      " 95%|████████████████████████████████████████████████████████████████████████    | 4212/4441 [1:05:26<02:38,  1.45it/s]"
     ]
    },
    {
     "name": "stdout",
     "output_type": "stream",
     "text": [
      "B09SXL2168\n"
     ]
    },
    {
     "name": "stderr",
     "output_type": "stream",
     "text": [
      " 95%|████████████████████████████████████████████████████████████████████████▎   | 4224/4441 [1:05:35<02:58,  1.21it/s]"
     ]
    },
    {
     "name": "stdout",
     "output_type": "stream",
     "text": [
      "B09T6LVL2Y\n"
     ]
    },
    {
     "name": "stderr",
     "output_type": "stream",
     "text": [
      " 95%|████████████████████████████████████████████████████████████████████████▎   | 4229/4441 [1:05:39<02:44,  1.29it/s]"
     ]
    },
    {
     "name": "stdout",
     "output_type": "stream",
     "text": [
      "B09TB2Z8J9\n"
     ]
    },
    {
     "name": "stderr",
     "output_type": "stream",
     "text": [
      " 95%|████████████████████████████████████████████████████████████████████████▌   | 4238/4441 [1:05:46<03:00,  1.13it/s]"
     ]
    },
    {
     "name": "stdout",
     "output_type": "stream",
     "text": [
      "B09TKW2JTC\n"
     ]
    },
    {
     "name": "stderr",
     "output_type": "stream",
     "text": [
      " 95%|████████████████████████████████████████████████████████████████████████▌   | 4241/4441 [1:05:48<02:25,  1.38it/s]"
     ]
    },
    {
     "name": "stdout",
     "output_type": "stream",
     "text": [
      "B09TQF988N\n"
     ]
    },
    {
     "name": "stderr",
     "output_type": "stream",
     "text": [
      " 96%|████████████████████████████████████████████████████████████████████████▋   | 4245/4441 [1:05:51<02:27,  1.33it/s]"
     ]
    },
    {
     "name": "stdout",
     "output_type": "stream",
     "text": [
      "B09TR52YDV\n"
     ]
    },
    {
     "name": "stderr",
     "output_type": "stream",
     "text": [
      "\r\n",
      " 96%|████████████████████████████████████████████████████████████████████████▋   | 4247/4441 [1:05:51<01:53,  1.71it/s]"
     ]
    },
    {
     "name": "stdout",
     "output_type": "stream",
     "text": [
      "B09TSFZ6RB\n"
     ]
    },
    {
     "name": "stderr",
     "output_type": "stream",
     "text": [
      " 96%|████████████████████████████████████████████████████████████████████████▊   | 4253/4441 [1:05:55<01:57,  1.59it/s]"
     ]
    },
    {
     "name": "stdout",
     "output_type": "stream",
     "text": [
      "B09TSZ5H2H\n"
     ]
    },
    {
     "name": "stderr",
     "output_type": "stream",
     "text": [
      " 96%|█████████████████████████████████████████████████████████████████████████   | 4271/4441 [1:06:11<02:48,  1.01it/s]"
     ]
    },
    {
     "name": "stdout",
     "output_type": "stream",
     "text": [
      "B09V2G6Z94\n"
     ]
    },
    {
     "name": "stderr",
     "output_type": "stream",
     "text": [
      " 96%|█████████████████████████████████████████████████████████████████████████▏  | 4274/4441 [1:06:13<02:16,  1.22it/s]"
     ]
    },
    {
     "name": "stdout",
     "output_type": "stream",
     "text": [
      "B09V57KRS4\n",
      "B09V5LL8N1\n"
     ]
    },
    {
     "name": "stderr",
     "output_type": "stream",
     "text": [
      " 97%|█████████████████████████████████████████████████████████████████████████▌  | 4296/4441 [1:06:30<02:08,  1.13it/s]"
     ]
    },
    {
     "name": "stdout",
     "output_type": "stream",
     "text": [
      "B09VLGTMR8\n"
     ]
    },
    {
     "name": "stderr",
     "output_type": "stream",
     "text": [
      " 97%|█████████████████████████████████████████████████████████████████████████▌  | 4301/4441 [1:06:33<01:34,  1.49it/s]"
     ]
    },
    {
     "name": "stdout",
     "output_type": "stream",
     "text": [
      "B09VT9HQBX\n"
     ]
    },
    {
     "name": "stderr",
     "output_type": "stream",
     "text": [
      " 97%|█████████████████████████████████████████████████████████████████████████▋  | 4308/4441 [1:06:38<01:39,  1.33it/s]"
     ]
    },
    {
     "name": "stdout",
     "output_type": "stream",
     "text": [
      "B09W2LGGJM\n"
     ]
    },
    {
     "name": "stderr",
     "output_type": "stream",
     "text": [
      " 97%|█████████████████████████████████████████████████████████████████████████▊  | 4316/4441 [1:06:44<01:46,  1.18it/s]"
     ]
    },
    {
     "name": "stdout",
     "output_type": "stream",
     "text": [
      "B09W8TWD5L\n"
     ]
    },
    {
     "name": "stderr",
     "output_type": "stream",
     "text": [
      " 97%|█████████████████████████████████████████████████████████████████████████▉  | 4323/4441 [1:06:49<01:26,  1.37it/s]"
     ]
    },
    {
     "name": "stdout",
     "output_type": "stream",
     "text": [
      "B09WF1XYWH\n"
     ]
    },
    {
     "name": "stderr",
     "output_type": "stream",
     "text": [
      " 97%|██████████████████████████████████████████████████████████████████████████  | 4327/4441 [1:06:52<01:29,  1.27it/s]"
     ]
    },
    {
     "name": "stdout",
     "output_type": "stream",
     "text": [
      "B09WHMF6WQ\n",
      "B09WJFPRJT\n"
     ]
    },
    {
     "name": "stderr",
     "output_type": "stream",
     "text": [
      " 98%|██████████████████████████████████████████████████████████████████████████▏ | 4337/4441 [1:06:58<01:24,  1.23it/s]"
     ]
    },
    {
     "name": "stdout",
     "output_type": "stream",
     "text": [
      "B09WR5V1X7\n"
     ]
    },
    {
     "name": "stderr",
     "output_type": "stream",
     "text": [
      " 98%|██████████████████████████████████████████████████████████████████████████▎ | 4342/4441 [1:07:02<01:19,  1.25it/s]"
     ]
    },
    {
     "name": "stdout",
     "output_type": "stream",
     "text": [
      "B09X1J41HD\n"
     ]
    },
    {
     "name": "stderr",
     "output_type": "stream",
     "text": [
      " 98%|██████████████████████████████████████████████████████████████████████████▎ | 4345/4441 [1:07:04<01:08,  1.40it/s]"
     ]
    },
    {
     "name": "stdout",
     "output_type": "stream",
     "text": [
      "B09X572KS9\n",
      "B09X5PBRRR\n"
     ]
    },
    {
     "name": "stderr",
     "output_type": "stream",
     "text": [
      " 98%|██████████████████████████████████████████████████████████████████████████▍ | 4350/4441 [1:07:06<00:51,  1.78it/s]"
     ]
    },
    {
     "name": "stdout",
     "output_type": "stream",
     "text": [
      "B09X9RY3DG\n"
     ]
    },
    {
     "name": "stderr",
     "output_type": "stream",
     "text": [
      " 98%|██████████████████████████████████████████████████████████████████████████▍ | 4353/4441 [1:07:08<00:53,  1.66it/s]"
     ]
    },
    {
     "name": "stdout",
     "output_type": "stream",
     "text": [
      "B09XDQTTW2\n",
      "B09XDQZ7H8\n"
     ]
    },
    {
     "name": "stderr",
     "output_type": "stream",
     "text": [
      " 98%|██████████████████████████████████████████████████████████████████████████▋ | 4361/4441 [1:07:13<01:04,  1.25it/s]"
     ]
    },
    {
     "name": "stdout",
     "output_type": "stream",
     "text": [
      "B09XQZW921\n",
      "B09XRD6MDM\n",
      "B09XRG1VRH\n"
     ]
    },
    {
     "name": "stderr",
     "output_type": "stream",
     "text": [
      "\r\n",
      " 98%|██████████████████████████████████████████████████████████████████████████▋ | 4365/4441 [1:07:14<00:35,  2.12it/s]"
     ]
    },
    {
     "name": "stdout",
     "output_type": "stream",
     "text": [
      "B09XTSMSFH\n"
     ]
    },
    {
     "name": "stderr",
     "output_type": "stream",
     "text": [
      "\r\n",
      " 98%|██████████████████████████████████████████████████████████████████████████▋ | 4367/4441 [1:07:15<00:34,  2.12it/s]"
     ]
    },
    {
     "name": "stdout",
     "output_type": "stream",
     "text": [
      "B09XV43HFP\n",
      "B09XV4H9BM\n"
     ]
    },
    {
     "name": "stderr",
     "output_type": "stream",
     "text": [
      "\r\n",
      " 98%|██████████████████████████████████████████████████████████████████████████▊ | 4370/4441 [1:07:15<00:25,  2.83it/s]"
     ]
    },
    {
     "name": "stdout",
     "output_type": "stream",
     "text": [
      "B09XXJ3SZR\n"
     ]
    },
    {
     "name": "stderr",
     "output_type": "stream",
     "text": [
      "\r\n",
      " 98%|██████████████████████████████████████████████████████████████████████████▊ | 4372/4441 [1:07:16<00:27,  2.54it/s]"
     ]
    },
    {
     "name": "stdout",
     "output_type": "stream",
     "text": [
      "B09Y1NPBTD\n"
     ]
    },
    {
     "name": "stderr",
     "output_type": "stream",
     "text": [
      "\r\n",
      " 98%|██████████████████████████████████████████████████████████████████████████▊ | 4374/4441 [1:07:17<00:27,  2.41it/s]"
     ]
    },
    {
     "name": "stdout",
     "output_type": "stream",
     "text": [
      "B09Y5R6JM8\n",
      "B09Y881J1G\n",
      "B09Y8RYLC4\n",
      "B09Y91M7HJ\n"
     ]
    },
    {
     "name": "stderr",
     "output_type": "stream",
     "text": [
      "\r\n",
      " 99%|██████████████████████████████████████████████████████████████████████████▉ | 4379/4441 [1:07:18<00:19,  3.26it/s]"
     ]
    },
    {
     "name": "stdout",
     "output_type": "stream",
     "text": [
      "B09YH8Q9QQ\n",
      "B09YH94GVB\n"
     ]
    },
    {
     "name": "stderr",
     "output_type": "stream",
     "text": [
      "\r\n",
      " 99%|██████████████████████████████████████████████████████████████████████████▉ | 4382/4441 [1:07:19<00:18,  3.28it/s]"
     ]
    },
    {
     "name": "stdout",
     "output_type": "stream",
     "text": [
      "B09YK9X77K\n"
     ]
    },
    {
     "name": "stderr",
     "output_type": "stream",
     "text": [
      " 99%|███████████████████████████████████████████████████████████████████████████▏| 4392/4441 [1:07:27<00:38,  1.27it/s]"
     ]
    },
    {
     "name": "stdout",
     "output_type": "stream",
     "text": [
      "B09YTYPYP1\n",
      "B09YV9B4D6\n"
     ]
    },
    {
     "name": "stderr",
     "output_type": "stream",
     "text": [
      " 99%|███████████████████████████████████████████████████████████████████████████▎| 4398/4441 [1:07:31<00:31,  1.39it/s]"
     ]
    },
    {
     "name": "stdout",
     "output_type": "stream",
     "text": [
      "B09YYC29HX\n",
      "B09YYKZXZD\n",
      "B09Z1P4D9Z\n"
     ]
    },
    {
     "name": "stderr",
     "output_type": "stream",
     "text": [
      "\r\n",
      " 99%|███████████████████████████████████████████████████████████████████████████▎| 4402/4441 [1:07:31<00:16,  2.30it/s]"
     ]
    },
    {
     "name": "stdout",
     "output_type": "stream",
     "text": [
      "B09Z5VDZ2Q\n"
     ]
    },
    {
     "name": "stderr",
     "output_type": "stream",
     "text": [
      "\r\n",
      " 99%|███████████████████████████████████████████████████████████████████████████▎| 4404/4441 [1:07:32<00:13,  2.76it/s]"
     ]
    },
    {
     "name": "stdout",
     "output_type": "stream",
     "text": [
      "B09Z9H6N1C\n",
      "B09Z9HM382\n",
      "B09ZHSQS4V\n",
      "B09ZHTYYKZ\n"
     ]
    },
    {
     "name": "stderr",
     "output_type": "stream",
     "text": [
      " 99%|███████████████████████████████████████████████████████████████████████████▌| 4412/4441 [1:07:35<00:12,  2.28it/s]"
     ]
    },
    {
     "name": "stdout",
     "output_type": "stream",
     "text": [
      "B09ZPG3XNQ\n"
     ]
    },
    {
     "name": "stderr",
     "output_type": "stream",
     "text": [
      "\r\n",
      " 99%|███████████████████████████████████████████████████████████████████████████▌| 4414/4441 [1:07:36<00:12,  2.21it/s]"
     ]
    },
    {
     "name": "stdout",
     "output_type": "stream",
     "text": [
      "B09ZQM8WZR\n",
      "B09ZQS2MQD\n"
     ]
    },
    {
     "name": "stderr",
     "output_type": "stream",
     "text": [
      "\r\n",
      " 99%|███████████████████████████████████████████████████████████████████████████▌| 4417/4441 [1:07:36<00:08,  2.84it/s]"
     ]
    },
    {
     "name": "stdout",
     "output_type": "stream",
     "text": [
      "B09ZV9Q3P1\n",
      "B09ZVCQ9GS\n",
      "B09ZYDL7DN\n"
     ]
    },
    {
     "name": "stderr",
     "output_type": "stream",
     "text": [
      "\r\n",
      "100%|███████████████████████████████████████████████████████████████████████████▋| 4421/4441 [1:07:37<00:05,  3.52it/s]"
     ]
    },
    {
     "name": "stdout",
     "output_type": "stream",
     "text": [
      "B0B18KJF62\n",
      "B0B1B1ZH2T\n"
     ]
    },
    {
     "name": "stderr",
     "output_type": "stream",
     "text": [
      "100%|███████████████████████████████████████████████████████████████████████████▊| 4429/4441 [1:07:43<00:08,  1.37it/s]"
     ]
    },
    {
     "name": "stdout",
     "output_type": "stream",
     "text": [
      "B0B2DFNCRR\n"
     ]
    },
    {
     "name": "stderr",
     "output_type": "stream",
     "text": [
      "100%|███████████████████████████████████████████████████████████████████████████▊| 4432/4441 [1:07:45<00:06,  1.43it/s]"
     ]
    },
    {
     "name": "stdout",
     "output_type": "stream",
     "text": [
      "B0B2P7PPPS\n",
      "B0B2PGGJLW\n"
     ]
    },
    {
     "name": "stderr",
     "output_type": "stream",
     "text": [
      "\r\n",
      "100%|███████████████████████████████████████████████████████████████████████████▉| 4435/4441 [1:07:46<00:02,  2.06it/s]"
     ]
    },
    {
     "name": "stdout",
     "output_type": "stream",
     "text": [
      "B0B2ZSJQ5V\n"
     ]
    },
    {
     "name": "stderr",
     "output_type": "stream",
     "text": [
      "100%|████████████████████████████████████████████████████████████████████████████| 4441/4441 [1:07:49<00:00,  1.09it/s]"
     ]
    },
    {
     "name": "stdout",
     "output_type": "stream",
     "text": [
      "B0B4C4VTLR\n"
     ]
    },
    {
     "name": "stderr",
     "output_type": "stream",
     "text": [
      "\n"
     ]
    }
   ],
   "source": [
    "df = pd.DataFrame()\n",
    "wordcloud_path = ''\n",
    "for i in tqdm(file_list_py):\n",
    "    try:\n",
    "        data = pd.read_csv(path + i)\n",
    "        data['body2']=data['Body'].apply(lambda x: re.sub('[^a-zA-Z]', ' ', str(x)).lower())\n",
    "        data\n",
    "\n",
    "        stop_words = set(stopwords.words('english')) \n",
    "        data['Words']=data['body2'].apply(lambda x: word_tokenize(x))\n",
    "        tokens=[]\n",
    "        for words in data['Words']:\n",
    "            for a in words:\n",
    "                if a not in stop_words and len(a) >1 and a != 'go' and a != 'tv' :\n",
    "                    tokens.append(a)\n",
    "\n",
    "        real_words=[]\n",
    "        for t in tokens:\n",
    "            real_words.append(t)\n",
    "\n",
    "        if sys.platform in ['win32','win64']:\n",
    "            font_name='malgun gothic'\n",
    "\n",
    "        rc('font',family=font_name)\n",
    "\n",
    "        counts_selected=Counter(real_words)\n",
    "        counts_selected.most_common(50)\n",
    "        i = i[:10]\n",
    "\n",
    "        if platform.system()=='Windows':\n",
    "            font_path=''\n",
    "\n",
    "        wordcloud=WordCloud(font_path=font_path,\n",
    "                           background_color='white',\n",
    "                           max_words=100,\n",
    "                           relative_scaling=0.3,\n",
    "                           width=800,\n",
    "                           height=400).generate_from_frequencies(counts_selected)\n",
    "\n",
    "        plt.figure(figsize=(15,10))\n",
    "        plt.imshow(wordcloud)\n",
    "        plt.axis('off')\n",
    "        plt.ioff()\n",
    "        plt.savefig(f'{wordcloud_path}/{i}')\n",
    "        plt.close()\n",
    "        \n",
    "    except Exception as e:\n",
    "        print(i)\n",
    "        pass"
   ]
  }
 ],
 "metadata": {
  "kernelspec": {
   "display_name": "Python 3.9.7 ('base')",
   "language": "python",
   "name": "python3"
  },
  "language_info": {
   "codemirror_mode": {
    "name": "ipython",
    "version": 3
   },
   "file_extension": ".py",
   "mimetype": "text/x-python",
   "name": "python",
   "nbconvert_exporter": "python",
   "pygments_lexer": "ipython3",
   "version": "3.9.7"
  },
  "toc": {
   "base_numbering": 1,
   "nav_menu": {},
   "number_sections": true,
   "sideBar": true,
   "skip_h1_title": false,
   "title_cell": "Table of Contents",
   "title_sidebar": "Contents",
   "toc_cell": false,
   "toc_position": {},
   "toc_section_display": true,
   "toc_window_display": false
  },
  "varInspector": {
   "cols": {
    "lenName": 16,
    "lenType": 16,
    "lenVar": 40
   },
   "kernels_config": {
    "python": {
     "delete_cmd_postfix": "",
     "delete_cmd_prefix": "del ",
     "library": "var_list.py",
     "varRefreshCmd": "print(var_dic_list())"
    },
    "r": {
     "delete_cmd_postfix": ") ",
     "delete_cmd_prefix": "rm(",
     "library": "var_list.r",
     "varRefreshCmd": "cat(var_dic_list()) "
    }
   },
   "types_to_exclude": [
    "module",
    "function",
    "builtin_function_or_method",
    "instance",
    "_Feature"
   ],
   "window_display": false
  },
  "vscode": {
   "interpreter": {
    "hash": "1ef078467dd63487d90c66fda3d945ae0cf08fcbb11ad780475c9b39620e3c77"
   }
  }
 },
 "nbformat": 4,
 "nbformat_minor": 5
}
